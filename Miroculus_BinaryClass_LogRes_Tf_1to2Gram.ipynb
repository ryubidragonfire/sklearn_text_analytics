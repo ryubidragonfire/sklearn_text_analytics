{
 "cells": [
  {
   "cell_type": "markdown",
   "metadata": {},
   "source": [
    "## Load data"
   ]
  },
  {
   "cell_type": "code",
   "execution_count": 1,
   "metadata": {
    "collapsed": false,
    "scrolled": true
   },
   "outputs": [],
   "source": [
    "file_test = 'C:\\Data\\Miroculus\\A3_1_2016_text_inputs\\A3_1_2016_binary_data_entities_normalize_rmstopwords_stem_test.tsv'\n",
    "file_train = 'C:\\Data\\Miroculus\\A3_1_2016_text_inputs\\A3_1_2016_binary_data_entities_normalize_rmstopwords_stem_train.tsv'"
   ]
  },
  {
   "cell_type": "code",
   "execution_count": 2,
   "metadata": {
    "collapsed": false,
    "scrolled": true
   },
   "outputs": [
    {
     "data": {
      "text/plain": [
       "<bound method NDFrame.head of              Label                                               Text\n",
       "0      NO_RELATION  result identifi previous report breast cancer-...\n",
       "1      NO_RELATION  conclus taken togeth mmvarentty1mm/ggvarentty1...\n",
       "2         RELATION  revers correl mmvarentty1mm ggvarentty1gg also...\n",
       "3         RELATION  result suggest recognit site mmvarentty1mm mmv...\n",
       "4         RELATION  issu jci ghosh colleagu identifi uniqu microrn...\n",
       "5      NO_RELATION  conclus mmvarentty1mm may promot cell ggvarent...\n",
       "6      NO_RELATION        howev role mmvarentty1mm npc remain unknown\n",
       "7         RELATION  targetscan predict ggvarentty1gg ggvarentty2gg...\n",
       "8      NO_RELATION  increas mmvarentty1mm depend upon ggvarentty1g...\n",
       "9      NO_RELATION  revers correl mmvarentty1mm ggvarentty1gg expr...\n",
       "10        RELATION  studi identifi mmvarentty1mm mmvarentty2mm mic...\n",
       "11        RELATION  show mmvarentty1mm oncosuppress microrna lost ...\n",
       "12     NO_RELATION  newli identifi mmvarentty1mm/ggvarentty1gg ggv...\n",
       "13        RELATION  data place mmvarentty1mm regulatori loop ggvar...\n",
       "14        RELATION  result suggest suppress mmvarentty1mm express ...\n",
       "15        RELATION  among mmvarentty1mm relat ggvarentty1gg resist...\n",
       "16        RELATION  knockdown mmvarentty1mm enhanc anticanc effect...\n",
       "17        RELATION  use bioinformat identifi three potenti target ...\n",
       "18     NO_RELATION  show amongst mirna down-regul mmvarentty1mm mm...\n",
       "19     NO_RELATION  studi express matur mmvarentty1mm breast tumor...\n",
       "20     NO_RELATION  collect find highlight mmvarentty1mm/mmvarentt...\n",
       "21     NO_RELATION  ggvarentty1gg overexpress pdac also direct tar...\n",
       "22     NO_RELATION  conclus mmvarentty1mm level potenti establish ...\n",
       "23     NO_RELATION  show central tumour suppressor ggvarentty1gg e...\n",
       "24        RELATION  valid ggvarentty1gg ggvarentty2gg ggvarentty3g...\n",
       "25     NO_RELATION  furthermor mcf7 cell overexpress mmvarentty1mm...\n",
       "26     NO_RELATION  present studi aim investig express regulatori ...\n",
       "27     NO_RELATION  protein microarray reveal knockdown ggvarentty...\n",
       "28        RELATION  like neg regul ggvarentty1gg ggvarentty2gg mmv...\n",
       "29        RELATION  identifi ggvarentty1gg ggvarentty2gg direct mm...\n",
       "...            ...                                                ...\n",
       "10753  NO_RELATION  howev mmvarentty1mm rare character chronic mye...\n",
       "10754  NO_RELATION  ggvarentty1gg growth evalu vivo imag luciferas...\n",
       "10755     RELATION  result suggest ggvarentty1gg ggvarentty2gg gen...\n",
       "10756     RELATION  forc express mmvarentty1mm dramat inhibit leuk...\n",
       "10757  NO_RELATION  studi suggest manipul mmvarentty1mm express us...\n",
       "10758  NO_RELATION  taqman microrna assay show down-regul mmvarent...\n",
       "10759     RELATION  also correl express ggvarentty1gg mrna mirna e...\n",
       "10760  NO_RELATION  function effect mmvarentty1mm inhibit growth h...\n",
       "10761  NO_RELATION  moreov found ggvarentty1gg express regul post-...\n",
       "10762  NO_RELATION  found mmvarentty1mm rs2910164 polymorph associ...\n",
       "10763  NO_RELATION  aim studi investig express pattern prognost re...\n",
       "10764     RELATION  invers correl found mmvarentty1mm ggvarentty1g...\n",
       "10765  NO_RELATION  final function studi demonstr mmvarentty1mm kn...\n",
       "10766  NO_RELATION  method perform real-tim pcr western blot cck8 ...\n",
       "10767     RELATION  investig reveal mmvarentty1mm target ggvarentt...\n",
       "10768  NO_RELATION  analys reveal mmvarentty1mm regul upstream pro...\n",
       "10769     RELATION  identifi manganes ggvarentty1gg mnsod messeng ...\n",
       "10770     RELATION  find indic mmvarentty1mm upregul gc may key ro...\n",
       "10771     RELATION  restor mmvarentty1mm silenc ggvarentty1gg znf2...\n",
       "10772  NO_RELATION  endometri express zeb ggvarentty1gg patient ex...\n",
       "10773     RELATION  ggvarentty1gg neg regul mmvarentty1mm post-tra...\n",
       "10774  NO_RELATION  murin ggvarentty1gg increas mmvarentty1mm expr...\n",
       "10775     RELATION  ggvarentty1gg ggvarentty2gg protein express up...\n",
       "10776  NO_RELATION  result show mmvarentty1mm significantli downre...\n",
       "10777  NO_RELATION  investig clinic import mmvarentty1mm select hi...\n",
       "10778     RELATION  h2o2 upregul ggvarentty1gg mmvarentty1mm downr...\n",
       "10779  NO_RELATION  identifi ggvarentty1gg direct mmvarentty1mm ta...\n",
       "10780     RELATION  stabl overexpress mmvarentty1mm a549 cell resu...\n",
       "10781  NO_RELATION  result product microrna ggvarentty1gg-21 ggvar...\n",
       "10782  NO_RELATION  conclus polymorph mmvarentty1mm gene unlik sub...\n",
       "\n",
       "[10783 rows x 2 columns]>"
      ]
     },
     "execution_count": 2,
     "metadata": {},
     "output_type": "execute_result"
    }
   ],
   "source": [
    "import pandas as pd\n",
    "test = pd.read_csv(file_test, quotechar='\"', delimiter='\\t', header=None, names=['Label', 'Text'])\n",
    "train = pd.read_csv(file_train, quotechar='\"', delimiter='\\t', header=None, names=['Label', 'Text'])\n",
    "test.head; train.head"
   ]
  },
  {
   "cell_type": "markdown",
   "metadata": {},
   "source": [
    "## Vectorise text data into numerical vector"
   ]
  },
  {
   "cell_type": "markdown",
   "metadata": {},
   "source": [
    "### Using `CountVectorizer`"
   ]
  },
  {
   "cell_type": "code",
   "execution_count": 3,
   "metadata": {
    "collapsed": false,
    "scrolled": true
   },
   "outputs": [],
   "source": [
    "from sklearn.feature_extraction.text import CountVectorizer\n",
    "tf_vectorizer = CountVectorizer(analyzer='word', stop_words='english', ngram_range=(1,2), max_df=0.9, min_df=0.01)\n",
    "train_tf_vectors = tf_vectorizer.fit_transform(train.Text)"
   ]
  },
  {
   "cell_type": "markdown",
   "metadata": {},
   "source": [
    "** Note: ** Numbers not removed. Consider removing numbers."
   ]
  },
  {
   "cell_type": "markdown",
   "metadata": {},
   "source": [
    "`tf_vectorizer.vocabulary_` is a `dict`"
   ]
  },
  {
   "cell_type": "code",
   "execution_count": 4,
   "metadata": {
    "collapsed": false,
    "scrolled": true
   },
   "outputs": [
    {
     "data": {
      "text/plain": [
       "{'001': 0,\n",
       " '05': 1,\n",
       " '16': 2,\n",
       " '3p': 3,\n",
       " '5p': 4,\n",
       " 'act': 5,\n",
       " 'activ': 6,\n",
       " 'addit': 7,\n",
       " 'affect': 8,\n",
       " 'aim': 9,\n",
       " 'alter': 10,\n",
       " 'analys': 11,\n",
       " 'analysi': 12,\n",
       " 'analyz': 13,\n",
       " 'apoptosi': 14,\n",
       " 'arrest': 15,\n",
       " 'assay': 16,\n",
       " 'associ': 17,\n",
       " 'bind': 18,\n",
       " 'bioinformat': 19,\n",
       " 'biomark': 20,\n",
       " 'blot': 21,\n",
       " 'breast': 22,\n",
       " 'breast cancer': 23,\n",
       " 'cancer': 24,\n",
       " 'cancer cell': 25,\n",
       " 'cancer tissu': 26,\n",
       " 'carcinoma': 27,\n",
       " 'caus': 28,\n",
       " 'cell': 29,\n",
       " 'cell cycl': 30,\n",
       " 'cell growth': 31,\n",
       " 'cell line': 32,\n",
       " 'cell migrat': 33,\n",
       " 'cell prolifer': 34,\n",
       " 'chain': 35,\n",
       " 'chain reaction': 36,\n",
       " 'chang': 37,\n",
       " 'clinic': 38,\n",
       " 'cluster': 39,\n",
       " 'colon': 40,\n",
       " 'combin': 41,\n",
       " 'compar': 42,\n",
       " 'conclus': 43,\n",
       " 'conclus mmvarentty1mm': 44,\n",
       " 'confirm': 45,\n",
       " 'contribut': 46,\n",
       " 'control': 47,\n",
       " 'correl': 48,\n",
       " 'correl ggvarentty1gg': 49,\n",
       " 'correl mmvarentty1mm': 50,\n",
       " 'crc': 51,\n",
       " 'cycl': 52,\n",
       " 'data': 53,\n",
       " 'decreas': 54,\n",
       " 'decreas express': 55,\n",
       " 'demonstr': 56,\n",
       " 'demonstr mmvarentty1mm': 57,\n",
       " 'depend': 58,\n",
       " 'detect': 59,\n",
       " 'determin': 60,\n",
       " 'develop': 61,\n",
       " 'differ': 62,\n",
       " 'differenti': 63,\n",
       " 'direct': 64,\n",
       " 'direct target': 65,\n",
       " 'directli': 66,\n",
       " 'directli target': 67,\n",
       " 'diseas': 68,\n",
       " 'downregul': 69,\n",
       " 'downregul ggvarentty1gg': 70,\n",
       " 'downregul mmvarentty1mm': 71,\n",
       " 'downstream': 72,\n",
       " 'ectop': 73,\n",
       " 'effect': 74,\n",
       " 'effect mmvarentty1mm': 75,\n",
       " 'elev': 76,\n",
       " 'enhanc': 77,\n",
       " 'epitheli': 78,\n",
       " 'evalu': 79,\n",
       " 'evid': 80,\n",
       " 'examin': 81,\n",
       " 'express': 82,\n",
       " 'express ggvarentty1gg': 83,\n",
       " 'express ggvarentty2gg': 84,\n",
       " 'express level': 85,\n",
       " 'express mmvarentty1mm': 86,\n",
       " 'factor': 87,\n",
       " 'famili': 88,\n",
       " 'final': 89,\n",
       " 'format': 90,\n",
       " 'function': 91,\n",
       " 'furthermor': 92,\n",
       " 'gastric': 93,\n",
       " 'gastric cancer': 94,\n",
       " 'gc': 95,\n",
       " 'gene': 96,\n",
       " 'gene express': 97,\n",
       " 'gene ggvarentty1gg': 98,\n",
       " 'gene mmvarentty1mm': 99,\n",
       " 'ggvarentty1gg': 100,\n",
       " 'ggvarentty1gg cell': 101,\n",
       " 'ggvarentty1gg express': 102,\n",
       " 'ggvarentty1gg gene': 103,\n",
       " 'ggvarentty1gg ggvarentty2gg': 104,\n",
       " 'ggvarentty1gg induc': 105,\n",
       " 'ggvarentty1gg mmvarentty1mm': 106,\n",
       " 'ggvarentty1gg mrna': 107,\n",
       " 'ggvarentty1gg protein': 108,\n",
       " 'ggvarentty1gg regul': 109,\n",
       " 'ggvarentty1gg target': 110,\n",
       " 'ggvarentty2gg': 111,\n",
       " 'ggvarentty2gg cell': 112,\n",
       " 'ggvarentty2gg express': 113,\n",
       " 'ggvarentty2gg ggvarentty3gg': 114,\n",
       " 'ggvarentty2gg mmvarentty1mm': 115,\n",
       " 'ggvarentty2gg mrna': 116,\n",
       " 'ggvarentty3gg': 117,\n",
       " 'ggvarentty3gg express': 118,\n",
       " 'ggvarentty3gg ggvarentty4gg': 119,\n",
       " 'ggvarentty4gg': 120,\n",
       " 'ggvarentty4gg ggvarentty5gg': 121,\n",
       " 'ggvarentty5gg': 122,\n",
       " 'ggvarentty5gg ggvarentty6gg': 123,\n",
       " 'ggvarentty6gg': 124,\n",
       " 'ggvarentty7gg': 125,\n",
       " 'glioma': 126,\n",
       " 'group': 127,\n",
       " 'growth': 128,\n",
       " 'healthi': 129,\n",
       " 'high': 130,\n",
       " 'higher': 131,\n",
       " 'howev': 132,\n",
       " 'human': 133,\n",
       " 'identifi': 134,\n",
       " 'identifi ggvarentty1gg': 135,\n",
       " 'implic': 136,\n",
       " 'import': 137,\n",
       " 'import role': 138,\n",
       " 'includ': 139,\n",
       " 'increas': 140,\n",
       " 'increas express': 141,\n",
       " 'increas ggvarentty1gg': 142,\n",
       " 'independ': 143,\n",
       " 'indic': 144,\n",
       " 'indic mmvarentty1mm': 145,\n",
       " 'induc': 146,\n",
       " 'induct': 147,\n",
       " 'inhibit': 148,\n",
       " 'inhibit ggvarentty1gg': 149,\n",
       " 'inhibit mmvarentty1mm': 150,\n",
       " 'interact': 151,\n",
       " 'invas': 152,\n",
       " 'invers': 153,\n",
       " 'invers correl': 154,\n",
       " 'investig': 155,\n",
       " 'involv': 156,\n",
       " 'knockdown': 157,\n",
       " 'known': 158,\n",
       " 'lead': 159,\n",
       " 'level': 160,\n",
       " 'level ggvarentty1gg': 161,\n",
       " 'level mmvarentty1mm': 162,\n",
       " 'line': 163,\n",
       " 'liver': 164,\n",
       " 'loss': 165,\n",
       " 'low': 166,\n",
       " 'lower': 167,\n",
       " 'luciferas': 168,\n",
       " 'luciferas report': 169,\n",
       " 'malign': 170,\n",
       " 'marker': 171,\n",
       " 'mechan': 172,\n",
       " 'medi': 173,\n",
       " 'mediat': 174,\n",
       " 'metastasi': 175,\n",
       " 'metastat': 176,\n",
       " 'method': 177,\n",
       " 'methyl': 178,\n",
       " 'mice': 179,\n",
       " 'microrna': 180,\n",
       " 'microrna mmvarentty1mm': 181,\n",
       " 'migrat': 182,\n",
       " 'migrat invas': 183,\n",
       " 'mimic': 184,\n",
       " 'mirna': 185,\n",
       " 'mirna mmvarentty1mm': 186,\n",
       " 'mmvarentty1mm 5p': 187,\n",
       " 'mmvarentty1mm downregul': 188,\n",
       " 'mmvarentty1mm express': 189,\n",
       " 'mmvarentty1mm ggvarentty1gg': 190,\n",
       " 'mmvarentty1mm ggvarentty2gg': 191,\n",
       " 'mmvarentty1mm inhibit': 192,\n",
       " 'mmvarentty1mm level': 193,\n",
       " 'mmvarentty1mm mimic': 194,\n",
       " 'mmvarentty1mm mmvarentty2mm': 195,\n",
       " 'mmvarentty1mm overexpress': 196,\n",
       " 'mmvarentty1mm play': 197,\n",
       " 'mmvarentty1mm promot': 198,\n",
       " 'mmvarentty1mm regul': 199,\n",
       " 'mmvarentty1mm significantli': 200,\n",
       " 'mmvarentty1mm suppress': 201,\n",
       " 'mmvarentty1mm target': 202,\n",
       " 'mmvarentty2mm': 203,\n",
       " 'mmvarentty2mm mmvarentty3mm': 204,\n",
       " 'mmvarentty3mm': 205,\n",
       " 'mmvarentty3mm mmvarentty4mm': 206,\n",
       " 'mmvarentty4mm': 207,\n",
       " 'mmvarentty4mm mmvarentty5mm': 208,\n",
       " 'mmvarentty5mm': 209,\n",
       " 'mmvarentty6mm': 210,\n",
       " 'model': 211,\n",
       " 'modul': 212,\n",
       " 'molecular': 213,\n",
       " 'moreov': 214,\n",
       " 'mrna': 215,\n",
       " 'mrna protein': 216,\n",
       " 'mutat': 217,\n",
       " 'neg': 218,\n",
       " 'neg regul': 219,\n",
       " 'new': 220,\n",
       " 'non': 221,\n",
       " 'normal': 222,\n",
       " 'novel': 223,\n",
       " 'nsclc': 224,\n",
       " 'observ': 225,\n",
       " 'oncogen': 226,\n",
       " 'osteosarcoma': 227,\n",
       " 'overexpress': 228,\n",
       " 'overexpress mmvarentty1mm': 229,\n",
       " 'partial': 230,\n",
       " 'pathway': 231,\n",
       " 'patient': 232,\n",
       " 'pcr': 233,\n",
       " 'phenotyp': 234,\n",
       " 'play': 235,\n",
       " 'posit': 236,\n",
       " 'possibl': 237,\n",
       " 'potenti': 238,\n",
       " 'predict': 239,\n",
       " 'present': 240,\n",
       " 'present studi': 241,\n",
       " 'primari': 242,\n",
       " 'process': 243,\n",
       " 'prognosi': 244,\n",
       " 'prognost': 245,\n",
       " 'progress': 246,\n",
       " 'prolifer': 247,\n",
       " 'promot': 248,\n",
       " 'prostat': 249,\n",
       " 'prostat cancer': 250,\n",
       " 'protein': 251,\n",
       " 'protein express': 252,\n",
       " 'protein level': 253,\n",
       " 'provid': 254,\n",
       " 'quantit': 255,\n",
       " 'reaction': 256,\n",
       " 'real': 257,\n",
       " 'real tim': 258,\n",
       " 'recent': 259,\n",
       " 'reduc': 260,\n",
       " 'reduct': 261,\n",
       " 'region': 262,\n",
       " 'regul': 263,\n",
       " 'regul express': 264,\n",
       " 'regul ggvarentty1gg': 265,\n",
       " 'regul ggvarentty2gg': 266,\n",
       " 'regul mmvarentty1mm': 267,\n",
       " 'regulatori': 268,\n",
       " 'rel': 269,\n",
       " 'relat': 270,\n",
       " 'report': 271,\n",
       " 'report assay': 272,\n",
       " 'repress': 273,\n",
       " 'resist': 274,\n",
       " 'respect': 275,\n",
       " 'respons': 276,\n",
       " 'restor': 277,\n",
       " 'result': 278,\n",
       " 'result mmvarentty1mm': 279,\n",
       " 'result suggest': 280,\n",
       " 'reveal': 281,\n",
       " 'revers': 282,\n",
       " 'risk': 283,\n",
       " 'rna': 284,\n",
       " 'role': 285,\n",
       " 'role mmvarentty1mm': 286,\n",
       " 'rt': 287,\n",
       " 'sampl': 288,\n",
       " 'sensit': 289,\n",
       " 'sequenc': 290,\n",
       " 'serum': 291,\n",
       " 'sever': 292,\n",
       " 'shown': 293,\n",
       " 'signal': 294,\n",
       " 'signal pathway': 295,\n",
       " 'signific': 296,\n",
       " 'significantli': 297,\n",
       " 'silenc': 298,\n",
       " 'site': 299,\n",
       " 'specif': 300,\n",
       " 'stage': 301,\n",
       " 'studi': 302,\n",
       " 'suggest': 303,\n",
       " 'suggest mmvarentty1mm': 304,\n",
       " 'suppress': 305,\n",
       " 'suppress ggvarentty1gg': 306,\n",
       " 'surviv': 307,\n",
       " 'taken': 308,\n",
       " 'taken togeth': 309,\n",
       " 'target': 310,\n",
       " 'target gene': 311,\n",
       " 'target ggvarentty1gg': 312,\n",
       " 'target ggvarentty2gg': 313,\n",
       " 'target mmvarentty1mm': 314,\n",
       " 'therapeut': 315,\n",
       " 'therapeut target': 316,\n",
       " 'therapi': 317,\n",
       " 'thu': 318,\n",
       " 'tim': 319,\n",
       " 'time': 320,\n",
       " 'tissu': 321,\n",
       " 'togeth': 322,\n",
       " 'transcript': 323,\n",
       " 'transfect': 324,\n",
       " 'transfect mmvarentty1mm': 325,\n",
       " 'treatment': 326,\n",
       " 'tumor': 327,\n",
       " 'type': 328,\n",
       " 'untransl': 329,\n",
       " 'untransl region': 330,\n",
       " 'upregul': 331,\n",
       " 'upregul mmvarentty1mm': 332,\n",
       " 'use': 333,\n",
       " 'utr': 334,\n",
       " 'valid': 335,\n",
       " 'vitro': 336,\n",
       " 'vivo': 337,\n",
       " 'western': 338,\n",
       " 'western blot': 339,\n",
       " 'wherea': 340}"
      ]
     },
     "execution_count": 4,
     "metadata": {},
     "output_type": "execute_result"
    }
   ],
   "source": [
    "tf_vectorizer.vocabulary_"
   ]
  },
  {
   "cell_type": "code",
   "execution_count": 5,
   "metadata": {
    "collapsed": false,
    "scrolled": true
   },
   "outputs": [
    {
     "data": {
      "text/plain": [
       "(10783, 341)"
      ]
     },
     "execution_count": 5,
     "metadata": {},
     "output_type": "execute_result"
    }
   ],
   "source": [
    "train_tf_vectors.shape"
   ]
  },
  {
   "cell_type": "code",
   "execution_count": 6,
   "metadata": {
    "collapsed": false,
    "scrolled": true
   },
   "outputs": [
    {
     "data": {
      "text/plain": [
       "array([1, 1, 1, ..., 1, 1, 1], dtype=int64)"
      ]
     },
     "execution_count": 6,
     "metadata": {},
     "output_type": "execute_result"
    }
   ],
   "source": [
    "train_tf_vectors.data"
   ]
  },
  {
   "cell_type": "code",
   "execution_count": 7,
   "metadata": {
    "collapsed": false,
    "scrolled": true
   },
   "outputs": [
    {
     "name": "stdout",
     "output_type": "stream",
     "text": [
      "131234\n",
      "12.170453491607159\n",
      "3.5690479447528323\n"
     ]
    }
   ],
   "source": [
    "print(train_tf_vectors.nnz) # number of non-zero elements\n",
    "print(train_tf_vectors.nnz / float(train_tf_vectors.shape[0])) # non-zero per sample\n",
    "print(train_tf_vectors.nnz / float(train_tf_vectors.shape[0] * train_tf_vectors.shape[1]) * 100) # non-zero per feature space in %"
   ]
  },
  {
   "cell_type": "markdown",
   "metadata": {},
   "source": [
    "## Data Preprocessing: \n",
    "### Attributes and Target"
   ]
  },
  {
   "cell_type": "markdown",
   "metadata": {},
   "source": [
    "### Convert categorical labels into numerical labels"
   ]
  },
  {
   "cell_type": "code",
   "execution_count": 8,
   "metadata": {
    "collapsed": false,
    "scrolled": true
   },
   "outputs": [],
   "source": [
    "from sklearn import preprocessing"
   ]
  },
  {
   "cell_type": "code",
   "execution_count": 9,
   "metadata": {
    "collapsed": false,
    "scrolled": true
   },
   "outputs": [
    {
     "data": {
      "text/plain": [
       "['NO_RELATION', 'RELATION']"
      ]
     },
     "execution_count": 9,
     "metadata": {},
     "output_type": "execute_result"
    }
   ],
   "source": [
    "le = preprocessing.LabelEncoder()\n",
    "le.fit(train.Label)\n",
    "list(le.classes_)"
   ]
  },
  {
   "cell_type": "code",
   "execution_count": 10,
   "metadata": {
    "collapsed": false,
    "scrolled": true
   },
   "outputs": [
    {
     "name": "stdout",
     "output_type": "stream",
     "text": [
      "[0 0 1 1 1]\n",
      "['NO_RELATION' 'NO_RELATION' 'RELATION' 'RELATION' 'RELATION']\n"
     ]
    }
   ],
   "source": [
    "y_train = le.transform(train.Label);\n",
    "y_test = le.transform(test.Label);\n",
    "\n",
    "print(y_train[0:5])\n",
    "print(le.inverse_transform(y_train[0:5]))"
   ]
  },
  {
   "cell_type": "markdown",
   "metadata": {},
   "source": [
    "`X` is data, `y` is target. `X` has the size of `n_samples` x `n_features`, `y` has `n_samples` x 1 labels"
   ]
  },
  {
   "cell_type": "code",
   "execution_count": 11,
   "metadata": {
    "collapsed": false,
    "scrolled": true
   },
   "outputs": [],
   "source": [
    "X_train = train_tf_vectors"
   ]
  },
  {
   "cell_type": "code",
   "execution_count": 12,
   "metadata": {
    "collapsed": true,
    "scrolled": false
   },
   "outputs": [],
   "source": [
    "X_test = tf_vectorizer.transform(test.Text)"
   ]
  },
  {
   "cell_type": "code",
   "execution_count": 13,
   "metadata": {
    "collapsed": false,
    "scrolled": false
   },
   "outputs": [
    {
     "data": {
      "text/plain": [
       "(3595, 341)"
      ]
     },
     "execution_count": 13,
     "metadata": {},
     "output_type": "execute_result"
    }
   ],
   "source": [
    "X_test.shape"
   ]
  },
  {
   "cell_type": "code",
   "execution_count": 14,
   "metadata": {
    "collapsed": false,
    "scrolled": false
   },
   "outputs": [
    {
     "data": {
      "text/plain": [
       "array([1, 1, 1, ..., 1, 1, 1], dtype=int64)"
      ]
     },
     "execution_count": 14,
     "metadata": {},
     "output_type": "execute_result"
    }
   ],
   "source": [
    "X_test.data"
   ]
  },
  {
   "cell_type": "markdown",
   "metadata": {},
   "source": [
    "## Log Res: "
   ]
  },
  {
   "cell_type": "code",
   "execution_count": 15,
   "metadata": {
    "collapsed": false,
    "scrolled": false
   },
   "outputs": [
    {
     "data": {
      "text/plain": [
       "LogisticRegression(C=100000.0, class_weight='balanced', dual=False,\n",
       "          fit_intercept=True, intercept_scaling=1, max_iter=100,\n",
       "          multi_class='ovr', n_jobs=1, penalty='l2', random_state=None,\n",
       "          solver='liblinear', tol=0.0001, verbose=0, warm_start=False)"
      ]
     },
     "execution_count": 15,
     "metadata": {},
     "output_type": "execute_result"
    }
   ],
   "source": [
    "from sklearn import linear_model\n",
    "clf = linear_model.LogisticRegression(C=1e5, class_weight='balanced')\n",
    "clf.fit(X_train, y_train)"
   ]
  },
  {
   "cell_type": "code",
   "execution_count": 16,
   "metadata": {
    "collapsed": false,
    "scrolled": true
   },
   "outputs": [],
   "source": [
    "y_pred = clf.predict(X_test)"
   ]
  },
  {
   "cell_type": "code",
   "execution_count": 17,
   "metadata": {
    "collapsed": false,
    "scrolled": true
   },
   "outputs": [
    {
     "name": "stdout",
     "output_type": "stream",
     "text": [
      "             precision    recall  f1-score   support\n",
      "\n",
      "          0       0.73      0.74      0.73      1804\n",
      "          1       0.73      0.72      0.73      1791\n",
      "\n",
      "avg / total       0.73      0.73      0.73      3595\n",
      "\n"
     ]
    }
   ],
   "source": [
    "from sklearn import metrics\n",
    "print(metrics.classification_report(y_test, y_pred))"
   ]
  },
  {
   "cell_type": "code",
   "execution_count": 18,
   "metadata": {
    "collapsed": false,
    "scrolled": true
   },
   "outputs": [
    {
     "name": "stdout",
     "output_type": "stream",
     "text": [
      "[[1326  478]\n",
      " [ 499 1292]]\n"
     ]
    }
   ],
   "source": [
    "print(metrics.confusion_matrix(y_test, y_pred))"
   ]
  },
  {
   "cell_type": "markdown",
   "metadata": {},
   "source": [
    "### Coeficients of the decision function"
   ]
  },
  {
   "cell_type": "code",
   "execution_count": 19,
   "metadata": {
    "collapsed": false,
    "scrolled": false
   },
   "outputs": [
    {
     "data": {
      "text/plain": [
       "array([[ 0.07226891, -0.23958631,  0.95081376, -0.03095743, -0.29820422,\n",
       "         0.07140192,  0.17854329,  0.14072876, -0.01347017, -0.40670343,\n",
       "         0.2347351 , -0.05041299, -0.11829966, -0.07978175, -0.01986569,\n",
       "        -0.2541388 , -0.076575  , -0.23541402,  0.14610485,  0.44539902,\n",
       "        -0.54109665,  1.34708047, -0.20058182,  0.2053167 , -0.41921526,\n",
       "         0.0455621 ,  0.35061645, -0.54706411,  0.35355901, -0.0432551 ,\n",
       "         0.58688697, -0.09390101,  0.74804887,  0.09223176, -0.07992314,\n",
       "         0.66856296, -1.29499692, -0.15951544, -0.20907029,  0.27893341,\n",
       "         0.23789606,  0.1104066 , -0.21950584,  0.07577404, -0.0174021 ,\n",
       "         0.16298987,  0.06221673,  0.05742714, -0.08807342,  0.77072882,\n",
       "         0.38481673, -0.06683054, -0.0267069 , -0.10986448,  0.28134874,\n",
       "        -0.48967618, -0.03562234,  0.03718128,  0.39929988, -0.07342503,\n",
       "         0.29680462, -0.23599366,  0.1304277 , -0.00354241,  0.43900867,\n",
       "         0.15113361,  0.7517656 , -0.71635569, -0.47629861,  0.45814489,\n",
       "         0.15321864, -0.12641384, -0.19037055,  0.08789447,  0.19438693,\n",
       "        -0.02902222,  0.12517585,  0.05269202, -0.11090045, -0.01222149,\n",
       "        -0.02148183, -0.00298932,  0.19960737,  0.34014742,  0.13247239,\n",
       "        -0.13349571, -0.06946537, -0.07884426,  0.15845745, -0.20640312,\n",
       "        -0.06425079, -0.04103473, -0.12958933,  0.33777667, -0.05983978,\n",
       "        -0.43594822,  0.01575516, -0.17089392,  1.06544865,  0.90984571,\n",
       "         0.1631879 , -0.60542263,  0.55555259,  0.57894072,  0.4427721 ,\n",
       "         0.1051739 ,  0.25020711,  0.28909232,  0.74028225,  0.34233637,\n",
       "         0.55096019,  0.33027403, -0.41567522,  0.34465722,  0.21360949,\n",
       "         0.33033337,  0.00603199,  0.1930974 ,  0.2758305 ,  0.22339264,\n",
       "         0.04362357,  0.1517473 ,  0.13787583,  0.17359944, -0.00567395,\n",
       "         0.03589502, -0.47560266,  0.1649889 , -0.21851152, -0.46490806,\n",
       "        -0.01348562, -0.1749099 , -0.45736009, -0.24779025,  0.3078603 ,\n",
       "         0.15896707, -0.14974069, -0.26272477,  0.42965972, -0.03233773,\n",
       "         0.13926888, -0.19031572,  0.22273459,  0.32480412, -0.27543976,\n",
       "         0.44356802, -0.03276653, -0.0863638 ,  0.20363166, -0.01460562,\n",
       "        -0.22705193,  0.68736592, -0.16396762,  1.28720957, -0.68457518,\n",
       "        -0.12418069,  0.01035883,  0.14978332,  0.22936665, -0.0796739 ,\n",
       "         0.2337845 ,  0.16129054, -0.3951618 , -0.76582477, -0.6169221 ,\n",
       "        -0.01235727,  0.27926807,  0.25963245,  0.34362211, -0.37539107,\n",
       "        -0.36446075,  0.10860553,  0.09386267,  0.30088479,  0.39810408,\n",
       "        -0.44641788, -0.10811527, -0.09688398, -0.45196243, -0.6139156 ,\n",
       "        -0.04232823, -0.21712235,  0.02612464,  0.05021438,  0.29398467,\n",
       "        -0.23408472, -0.25644024, -0.29798447, -0.05630356, -0.38153097,\n",
       "         0.60097525,  0.42811187,  0.06909885, -0.38164311, -0.45746339,\n",
       "         0.30722076, -0.45843281,  0.1876522 , -0.32938829, -0.15174982,\n",
       "         0.29429954,  0.06589935,  0.30455932, -0.07320026, -0.09179944,\n",
       "         0.29768569,  0.94034044, -0.67783794,  0.85511539,  0.19775872,\n",
       "        -0.55373595, -0.67837224,  0.28104376, -0.50005806,  0.19013045,\n",
       "         0.18325981,  0.07114641,  0.34927482,  0.29170099, -0.26426339,\n",
       "        -0.32332126, -0.46742345,  0.02472889, -0.20283251, -0.22100363,\n",
       "        -0.35892226,  0.25030634, -0.03099912,  0.47339959, -0.47970366,\n",
       "         0.76364107,  0.12368327, -0.4596133 , -0.7441873 ,  0.45058784,\n",
       "        -0.46373769,  0.42212762, -0.036056  , -0.17965714, -0.04269519,\n",
       "         0.09603841, -0.76186355, -0.27400972,  0.16484333, -0.08164615,\n",
       "         0.00297603, -0.22585431,  0.09437529,  0.15291571,  1.1259498 ,\n",
       "        -0.8874164 ,  0.48738276, -0.29871859, -0.02951192,  0.17835374,\n",
       "         0.39358453, -0.40728308,  0.150377  ,  0.2409466 , -0.57412979,\n",
       "         0.25517915, -0.27789781,  0.02220546,  0.17400828,  0.62109198,\n",
       "         0.54521834,  0.33133031,  0.22319803,  0.20290758, -0.19904442,\n",
       "         0.09191454,  0.23111995,  0.46443047,  0.76947817,  0.3006222 ,\n",
       "        -0.22099022,  0.10177343,  0.56630808,  0.02832822, -0.49536018,\n",
       "         0.08840039,  0.02422389,  0.43937392, -1.0227644 , -0.13808642,\n",
       "         0.29426132, -0.66590647,  0.49967776,  0.01484486, -0.36438579,\n",
       "         0.03218023, -0.37263508,  0.02733879,  0.14809712,  0.3058613 ,\n",
       "        -0.45052433,  0.05061965, -0.28622542,  0.07269861,  0.48189688,\n",
       "        -0.38114842, -0.60632889,  0.04967183,  0.02213862,  0.06350574,\n",
       "         0.11122377,  0.53506356,  0.00839975,  1.24964095, -1.23791682,\n",
       "         0.24450221, -0.06613909,  0.85570081,  0.7281709 ,  0.80211251,\n",
       "        -0.185923  , -0.13401827, -0.25976844,  0.23285552,  0.2409466 ,\n",
       "         0.04957045, -0.28085772, -0.00597684,  0.25253282,  0.15328488,\n",
       "         0.02408368,  0.03594319, -0.20808038, -0.15290321,  0.09690873,\n",
       "         0.26909019,  0.03601504,  0.03970314, -0.13656023,  0.5193046 ,\n",
       "        -0.39196589,  0.13899896, -0.12786873,  2.48878279, -2.70246617,\n",
       "        -0.37164262]])"
      ]
     },
     "execution_count": 19,
     "metadata": {},
     "output_type": "execute_result"
    }
   ],
   "source": [
    "clf.coef_"
   ]
  },
  {
   "cell_type": "code",
   "execution_count": 20,
   "metadata": {
    "collapsed": false
   },
   "outputs": [
    {
     "data": {
      "text/plain": [
       "341"
      ]
     },
     "execution_count": 20,
     "metadata": {},
     "output_type": "execute_result"
    }
   ],
   "source": [
    "len(clf.coef_[0,])"
   ]
  },
  {
   "cell_type": "markdown",
   "metadata": {},
   "source": [
    "Get the index of coef with the maximum value."
   ]
  },
  {
   "cell_type": "code",
   "execution_count": 21,
   "metadata": {
    "collapsed": false
   },
   "outputs": [
    {
     "data": {
      "text/plain": [
       "338"
      ]
     },
     "execution_count": 21,
     "metadata": {},
     "output_type": "execute_result"
    }
   ],
   "source": [
    "clf.coef_.argmax()"
   ]
  },
  {
   "cell_type": "code",
   "execution_count": 22,
   "metadata": {
    "collapsed": false,
    "scrolled": false
   },
   "outputs": [
    {
     "name": "stdout",
     "output_type": "stream",
     "text": [
      "western\n"
     ]
    }
   ],
   "source": [
    "m = clf.coef_.argmax()\n",
    "print(list(tf_vectorizer.vocabulary_.keys())[list(tf_vectorizer.vocabulary_.values()).index(m)])"
   ]
  },
  {
   "cell_type": "markdown",
   "metadata": {},
   "source": [
    "Get the index of the highest 10 coef value.\n",
    "\n",
    "**Note** `clf.coef_` is ndarray, see below:"
   ]
  },
  {
   "cell_type": "code",
   "execution_count": 23,
   "metadata": {
    "collapsed": false
   },
   "outputs": [
    {
     "data": {
      "text/plain": [
       "array([ 0.07226891, -0.23958631,  0.95081376, -0.03095743, -0.29820422,\n",
       "        0.07140192,  0.17854329,  0.14072876, -0.01347017, -0.40670343,\n",
       "        0.2347351 , -0.05041299, -0.11829966, -0.07978175, -0.01986569,\n",
       "       -0.2541388 , -0.076575  , -0.23541402,  0.14610485,  0.44539902,\n",
       "       -0.54109665,  1.34708047, -0.20058182,  0.2053167 , -0.41921526,\n",
       "        0.0455621 ,  0.35061645, -0.54706411,  0.35355901, -0.0432551 ,\n",
       "        0.58688697, -0.09390101,  0.74804887,  0.09223176, -0.07992314,\n",
       "        0.66856296, -1.29499692, -0.15951544, -0.20907029,  0.27893341,\n",
       "        0.23789606,  0.1104066 , -0.21950584,  0.07577404, -0.0174021 ,\n",
       "        0.16298987,  0.06221673,  0.05742714, -0.08807342,  0.77072882,\n",
       "        0.38481673, -0.06683054, -0.0267069 , -0.10986448,  0.28134874,\n",
       "       -0.48967618, -0.03562234,  0.03718128,  0.39929988, -0.07342503,\n",
       "        0.29680462, -0.23599366,  0.1304277 , -0.00354241,  0.43900867,\n",
       "        0.15113361,  0.7517656 , -0.71635569, -0.47629861,  0.45814489,\n",
       "        0.15321864, -0.12641384, -0.19037055,  0.08789447,  0.19438693,\n",
       "       -0.02902222,  0.12517585,  0.05269202, -0.11090045, -0.01222149,\n",
       "       -0.02148183, -0.00298932,  0.19960737,  0.34014742,  0.13247239,\n",
       "       -0.13349571, -0.06946537, -0.07884426,  0.15845745, -0.20640312,\n",
       "       -0.06425079, -0.04103473, -0.12958933,  0.33777667, -0.05983978,\n",
       "       -0.43594822,  0.01575516, -0.17089392,  1.06544865,  0.90984571,\n",
       "        0.1631879 , -0.60542263,  0.55555259,  0.57894072,  0.4427721 ,\n",
       "        0.1051739 ,  0.25020711,  0.28909232,  0.74028225,  0.34233637,\n",
       "        0.55096019,  0.33027403, -0.41567522,  0.34465722,  0.21360949,\n",
       "        0.33033337,  0.00603199,  0.1930974 ,  0.2758305 ,  0.22339264,\n",
       "        0.04362357,  0.1517473 ,  0.13787583,  0.17359944, -0.00567395,\n",
       "        0.03589502, -0.47560266,  0.1649889 , -0.21851152, -0.46490806,\n",
       "       -0.01348562, -0.1749099 , -0.45736009, -0.24779025,  0.3078603 ,\n",
       "        0.15896707, -0.14974069, -0.26272477,  0.42965972, -0.03233773,\n",
       "        0.13926888, -0.19031572,  0.22273459,  0.32480412, -0.27543976,\n",
       "        0.44356802, -0.03276653, -0.0863638 ,  0.20363166, -0.01460562,\n",
       "       -0.22705193,  0.68736592, -0.16396762,  1.28720957, -0.68457518,\n",
       "       -0.12418069,  0.01035883,  0.14978332,  0.22936665, -0.0796739 ,\n",
       "        0.2337845 ,  0.16129054, -0.3951618 , -0.76582477, -0.6169221 ,\n",
       "       -0.01235727,  0.27926807,  0.25963245,  0.34362211, -0.37539107,\n",
       "       -0.36446075,  0.10860553,  0.09386267,  0.30088479,  0.39810408,\n",
       "       -0.44641788, -0.10811527, -0.09688398, -0.45196243, -0.6139156 ,\n",
       "       -0.04232823, -0.21712235,  0.02612464,  0.05021438,  0.29398467,\n",
       "       -0.23408472, -0.25644024, -0.29798447, -0.05630356, -0.38153097,\n",
       "        0.60097525,  0.42811187,  0.06909885, -0.38164311, -0.45746339,\n",
       "        0.30722076, -0.45843281,  0.1876522 , -0.32938829, -0.15174982,\n",
       "        0.29429954,  0.06589935,  0.30455932, -0.07320026, -0.09179944,\n",
       "        0.29768569,  0.94034044, -0.67783794,  0.85511539,  0.19775872,\n",
       "       -0.55373595, -0.67837224,  0.28104376, -0.50005806,  0.19013045,\n",
       "        0.18325981,  0.07114641,  0.34927482,  0.29170099, -0.26426339,\n",
       "       -0.32332126, -0.46742345,  0.02472889, -0.20283251, -0.22100363,\n",
       "       -0.35892226,  0.25030634, -0.03099912,  0.47339959, -0.47970366,\n",
       "        0.76364107,  0.12368327, -0.4596133 , -0.7441873 ,  0.45058784,\n",
       "       -0.46373769,  0.42212762, -0.036056  , -0.17965714, -0.04269519,\n",
       "        0.09603841, -0.76186355, -0.27400972,  0.16484333, -0.08164615,\n",
       "        0.00297603, -0.22585431,  0.09437529,  0.15291571,  1.1259498 ,\n",
       "       -0.8874164 ,  0.48738276, -0.29871859, -0.02951192,  0.17835374,\n",
       "        0.39358453, -0.40728308,  0.150377  ,  0.2409466 , -0.57412979,\n",
       "        0.25517915, -0.27789781,  0.02220546,  0.17400828,  0.62109198,\n",
       "        0.54521834,  0.33133031,  0.22319803,  0.20290758, -0.19904442,\n",
       "        0.09191454,  0.23111995,  0.46443047,  0.76947817,  0.3006222 ,\n",
       "       -0.22099022,  0.10177343,  0.56630808,  0.02832822, -0.49536018,\n",
       "        0.08840039,  0.02422389,  0.43937392, -1.0227644 , -0.13808642,\n",
       "        0.29426132, -0.66590647,  0.49967776,  0.01484486, -0.36438579,\n",
       "        0.03218023, -0.37263508,  0.02733879,  0.14809712,  0.3058613 ,\n",
       "       -0.45052433,  0.05061965, -0.28622542,  0.07269861,  0.48189688,\n",
       "       -0.38114842, -0.60632889,  0.04967183,  0.02213862,  0.06350574,\n",
       "        0.11122377,  0.53506356,  0.00839975,  1.24964095, -1.23791682,\n",
       "        0.24450221, -0.06613909,  0.85570081,  0.7281709 ,  0.80211251,\n",
       "       -0.185923  , -0.13401827, -0.25976844,  0.23285552,  0.2409466 ,\n",
       "        0.04957045, -0.28085772, -0.00597684,  0.25253282,  0.15328488,\n",
       "        0.02408368,  0.03594319, -0.20808038, -0.15290321,  0.09690873,\n",
       "        0.26909019,  0.03601504,  0.03970314, -0.13656023,  0.5193046 ,\n",
       "       -0.39196589,  0.13899896, -0.12786873,  2.48878279, -2.70246617,\n",
       "       -0.37164262])"
      ]
     },
     "execution_count": 23,
     "metadata": {},
     "output_type": "execute_result"
    }
   ],
   "source": [
    "clf.coef_[0]"
   ]
  },
  {
   "cell_type": "code",
   "execution_count": 24,
   "metadata": {
    "collapsed": false
   },
   "outputs": [
    {
     "name": "stdout",
     "output_type": "stream",
     "text": [
      "0.0722689080744\n",
      "-0.239586311844\n"
     ]
    }
   ],
   "source": [
    "print(clf.coef_[0][0])\n",
    "print(clf.coef_[0][1])"
   ]
  },
  {
   "cell_type": "code",
   "execution_count": 25,
   "metadata": {
    "collapsed": false
   },
   "outputs": [
    {
     "name": "stdout",
     "output_type": "stream",
     "text": [
      "[338  21 153 308 249  98   2 206  99 312 208 314  49 273 230  66  32 108\n",
      " 313 151]\n"
     ]
    }
   ],
   "source": [
    "import numpy as np\n",
    "topN = np.argsort(clf.coef_[0])[::-1][:20]\n",
    "print(topN)"
   ]
  },
  {
   "cell_type": "code",
   "execution_count": 26,
   "metadata": {
    "collapsed": false
   },
   "outputs": [
    {
     "name": "stdout",
     "output_type": "stream",
     "text": [
      "western\n",
      "blot\n",
      "invers\n",
      "taken\n",
      "prostat\n",
      "gene ggvarentty1gg\n",
      "16\n",
      "mmvarentty3mm mmvarentty4mm\n",
      "gene mmvarentty1mm\n",
      "target ggvarentty1gg\n",
      "mmvarentty4mm mmvarentty5mm\n",
      "target mmvarentty1mm\n",
      "correl ggvarentty1gg\n",
      "repress\n",
      "partial\n",
      "directli\n",
      "cell line\n",
      "ggvarentty1gg protein\n",
      "target ggvarentty2gg\n",
      "interact\n"
     ]
    }
   ],
   "source": [
    "for v in topN:\n",
    "    print(list(tf_vectorizer.vocabulary_.keys())[list(tf_vectorizer.vocabulary_.values()).index(v)])\n"
   ]
  }
 ],
 "metadata": {
  "kernelspec": {
   "display_name": "Python 3",
   "language": "python",
   "name": "python3"
  },
  "language_info": {
   "codemirror_mode": {
    "name": "ipython",
    "version": 3
   },
   "file_extension": ".py",
   "mimetype": "text/x-python",
   "name": "python",
   "nbconvert_exporter": "python",
   "pygments_lexer": "ipython3",
   "version": "3.5.1"
  }
 },
 "nbformat": 4,
 "nbformat_minor": 0
}
