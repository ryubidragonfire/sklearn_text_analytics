{
 "cells": [
  {
   "cell_type": "markdown",
   "metadata": {},
   "source": [
    "### Example on how to get the top N element\n",
    "\n",
    "`np.argsort()` sort from small to large, return their indexes\n",
    "\n",
    "Index from big to small is `[3,4,0,5,1,2]`"
   ]
  },
  {
   "cell_type": "code",
   "execution_count": 94,
   "metadata": {
    "collapsed": false
   },
   "outputs": [
    {
     "name": "stdout",
     "output_type": "stream",
     "text": [
      "[3 4 0 5 1]\n"
     ]
    },
    {
     "data": {
      "text/plain": [
       "array([3, 4, 0], dtype=int64)"
      ]
     },
     "execution_count": 94,
     "metadata": {},
     "output_type": "execute_result"
    }
   ],
   "source": [
    "a = np.array([4, 1, 0, 8, 5, 2])\n",
    "asort = np.argsort(a)[::-1][:5]; print(asort) # [3,4,0,5,1,2]\n",
    "asort[::1][:3]"
   ]
  },
  {
   "cell_type": "markdown",
   "metadata": {},
   "source": [
    "### Exanple on reversing and subseting array\n",
    "\n",
    "`a[::-1]` reverse the order to big to small\n",
    "\n",
    "`a[:5]` take the first 5 elements"
   ]
  },
  {
   "cell_type": "code",
   "execution_count": 93,
   "metadata": {
    "collapsed": false
   },
   "outputs": [
    {
     "name": "stdout",
     "output_type": "stream",
     "text": [
      "[5 4 3 2 1 0]\n",
      "[0 1 2 3 4]\n",
      "[5 4 3]\n"
     ]
    }
   ],
   "source": [
    "a = np.array([0, 1, 2, 3, 4, 5]) \n",
    "print(a[::-1]) # reverse the order of elements in a\n",
    "print(a[:5])\n",
    "print(a[::-1][:3])"
   ]
  }
 ],
 "metadata": {
  "kernelspec": {
   "display_name": "Python 3",
   "language": "python",
   "name": "python3"
  },
  "language_info": {
   "codemirror_mode": {
    "name": "ipython",
    "version": 3
   },
   "file_extension": ".py",
   "mimetype": "text/x-python",
   "name": "python",
   "nbconvert_exporter": "python",
   "pygments_lexer": "ipython3",
   "version": "3.5.1"
  }
 },
 "nbformat": 4,
 "nbformat_minor": 0
}
