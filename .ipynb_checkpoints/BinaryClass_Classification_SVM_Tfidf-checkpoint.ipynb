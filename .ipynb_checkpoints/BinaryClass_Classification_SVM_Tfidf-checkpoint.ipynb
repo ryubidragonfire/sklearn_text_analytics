{
 "cells": [
  {
   "cell_type": "markdown",
   "metadata": {},
   "source": [
    "## Load data"
   ]
  },
  {
   "cell_type": "code",
   "execution_count": 1,
   "metadata": {
    "collapsed": true
   },
   "outputs": [],
   "source": [
    "filename = \"C:\\Data\\somedata.txt\" # Contain positive and negative samples"
   ]
  },
  {
   "cell_type": "code",
   "execution_count": 2,
   "metadata": {
    "collapsed": true
   },
   "outputs": [],
   "source": [
    "import pandas as pd\n",
    "data = pd.read_csv(filename, quotechar='\"', delimiter='\\t')\n",
    "#data"
   ]
  },
  {
   "cell_type": "markdown",
   "metadata": {},
   "source": [
    "## Vectorise text data into numerical vector"
   ]
  },
  {
   "cell_type": "markdown",
   "metadata": {},
   "source": [
    "### Using `TfidfVectorizer`"
   ]
  },
  {
   "cell_type": "code",
   "execution_count": 3,
   "metadata": {
    "collapsed": true
   },
   "outputs": [],
   "source": [
    "from sklearn.feature_extraction.text import TfidfVectorizer\n",
    "tfidf_vectorizer = TfidfVectorizer(analyzer='word', stop_words='english', ngram_range=(1,1), max_df=0.9, min_df=1)\n",
    "tfidf_vectors = tfidf_vectorizer.fit_transform(data.Sentence)"
   ]
  },
  {
   "cell_type": "markdown",
   "metadata": {},
   "source": [
    "** Note: ** Numbers not removed. May try **remove numbers, lematize.**"
   ]
  },
  {
   "cell_type": "code",
   "execution_count": null,
   "metadata": {
    "collapsed": false
   },
   "outputs": [],
   "source": [
    "tfidf_vectorizer.vocabulary_"
   ]
  },
  {
   "cell_type": "code",
   "execution_count": 5,
   "metadata": {
    "collapsed": false
   },
   "outputs": [
    {
     "data": {
      "text/plain": [
       "(34990, 11787)"
      ]
     },
     "execution_count": 5,
     "metadata": {},
     "output_type": "execute_result"
    }
   ],
   "source": [
    "tfidf_vectors.shape"
   ]
  },
  {
   "cell_type": "code",
   "execution_count": 6,
   "metadata": {
    "collapsed": false
   },
   "outputs": [
    {
     "data": {
      "text/plain": [
       "array([ 0.37786627,  0.19254191,  0.17388721, ...,  0.36261596,\n",
       "        0.20614628,  0.20487457])"
      ]
     },
     "execution_count": 6,
     "metadata": {},
     "output_type": "execute_result"
    }
   ],
   "source": [
    "tfidf_vectors.data"
   ]
  },
  {
   "cell_type": "code",
   "execution_count": 7,
   "metadata": {
    "collapsed": false
   },
   "outputs": [
    {
     "name": "stdout",
     "output_type": "stream",
     "text": [
      "431739\n",
      "12.338925407259216\n",
      "0.10468249263815405\n"
     ]
    }
   ],
   "source": [
    "print(tfidf_vectors.nnz) # number of non-zero elements\n",
    "print(tfidf_vectors.nnz / float(tfidf_vectors.shape[0])) # non-zero per sample\n",
    "print(tfidf_vectors.nnz / float(tfidf_vectors.shape[0] * tfidf_vectors.shape[1]) * 100) # non-zero per feature space in %"
   ]
  },
  {
   "cell_type": "markdown",
   "metadata": {},
   "source": [
    "## Data Preprocessing: \n",
    "### Attributes and Target"
   ]
  },
  {
   "cell_type": "markdown",
   "metadata": {},
   "source": [
    "`X` is data, `y` is target. `X` has the size of `n_samples` x `n_features`, `y` has `n_samples` x 1 labels"
   ]
  },
  {
   "cell_type": "code",
   "execution_count": 8,
   "metadata": {
    "collapsed": true
   },
   "outputs": [],
   "source": [
    "X = tfidf_vectors"
   ]
  },
  {
   "cell_type": "markdown",
   "metadata": {},
   "source": [
    "### Convert categorical labels into numerical labels"
   ]
  },
  {
   "cell_type": "code",
   "execution_count": 9,
   "metadata": {
    "collapsed": true
   },
   "outputs": [],
   "source": [
    "from sklearn import preprocessing"
   ]
  },
  {
   "cell_type": "code",
   "execution_count": 10,
   "metadata": {
    "collapsed": false
   },
   "outputs": [
    {
     "data": {
      "text/plain": [
       "['Neg', 'Pos']"
      ]
     },
     "execution_count": 10,
     "metadata": {},
     "output_type": "execute_result"
    }
   ],
   "source": [
    "le = preprocessing.LabelEncoder()\n",
    "le.fit(data.Label)\n",
    "list(le.classes_)"
   ]
  },
  {
   "cell_type": "code",
   "execution_count": 11,
   "metadata": {
    "collapsed": false
   },
   "outputs": [
    {
     "name": "stdout",
     "output_type": "stream",
     "text": [
      "[1 1 1 1 1]\n",
      "[0 0 0 0 0]\n",
      "['Pos' 'Pos' 'Pos' 'Pos' 'Pos']\n",
      "['Neg' 'Neg' 'Neg' 'Neg' 'Neg']\n"
     ]
    }
   ],
   "source": [
    "y = le.transform(data.Label) \n",
    "print(y[0:5])\n",
    "print(y[(len(y)-5):len(y)])\n",
    "print(le.inverse_transform(y[0:5]))\n",
    "print(le.inverse_transform(y[(len(y)-5):len(y)]))"
   ]
  },
  {
   "cell_type": "markdown",
   "metadata": {},
   "source": [
    "## Data splitting"
   ]
  },
  {
   "cell_type": "markdown",
   "metadata": {},
   "source": [
    "**Either:** Split data into train and test set. **Or:** load readily split data."
   ]
  },
  {
   "cell_type": "code",
   "execution_count": 12,
   "metadata": {
    "collapsed": true
   },
   "outputs": [],
   "source": [
    "from sklearn.cross_validation import train_test_split"
   ]
  },
  {
   "cell_type": "code",
   "execution_count": 13,
   "metadata": {
    "collapsed": true
   },
   "outputs": [],
   "source": [
    "X_train, X_test, y_train, y_test = train_test_split(X, y, test_size=0.33, random_state=8) # random_state is fixed value for reproducibility"
   ]
  },
  {
   "cell_type": "code",
   "execution_count": 14,
   "metadata": {
    "collapsed": false
   },
   "outputs": [
    {
     "name": "stdout",
     "output_type": "stream",
     "text": [
      "(23443, 11787)\n",
      "(11547, 11787)\n",
      "(23443,)\n",
      "(11547,)\n"
     ]
    }
   ],
   "source": [
    "print(X_train.shape)\n",
    "print(X_test.shape)\n",
    "print(y_train.shape)\n",
    "print(y_test.shape)"
   ]
  },
  {
   "cell_type": "markdown",
   "metadata": {},
   "source": [
    "## SVM: \n",
    "### linear kernal"
   ]
  },
  {
   "cell_type": "markdown",
   "metadata": {},
   "source": [
    "When classes are imbalanced, set `class_weight` to `'balanced'`."
   ]
  },
  {
   "cell_type": "code",
   "execution_count": 15,
   "metadata": {
    "collapsed": false
   },
   "outputs": [
    {
     "data": {
      "text/plain": [
       "SVC(C=1.0, cache_size=200, class_weight='balanced', coef0=0.0,\n",
       "  decision_function_shape=None, degree=3, gamma='auto', kernel='linear',\n",
       "  max_iter=-1, probability=False, random_state=None, shrinking=True,\n",
       "  tol=0.001, verbose=False)"
      ]
     },
     "execution_count": 15,
     "metadata": {},
     "output_type": "execute_result"
    }
   ],
   "source": [
    "from sklearn.svm import SVC # \"Support Vector Classifier\"\n",
    "clf = SVC(kernel='linear', class_weight = 'balanced')\n",
    "clf.fit(X_train, y_train)"
   ]
  },
  {
   "cell_type": "code",
   "execution_count": 16,
   "metadata": {
    "collapsed": false
   },
   "outputs": [],
   "source": [
    "y_svm_linear_pred = clf.predict(X_test)"
   ]
  },
  {
   "cell_type": "code",
   "execution_count": 17,
   "metadata": {
    "collapsed": false
   },
   "outputs": [
    {
     "name": "stdout",
     "output_type": "stream",
     "text": [
      "             precision    recall  f1-score   support\n",
      "\n",
      "          0       0.97      0.97      0.97      9673\n",
      "          1       0.87      0.86      0.87      1874\n",
      "\n",
      "avg / total       0.96      0.96      0.96     11547\n",
      "\n"
     ]
    }
   ],
   "source": [
    "from sklearn import metrics\n",
    "print(metrics.classification_report(y_test, y_svm_linear_pred))"
   ]
  },
  {
   "cell_type": "code",
   "execution_count": 18,
   "metadata": {
    "collapsed": false
   },
   "outputs": [
    {
     "name": "stdout",
     "output_type": "stream",
     "text": [
      "[[9430  243]\n",
      " [ 260 1614]]\n"
     ]
    }
   ],
   "source": [
    "print(metrics.confusion_matrix(y_test, y_svm_linear_pred))"
   ]
  },
  {
   "cell_type": "code",
   "execution_count": 19,
   "metadata": {
    "collapsed": false
   },
   "outputs": [
    {
     "name": "stdout",
     "output_type": "stream",
     "text": [
      "[4544 1101]\n"
     ]
    }
   ],
   "source": [
    "print(clf.n_support_) # number of support vectors for each class."
   ]
  },
  {
   "cell_type": "code",
   "execution_count": 20,
   "metadata": {
    "collapsed": false
   },
   "outputs": [
    {
     "name": "stdout",
     "output_type": "stream",
     "text": [
      "[   15    17    31 ..., 23426 23429 23435]\n",
      "5645\n"
     ]
    }
   ],
   "source": [
    "print(clf.support_) # indices of support vectors\n",
    "print(len(clf.support_)) "
   ]
  },
  {
   "cell_type": "code",
   "execution_count": 21,
   "metadata": {
    "collapsed": false,
    "scrolled": true
   },
   "outputs": [
    {
     "name": "stdout",
     "output_type": "stream",
     "text": [
      "  (0, 788)\t0.334508581932\n",
      "  (0, 6688)\t0.186432449526\n",
      "  (0, 7663)\t0.714128089135\n",
      "  (0, 9585)\t0.329624531452\n",
      "  (0, 11189)\t0.484474654601\n",
      "  (1, 92)\t0.336436716357\n",
      "  (1, 2060)\t0.425731411025\n",
      "  (1, 6688)\t0.431859035414\n",
      "  (1, 6706)\t0.201941118239\n",
      "  (1, 7810)\t0.280013131725\n",
      "  (1, 8195)\t0.324795349738\n",
      "  (1, 8548)\t0.325565704377\n",
      "  (1, 9957)\t0.283056855428\n",
      "  (1, 9977)\t0.329039625923\n",
      "  (2, 280)\t0.244739785246\n",
      "  (2, 483)\t0.135348274614\n",
      "  (2, 4252)\t0.373543991967\n",
      "  (2, 5051)\t0.147763322061\n",
      "  (2, 5687)\t0.295458566666\n",
      "  (2, 7992)\t0.352468214254\n",
      "  (2, 7993)\t0.428678333134\n",
      "  (2, 9974)\t0.36242213174\n",
      "  (2, 10126)\t0.308621057875\n",
      "  (2, 10300)\t0.230676341569\n",
      "  (2, 11410)\t0.145368601933\n",
      "  :\t:\n",
      "  (5643, 1393)\t0.191829832598\n",
      "  (5643, 1584)\t0.177978050135\n",
      "  (5643, 2042)\t0.475545661825\n",
      "  (5643, 3270)\t0.278602062488\n",
      "  (5643, 4146)\t0.308696187528\n",
      "  (5643, 8013)\t0.41180157506\n",
      "  (5643, 8774)\t0.337733574857\n",
      "  (5643, 10403)\t0.335440746579\n",
      "  (5643, 10997)\t0.369193726685\n",
      "  (5644, 788)\t0.132376373359\n",
      "  (5644, 1393)\t0.116441355388\n",
      "  (5644, 2489)\t0.390236718846\n",
      "  (5644, 3110)\t0.228624762536\n",
      "  (5644, 3835)\t0.176060826691\n",
      "  (5644, 4262)\t0.174996446811\n",
      "  (5644, 5251)\t0.163318941539\n",
      "  (5644, 6427)\t0.288657820641\n",
      "  (5644, 6434)\t0.283545881174\n",
      "  (5644, 6538)\t0.170181824469\n",
      "  (5644, 6628)\t0.390236718846\n",
      "  (5644, 6734)\t0.390236718846\n",
      "  (5644, 6985)\t0.219101966499\n",
      "  (5644, 9586)\t0.180773261655\n",
      "  (5644, 10676)\t0.246034182361\n",
      "  (5644, 10996)\t0.193905560136\n"
     ]
    }
   ],
   "source": [
    "print(clf.support_vectors_) # (0, 788) means the first support vector is of feature_names[788], feature_names[6688] and so on."
   ]
  },
  {
   "cell_type": "code",
   "execution_count": 22,
   "metadata": {
    "collapsed": false
   },
   "outputs": [
    {
     "data": {
      "text/plain": [
       "5645"
      ]
     },
     "execution_count": 22,
     "metadata": {},
     "output_type": "execute_result"
    }
   ],
   "source": [
    "arr = clf.support_vectors_.toarray(); len(arr)"
   ]
  },
  {
   "cell_type": "code",
   "execution_count": 23,
   "metadata": {
    "collapsed": false
   },
   "outputs": [
    {
     "data": {
      "text/plain": [
       "5645"
      ]
     },
     "execution_count": 23,
     "metadata": {},
     "output_type": "execute_result"
    }
   ],
   "source": [
    "len(clf.support_)"
   ]
  },
  {
   "cell_type": "code",
   "execution_count": 24,
   "metadata": {
    "collapsed": false
   },
   "outputs": [
    {
     "data": {
      "text/plain": [
       "5"
      ]
     },
     "execution_count": 24,
     "metadata": {},
     "output_type": "execute_result"
    }
   ],
   "source": [
    "b_1 = clf.support_vectors_[4543]\n",
    "b0 = clf.support_vectors_[0]\n",
    "b1 = clf.support_vectors_[5644]\n",
    "clf.support_vectors_[0].nnz"
   ]
  },
  {
   "cell_type": "code",
   "execution_count": 25,
   "metadata": {
    "collapsed": false
   },
   "outputs": [
    {
     "data": {
      "text/plain": [
       "array([  788,  6688,  7663,  9585, 11189])"
      ]
     },
     "execution_count": 25,
     "metadata": {},
     "output_type": "execute_result"
    }
   ],
   "source": [
    "clf.support_vectors_[0].indices"
   ]
  },
  {
   "cell_type": "code",
   "execution_count": 26,
   "metadata": {
    "collapsed": false
   },
   "outputs": [
    {
     "data": {
      "text/plain": [
       "5"
      ]
     },
     "execution_count": 26,
     "metadata": {},
     "output_type": "execute_result"
    }
   ],
   "source": [
    "len(clf.support_vectors_[0].indices) # length of each support vector in support_vectors"
   ]
  },
  {
   "cell_type": "code",
   "execution_count": 27,
   "metadata": {
    "collapsed": false,
    "scrolled": true
   },
   "outputs": [
    {
     "name": "stdout",
     "output_type": "stream",
     "text": [
      "  (0, 24)\t0.253176603594\n",
      "  (0, 1584)\t0.119961763146\n",
      "  (0, 1981)\t0.259877337811\n",
      "  (0, 2678)\t0.338715819544\n",
      "  (0, 4072)\t0.333343111562\n",
      "  (0, 4157)\t0.193119073801\n",
      "  (0, 5193)\t0.352253962419\n",
      "  (0, 6101)\t0.389121416827\n",
      "  (0, 6378)\t0.267592983865\n",
      "  (0, 9456)\t0.405435525294\n",
      "  (0, 11575)\t0.199873299198\n",
      "  (0, 11576)\t0.198499123366\n",
      "\n",
      "\n",
      "  (0, 788)\t0.334508581932\n",
      "  (0, 6688)\t0.186432449526\n",
      "  (0, 7663)\t0.714128089135\n",
      "  (0, 9585)\t0.329624531452\n",
      "  (0, 11189)\t0.484474654601\n",
      "\n",
      "\n",
      "  (0, 788)\t0.132376373359\n",
      "  (0, 1393)\t0.116441355388\n",
      "  (0, 2489)\t0.390236718846\n",
      "  (0, 3110)\t0.228624762536\n",
      "  (0, 3835)\t0.176060826691\n",
      "  (0, 4262)\t0.174996446811\n",
      "  (0, 5251)\t0.163318941539\n",
      "  (0, 6427)\t0.288657820641\n",
      "  (0, 6434)\t0.283545881174\n",
      "  (0, 6538)\t0.170181824469\n",
      "  (0, 6628)\t0.390236718846\n",
      "  (0, 6734)\t0.390236718846\n",
      "  (0, 6985)\t0.219101966499\n",
      "  (0, 9586)\t0.180773261655\n",
      "  (0, 10676)\t0.246034182361\n",
      "  (0, 10996)\t0.193905560136\n"
     ]
    }
   ],
   "source": [
    "print(b_1); print('\\n'); print(b0); print('\\n'); print(b1)\n"
   ]
  },
  {
   "cell_type": "code",
   "execution_count": 28,
   "metadata": {
    "collapsed": true
   },
   "outputs": [],
   "source": [
    "feature_names = tfidf_vectorizer.get_feature_names()"
   ]
  },
  {
   "cell_type": "code",
   "execution_count": 29,
   "metadata": {
    "collapsed": false
   },
   "outputs": [
    {
     "name": "stdout",
     "output_type": "stream",
     "text": [
      "50\n"
     ]
    },
    {
     "data": {
      "text/plain": [
       "'abstracts'"
      ]
     },
     "execution_count": 29,
     "metadata": {},
     "output_type": "execute_result"
    }
   ],
   "source": [
    "i = clf.support_[5] #i is indices of support vectors\n",
    "print(i)\n",
    "feature_names[i] #11786 is the last index"
   ]
  },
  {
   "cell_type": "code",
   "execution_count": 31,
   "metadata": {
    "collapsed": false
   },
   "outputs": [
    {
     "data": {
      "text/plain": [
       "11787"
      ]
     },
     "execution_count": 31,
     "metadata": {},
     "output_type": "execute_result"
    }
   ],
   "source": [
    "import numpy as np\n",
    "np.asarray(feature_names)\n",
    "len(np.asarray(feature_names))"
   ]
  },
  {
   "cell_type": "markdown",
   "metadata": {},
   "source": [
    "** Plot this? **"
   ]
  },
  {
   "cell_type": "code",
   "execution_count": 32,
   "metadata": {
    "collapsed": false
   },
   "outputs": [
    {
     "data": {
      "text/plain": [
       "array(<5645x11787 sparse matrix of type '<class 'numpy.float64'>'\n",
       "\twith 68495 stored elements in Compressed Sparse Row format>, dtype=object)"
      ]
     },
     "execution_count": 32,
     "metadata": {},
     "output_type": "execute_result"
    }
   ],
   "source": [
    "np.asarray(clf.support_vectors_) "
   ]
  },
  {
   "cell_type": "code",
   "execution_count": 35,
   "metadata": {
    "collapsed": false
   },
   "outputs": [
    {
     "data": {
      "text/plain": [
       "(1, 11787)"
      ]
     },
     "execution_count": 35,
     "metadata": {},
     "output_type": "execute_result"
    }
   ],
   "source": [
    "clf.coef_.shape"
   ]
  },
  {
   "cell_type": "markdown",
   "metadata": {},
   "source": [
    "The top word"
   ]
  },
  {
   "cell_type": "code",
   "execution_count": 36,
   "metadata": {
    "collapsed": false
   },
   "outputs": [
    {
     "data": {
      "text/plain": [
       "12.703813543597244"
      ]
     },
     "execution_count": 36,
     "metadata": {},
     "output_type": "execute_result"
    }
   ],
   "source": [
    "clf.coef_.max()"
   ]
  },
  {
   "cell_type": "code",
   "execution_count": 37,
   "metadata": {
    "collapsed": false
   },
   "outputs": [
    {
     "name": "stdout",
     "output_type": "stream",
     "text": [
      "[3788]\n"
     ]
    }
   ],
   "source": [
    "max_val = clf.coef_.max()\n",
    "max_index = [i for i in range(clf.coef_.shape[1]) if clf.coef_[0,i] == max_val]\n",
    "print(max_index)"
   ]
  },
  {
   "cell_type": "code",
   "execution_count": 38,
   "metadata": {
    "collapsed": false
   },
   "outputs": [
    {
     "data": {
      "text/plain": [
       "'expression'"
      ]
     },
     "execution_count": 38,
     "metadata": {},
     "output_type": "execute_result"
    }
   ],
   "source": [
    "feature_names[max_index[0]]"
   ]
  },
  {
   "cell_type": "markdown",
   "metadata": {},
   "source": [
    "Top 10 words.\n",
    "\n",
    "Below is a lengthty way. ?? How to access sparse matrix ??"
   ]
  },
  {
   "cell_type": "code",
   "execution_count": 39,
   "metadata": {
    "collapsed": false
   },
   "outputs": [
    {
     "name": "stdout",
     "output_type": "stream",
     "text": [
      "[ 0.22481396  0.22481396  0.22481396 ...,  0.23581732 -0.29174322\n",
      " -1.27559806]\n",
      "[808 772 853 666 792 898 822 845 858 895]\n",
      "[  4.62451548   4.92914911   4.97395186   5.17819179   5.3102506\n",
      "   5.94092569   6.74814103   6.79936762   8.22061429  12.70381354]\n"
     ]
    }
   ],
   "source": [
    "coef = clf.coef_.data; print(coef)\n",
    "top10_ind = np.argsort(coef)[-10:]; print(top10_ind) # top10 indexes\n",
    "top10_coef = coef[top10_ind]; print(top10_coef)"
   ]
  },
  {
   "cell_type": "code",
   "execution_count": 40,
   "metadata": {
    "collapsed": false
   },
   "outputs": [
    {
     "name": "stdout",
     "output_type": "stream",
     "text": [
      "4.62451547591\n",
      "4.92914910599\n",
      "4.97395185537\n",
      "5.17819179054\n",
      "5.31025059833\n",
      "5.94092569482\n",
      "6.74814103087\n",
      "6.79936762057\n",
      "8.22061428955\n",
      "12.7038135436\n"
     ]
    }
   ],
   "source": [
    "for i in top10_coef:\n",
    "    print(i)"
   ]
  },
  {
   "cell_type": "code",
   "execution_count": 41,
   "metadata": {
    "collapsed": false
   },
   "outputs": [
    {
     "name": "stdout",
     "output_type": "stream",
     "text": [
      "10531\n",
      "7820\n",
      "3784\n",
      "9212\n",
      "3108\n",
      "10678\n",
      "9216\n",
      "10677\n",
      "10674\n",
      "3788\n"
     ]
    }
   ],
   "source": [
    "top10_index = list()\n",
    "for i in top10_coef:\n",
    "    for j in range(clf.coef_.shape[1]):\n",
    "        if clf.coef_[0,j] == i:\n",
    "            top10_index.append(j); print(j)"
   ]
  },
  {
   "cell_type": "code",
   "execution_count": 42,
   "metadata": {
    "collapsed": false
   },
   "outputs": [
    {
     "name": "stdout",
     "output_type": "stream",
     "text": [
      "suppression\n",
      "overexpression\n",
      "expressed\n",
      "regulated\n",
      "downregulation\n",
      "targets\n",
      "regulation\n",
      "targeting\n",
      "target\n",
      "expression\n"
     ]
    }
   ],
   "source": [
    "for item in top10_index:\n",
    "    print(feature_names[item])"
   ]
  },
  {
   "cell_type": "code",
   "execution_count": null,
   "metadata": {
    "collapsed": true
   },
   "outputs": [],
   "source": [
    "clf.support_vectors_.data"
   ]
  },
  {
   "cell_type": "code",
   "execution_count": null,
   "metadata": {
    "collapsed": false
   },
   "outputs": [],
   "source": [
    "[clf.support_vectors_.indices]"
   ]
  },
  {
   "cell_type": "code",
   "execution_count": null,
   "metadata": {
    "collapsed": false
   },
   "outputs": [],
   "source": [
    "len(clf.support_vectors_.indices)"
   ]
  },
  {
   "cell_type": "code",
   "execution_count": null,
   "metadata": {
    "collapsed": true
   },
   "outputs": [],
   "source": [
    "clf.n_support_[1]"
   ]
  },
  {
   "cell_type": "code",
   "execution_count": null,
   "metadata": {
    "collapsed": true
   },
   "outputs": [],
   "source": [
    "sv_index_0 = clf.support_vectors_.indices[0:clf.n_support_[0]]; print(sv_index_0)\n",
    "sv_index_1 = clf.support_vectors_.indices[clf.n_support_[0]:len(clf.support_)]; print(sv_index_1)"
   ]
  },
  {
   "cell_type": "code",
   "execution_count": null,
   "metadata": {
    "collapsed": true
   },
   "outputs": [],
   "source": [
    "sv_index_0 = clf.support_vectors_.indices[0]; print(sv_index_0)\n",
    "sv_index_1 = clf.support_vectors_.indices[4544]; print(sv_index_1)"
   ]
  },
  {
   "cell_type": "code",
   "execution_count": null,
   "metadata": {
    "collapsed": true
   },
   "outputs": [],
   "source": [
    "len(clf.support_); clf.n_support_[0]"
   ]
  },
  {
   "cell_type": "markdown",
   "metadata": {
    "collapsed": true
   },
   "source": [
    "COUNT NUMBER OF WORDS, BY COUNTING NUMBER OF ITEMS (i.e. indexes) IN clf.support_vectors_.indices, for each class.\n",
    "use mumpy.histogram, use list.count. Then use feature_names[top 5 highest index]"
   ]
  },
  {
   "cell_type": "code",
   "execution_count": null,
   "metadata": {
    "collapsed": false
   },
   "outputs": [],
   "source": [
    "import matplotlib.pyplot as plt\n",
    "import numpy as np"
   ]
  },
  {
   "cell_type": "markdown",
   "metadata": {},
   "source": [
    "Compute histogram for `clf.support_vectors_.indices`"
   ]
  },
  {
   "cell_type": "code",
   "execution_count": null,
   "metadata": {
    "collapsed": false
   },
   "outputs": [],
   "source": [
    "hist = np.histogram(clf.support_vectors_.indices) # need to do for hist_neg, hist_pos\n",
    "#hist"
   ]
  },
  {
   "cell_type": "code",
   "execution_count": null,
   "metadata": {
    "collapsed": false
   },
   "outputs": [],
   "source": [
    "%matplotlib inline\n",
    "num_bins = tfidf_vectors.shape[1]\n",
    "plt.hist(clf.support_vectors_.indices, bins=num_bins); # This takes awhile to plot, as tfidf_vectors.shape[1] is 11787 "
   ]
  },
  {
   "cell_type": "markdown",
   "metadata": {},
   "source": [
    "Separate the support vectors from class 0 and class 1, so that we can look into the top 10 support vectors for each class."
   ]
  },
  {
   "cell_type": "code",
   "execution_count": null,
   "metadata": {
    "collapsed": false
   },
   "outputs": [],
   "source": [
    "C0_support_ = clf.support_[0:clf.n_support_[0]]; print(C0_support_)\n",
    "start_i = clf.n_support_[0]; end_i = clf.n_support_[0] + clf.n_support_[1]; print(start_i); print(end_i)\n",
    "C1_support_ = clf.support_[start_i:end_i]; print(C1_support_)"
   ]
  },
  {
   "cell_type": "markdown",
   "metadata": {},
   "source": [
    "`C0_support_` contains the support vectors' indices for `class 0`. \n",
    "\n",
    "`C1_support_` contains the support vectors' indices for `class 1`. "
   ]
  },
  {
   "cell_type": "code",
   "execution_count": null,
   "metadata": {
    "collapsed": false
   },
   "outputs": [],
   "source": [
    "a=clf.support_vectors_[C0_support[0]].indices; print(a)\n",
    "for i in C0_support[1:]:\n",
    "    b = clf.support_vectors_[i].indices;\n",
    "    a = np.append(a,b)    \n",
    "    #print(a)"
   ]
  }
 ],
 "metadata": {
  "kernelspec": {
   "display_name": "Python 3",
   "language": "python",
   "name": "python3"
  },
  "language_info": {
   "codemirror_mode": {
    "name": "ipython",
    "version": 3
   },
   "file_extension": ".py",
   "mimetype": "text/x-python",
   "name": "python",
   "nbconvert_exporter": "python",
   "pygments_lexer": "ipython3",
   "version": "3.5.1"
  }
 },
 "nbformat": 4,
 "nbformat_minor": 0
}
