{
 "cells": [
  {
   "cell_type": "markdown",
   "metadata": {},
   "source": [
    "## Load data"
   ]
  },
  {
   "cell_type": "code",
   "execution_count": 2,
   "metadata": {
    "collapsed": false,
    "scrolled": false
   },
   "outputs": [],
   "source": [
    "file_test = 'C:\\Data\\Miroculus\\A3_1_2016_text_inputs\\A3_1_2016_binary_data_entities_normalize_rmstopwords_stem_test.tsv'\n",
    "file_train = 'C:\\Data\\Miroculus\\A3_1_2016_text_inputs\\A3_1_2016_binary_data_entities_normalize_rmstopwords_stem_train.tsv'"
   ]
  },
  {
   "cell_type": "code",
   "execution_count": 3,
   "metadata": {
    "collapsed": false,
    "scrolled": false
   },
   "outputs": [
    {
     "data": {
      "text/plain": [
       "<bound method NDFrame.head of              Label                                               Text\n",
       "0      NO_RELATION  result identifi previous report breast cancer-...\n",
       "1      NO_RELATION  conclus taken togeth mmvarentty1mm/ggvarentty1...\n",
       "2         RELATION  revers correl mmvarentty1mm ggvarentty1gg also...\n",
       "3         RELATION  result suggest recognit site mmvarentty1mm mmv...\n",
       "4         RELATION  issu jci ghosh colleagu identifi uniqu microrn...\n",
       "5      NO_RELATION  conclus mmvarentty1mm may promot cell ggvarent...\n",
       "6      NO_RELATION        howev role mmvarentty1mm npc remain unknown\n",
       "7         RELATION  targetscan predict ggvarentty1gg ggvarentty2gg...\n",
       "8      NO_RELATION  increas mmvarentty1mm depend upon ggvarentty1g...\n",
       "9      NO_RELATION  revers correl mmvarentty1mm ggvarentty1gg expr...\n",
       "10        RELATION  studi identifi mmvarentty1mm mmvarentty2mm mic...\n",
       "11        RELATION  show mmvarentty1mm oncosuppress microrna lost ...\n",
       "12     NO_RELATION  newli identifi mmvarentty1mm/ggvarentty1gg ggv...\n",
       "13        RELATION  data place mmvarentty1mm regulatori loop ggvar...\n",
       "14        RELATION  result suggest suppress mmvarentty1mm express ...\n",
       "15        RELATION  among mmvarentty1mm relat ggvarentty1gg resist...\n",
       "16        RELATION  knockdown mmvarentty1mm enhanc anticanc effect...\n",
       "17        RELATION  use bioinformat identifi three potenti target ...\n",
       "18     NO_RELATION  show amongst mirna down-regul mmvarentty1mm mm...\n",
       "19     NO_RELATION  studi express matur mmvarentty1mm breast tumor...\n",
       "20     NO_RELATION  collect find highlight mmvarentty1mm/mmvarentt...\n",
       "21     NO_RELATION  ggvarentty1gg overexpress pdac also direct tar...\n",
       "22     NO_RELATION  conclus mmvarentty1mm level potenti establish ...\n",
       "23     NO_RELATION  show central tumour suppressor ggvarentty1gg e...\n",
       "24        RELATION  valid ggvarentty1gg ggvarentty2gg ggvarentty3g...\n",
       "25     NO_RELATION  furthermor mcf7 cell overexpress mmvarentty1mm...\n",
       "26     NO_RELATION  present studi aim investig express regulatori ...\n",
       "27     NO_RELATION  protein microarray reveal knockdown ggvarentty...\n",
       "28        RELATION  like neg regul ggvarentty1gg ggvarentty2gg mmv...\n",
       "29        RELATION  identifi ggvarentty1gg ggvarentty2gg direct mm...\n",
       "...            ...                                                ...\n",
       "10753  NO_RELATION  howev mmvarentty1mm rare character chronic mye...\n",
       "10754  NO_RELATION  ggvarentty1gg growth evalu vivo imag luciferas...\n",
       "10755     RELATION  result suggest ggvarentty1gg ggvarentty2gg gen...\n",
       "10756     RELATION  forc express mmvarentty1mm dramat inhibit leuk...\n",
       "10757  NO_RELATION  studi suggest manipul mmvarentty1mm express us...\n",
       "10758  NO_RELATION  taqman microrna assay show down-regul mmvarent...\n",
       "10759     RELATION  also correl express ggvarentty1gg mrna mirna e...\n",
       "10760  NO_RELATION  function effect mmvarentty1mm inhibit growth h...\n",
       "10761  NO_RELATION  moreov found ggvarentty1gg express regul post-...\n",
       "10762  NO_RELATION  found mmvarentty1mm rs2910164 polymorph associ...\n",
       "10763  NO_RELATION  aim studi investig express pattern prognost re...\n",
       "10764     RELATION  invers correl found mmvarentty1mm ggvarentty1g...\n",
       "10765  NO_RELATION  final function studi demonstr mmvarentty1mm kn...\n",
       "10766  NO_RELATION  method perform real-tim pcr western blot cck8 ...\n",
       "10767     RELATION  investig reveal mmvarentty1mm target ggvarentt...\n",
       "10768  NO_RELATION  analys reveal mmvarentty1mm regul upstream pro...\n",
       "10769     RELATION  identifi manganes ggvarentty1gg mnsod messeng ...\n",
       "10770     RELATION  find indic mmvarentty1mm upregul gc may key ro...\n",
       "10771     RELATION  restor mmvarentty1mm silenc ggvarentty1gg znf2...\n",
       "10772  NO_RELATION  endometri express zeb ggvarentty1gg patient ex...\n",
       "10773     RELATION  ggvarentty1gg neg regul mmvarentty1mm post-tra...\n",
       "10774  NO_RELATION  murin ggvarentty1gg increas mmvarentty1mm expr...\n",
       "10775     RELATION  ggvarentty1gg ggvarentty2gg protein express up...\n",
       "10776  NO_RELATION  result show mmvarentty1mm significantli downre...\n",
       "10777  NO_RELATION  investig clinic import mmvarentty1mm select hi...\n",
       "10778     RELATION  h2o2 upregul ggvarentty1gg mmvarentty1mm downr...\n",
       "10779  NO_RELATION  identifi ggvarentty1gg direct mmvarentty1mm ta...\n",
       "10780     RELATION  stabl overexpress mmvarentty1mm a549 cell resu...\n",
       "10781  NO_RELATION  result product microrna ggvarentty1gg-21 ggvar...\n",
       "10782  NO_RELATION  conclus polymorph mmvarentty1mm gene unlik sub...\n",
       "\n",
       "[10783 rows x 2 columns]>"
      ]
     },
     "execution_count": 3,
     "metadata": {},
     "output_type": "execute_result"
    }
   ],
   "source": [
    "import pandas as pd\n",
    "test = pd.read_csv(file_test, quotechar='\"', delimiter='\\t', header=None, names=['Label', 'Text'])\n",
    "train = pd.read_csv(file_train, quotechar='\"', delimiter='\\t', header=None, names=['Label', 'Text'])\n",
    "test.head; train.head"
   ]
  },
  {
   "cell_type": "markdown",
   "metadata": {},
   "source": [
    "## Vectorise text data into numerical vector"
   ]
  },
  {
   "cell_type": "markdown",
   "metadata": {},
   "source": [
    "### Using `CountVectorizer`"
   ]
  },
  {
   "cell_type": "code",
   "execution_count": 4,
   "metadata": {
    "collapsed": false,
    "scrolled": false
   },
   "outputs": [],
   "source": [
    "from sklearn.feature_extraction.text import TfidfVectorizer\n",
    "tfidf_vectorizer = TfidfVectorizer(analyzer='word', stop_words='english', ngram_range=(1,1), max_df=0.9, min_df=0.01)\n",
    "train_tfidf_vectors = tfidf_vectorizer.fit_transform(train.Text)"
   ]
  },
  {
   "cell_type": "markdown",
   "metadata": {},
   "source": [
    "** Note: ** Numbers not removed. Consider removing numbers."
   ]
  },
  {
   "cell_type": "markdown",
   "metadata": {},
   "source": [
    "`tfidf_vectorizer.vocabulary_` is a `dict`"
   ]
  },
  {
   "cell_type": "code",
   "execution_count": 5,
   "metadata": {
    "collapsed": false,
    "scrolled": true
   },
   "outputs": [
    {
     "data": {
      "text/plain": [
       "{'001': 0,\n",
       " '05': 1,\n",
       " '16': 2,\n",
       " '3p': 3,\n",
       " '5p': 4,\n",
       " 'act': 5,\n",
       " 'activ': 6,\n",
       " 'addit': 7,\n",
       " 'affect': 8,\n",
       " 'aim': 9,\n",
       " 'alter': 10,\n",
       " 'analys': 11,\n",
       " 'analysi': 12,\n",
       " 'analyz': 13,\n",
       " 'apoptosi': 14,\n",
       " 'arrest': 15,\n",
       " 'assay': 16,\n",
       " 'associ': 17,\n",
       " 'bind': 18,\n",
       " 'bioinformat': 19,\n",
       " 'biomark': 20,\n",
       " 'blot': 21,\n",
       " 'breast': 22,\n",
       " 'cancer': 23,\n",
       " 'carcinoma': 24,\n",
       " 'caus': 25,\n",
       " 'cell': 26,\n",
       " 'chain': 27,\n",
       " 'chang': 28,\n",
       " 'clinic': 29,\n",
       " 'cluster': 30,\n",
       " 'colon': 31,\n",
       " 'combin': 32,\n",
       " 'compar': 33,\n",
       " 'conclus': 34,\n",
       " 'confirm': 35,\n",
       " 'contribut': 36,\n",
       " 'control': 37,\n",
       " 'correl': 38,\n",
       " 'crc': 39,\n",
       " 'cycl': 40,\n",
       " 'data': 41,\n",
       " 'decreas': 42,\n",
       " 'demonstr': 43,\n",
       " 'depend': 44,\n",
       " 'detect': 45,\n",
       " 'determin': 46,\n",
       " 'develop': 47,\n",
       " 'differ': 48,\n",
       " 'differenti': 49,\n",
       " 'direct': 50,\n",
       " 'directli': 51,\n",
       " 'diseas': 52,\n",
       " 'downregul': 53,\n",
       " 'downstream': 54,\n",
       " 'ectop': 55,\n",
       " 'effect': 56,\n",
       " 'elev': 57,\n",
       " 'enhanc': 58,\n",
       " 'epitheli': 59,\n",
       " 'evalu': 60,\n",
       " 'evid': 61,\n",
       " 'examin': 62,\n",
       " 'express': 63,\n",
       " 'factor': 64,\n",
       " 'famili': 65,\n",
       " 'final': 66,\n",
       " 'format': 67,\n",
       " 'function': 68,\n",
       " 'furthermor': 69,\n",
       " 'gastric': 70,\n",
       " 'gc': 71,\n",
       " 'gene': 72,\n",
       " 'ggvarentty1gg': 73,\n",
       " 'ggvarentty2gg': 74,\n",
       " 'ggvarentty3gg': 75,\n",
       " 'ggvarentty4gg': 76,\n",
       " 'ggvarentty5gg': 77,\n",
       " 'ggvarentty6gg': 78,\n",
       " 'ggvarentty7gg': 79,\n",
       " 'glioma': 80,\n",
       " 'group': 81,\n",
       " 'growth': 82,\n",
       " 'healthi': 83,\n",
       " 'high': 84,\n",
       " 'higher': 85,\n",
       " 'howev': 86,\n",
       " 'human': 87,\n",
       " 'identifi': 88,\n",
       " 'implic': 89,\n",
       " 'import': 90,\n",
       " 'includ': 91,\n",
       " 'increas': 92,\n",
       " 'independ': 93,\n",
       " 'indic': 94,\n",
       " 'induc': 95,\n",
       " 'induct': 96,\n",
       " 'inhibit': 97,\n",
       " 'interact': 98,\n",
       " 'invas': 99,\n",
       " 'invers': 100,\n",
       " 'investig': 101,\n",
       " 'involv': 102,\n",
       " 'knockdown': 103,\n",
       " 'known': 104,\n",
       " 'lead': 105,\n",
       " 'level': 106,\n",
       " 'line': 107,\n",
       " 'liver': 108,\n",
       " 'loss': 109,\n",
       " 'low': 110,\n",
       " 'lower': 111,\n",
       " 'luciferas': 112,\n",
       " 'malign': 113,\n",
       " 'marker': 114,\n",
       " 'mechan': 115,\n",
       " 'medi': 116,\n",
       " 'mediat': 117,\n",
       " 'metastasi': 118,\n",
       " 'metastat': 119,\n",
       " 'method': 120,\n",
       " 'methyl': 121,\n",
       " 'mice': 122,\n",
       " 'microrna': 123,\n",
       " 'migrat': 124,\n",
       " 'mimic': 125,\n",
       " 'mirna': 126,\n",
       " 'mmvarentty2mm': 127,\n",
       " 'mmvarentty3mm': 128,\n",
       " 'mmvarentty4mm': 129,\n",
       " 'mmvarentty5mm': 130,\n",
       " 'mmvarentty6mm': 131,\n",
       " 'model': 132,\n",
       " 'modul': 133,\n",
       " 'molecular': 134,\n",
       " 'moreov': 135,\n",
       " 'mrna': 136,\n",
       " 'mutat': 137,\n",
       " 'neg': 138,\n",
       " 'new': 139,\n",
       " 'non': 140,\n",
       " 'normal': 141,\n",
       " 'novel': 142,\n",
       " 'nsclc': 143,\n",
       " 'observ': 144,\n",
       " 'oncogen': 145,\n",
       " 'osteosarcoma': 146,\n",
       " 'overexpress': 147,\n",
       " 'partial': 148,\n",
       " 'pathway': 149,\n",
       " 'patient': 150,\n",
       " 'pcr': 151,\n",
       " 'phenotyp': 152,\n",
       " 'play': 153,\n",
       " 'posit': 154,\n",
       " 'possibl': 155,\n",
       " 'potenti': 156,\n",
       " 'predict': 157,\n",
       " 'present': 158,\n",
       " 'primari': 159,\n",
       " 'process': 160,\n",
       " 'prognosi': 161,\n",
       " 'prognost': 162,\n",
       " 'progress': 163,\n",
       " 'prolifer': 164,\n",
       " 'promot': 165,\n",
       " 'prostat': 166,\n",
       " 'protein': 167,\n",
       " 'provid': 168,\n",
       " 'quantit': 169,\n",
       " 'reaction': 170,\n",
       " 'real': 171,\n",
       " 'recent': 172,\n",
       " 'reduc': 173,\n",
       " 'reduct': 174,\n",
       " 'region': 175,\n",
       " 'regul': 176,\n",
       " 'regulatori': 177,\n",
       " 'rel': 178,\n",
       " 'relat': 179,\n",
       " 'report': 180,\n",
       " 'repress': 181,\n",
       " 'resist': 182,\n",
       " 'respect': 183,\n",
       " 'respons': 184,\n",
       " 'restor': 185,\n",
       " 'result': 186,\n",
       " 'reveal': 187,\n",
       " 'revers': 188,\n",
       " 'risk': 189,\n",
       " 'rna': 190,\n",
       " 'role': 191,\n",
       " 'rt': 192,\n",
       " 'sampl': 193,\n",
       " 'sensit': 194,\n",
       " 'sequenc': 195,\n",
       " 'serum': 196,\n",
       " 'sever': 197,\n",
       " 'shown': 198,\n",
       " 'signal': 199,\n",
       " 'signific': 200,\n",
       " 'significantli': 201,\n",
       " 'silenc': 202,\n",
       " 'site': 203,\n",
       " 'specif': 204,\n",
       " 'stage': 205,\n",
       " 'studi': 206,\n",
       " 'suggest': 207,\n",
       " 'suppress': 208,\n",
       " 'surviv': 209,\n",
       " 'taken': 210,\n",
       " 'target': 211,\n",
       " 'therapeut': 212,\n",
       " 'therapi': 213,\n",
       " 'thu': 214,\n",
       " 'tim': 215,\n",
       " 'time': 216,\n",
       " 'tissu': 217,\n",
       " 'togeth': 218,\n",
       " 'transcript': 219,\n",
       " 'transfect': 220,\n",
       " 'treatment': 221,\n",
       " 'tumor': 222,\n",
       " 'type': 223,\n",
       " 'untransl': 224,\n",
       " 'upregul': 225,\n",
       " 'use': 226,\n",
       " 'utr': 227,\n",
       " 'valid': 228,\n",
       " 'vitro': 229,\n",
       " 'vivo': 230,\n",
       " 'western': 231,\n",
       " 'wherea': 232}"
      ]
     },
     "execution_count": 5,
     "metadata": {},
     "output_type": "execute_result"
    }
   ],
   "source": [
    "tfidf_vectorizer.vocabulary_"
   ]
  },
  {
   "cell_type": "code",
   "execution_count": 6,
   "metadata": {
    "collapsed": false,
    "scrolled": false
   },
   "outputs": [
    {
     "data": {
      "text/plain": [
       "(10783, 233)"
      ]
     },
     "execution_count": 6,
     "metadata": {},
     "output_type": "execute_result"
    }
   ],
   "source": [
    "train_tfidf_vectors.shape"
   ]
  },
  {
   "cell_type": "code",
   "execution_count": 7,
   "metadata": {
    "collapsed": false,
    "scrolled": false
   },
   "outputs": [
    {
     "data": {
      "text/plain": [
       "array([ 0.35076054,  0.30204213,  0.21158038, ...,  0.37578529,\n",
       "        0.28848477,  0.42515082])"
      ]
     },
     "execution_count": 7,
     "metadata": {},
     "output_type": "execute_result"
    }
   ],
   "source": [
    "train_tfidf_vectors.data"
   ]
  },
  {
   "cell_type": "code",
   "execution_count": 8,
   "metadata": {
    "collapsed": false,
    "scrolled": false
   },
   "outputs": [
    {
     "name": "stdout",
     "output_type": "stream",
     "text": [
      "101851\n",
      "9.44551609014189\n",
      "4.053869566584503\n"
     ]
    }
   ],
   "source": [
    "print(train_tfidf_vectors.nnz) # number of non-zero elements\n",
    "print(train_tfidf_vectors.nnz / float(train_tfidf_vectors.shape[0])) # non-zero per sample\n",
    "print(train_tfidf_vectors.nnz / float(train_tfidf_vectors.shape[0] * train_tfidf_vectors.shape[1]) * 100) # non-zero per feature space in %"
   ]
  },
  {
   "cell_type": "markdown",
   "metadata": {},
   "source": [
    "## Data Preprocessing: \n",
    "### Attributes and Target"
   ]
  },
  {
   "cell_type": "markdown",
   "metadata": {},
   "source": [
    "### Convert categorical labels into numerical labels"
   ]
  },
  {
   "cell_type": "code",
   "execution_count": 9,
   "metadata": {
    "collapsed": false,
    "scrolled": false
   },
   "outputs": [],
   "source": [
    "from sklearn import preprocessing"
   ]
  },
  {
   "cell_type": "code",
   "execution_count": 10,
   "metadata": {
    "collapsed": false,
    "scrolled": false
   },
   "outputs": [
    {
     "data": {
      "text/plain": [
       "['NO_RELATION', 'RELATION']"
      ]
     },
     "execution_count": 10,
     "metadata": {},
     "output_type": "execute_result"
    }
   ],
   "source": [
    "le = preprocessing.LabelEncoder()\n",
    "le.fit(train.Label)\n",
    "list(le.classes_)"
   ]
  },
  {
   "cell_type": "code",
   "execution_count": 11,
   "metadata": {
    "collapsed": false,
    "scrolled": false
   },
   "outputs": [
    {
     "name": "stdout",
     "output_type": "stream",
     "text": [
      "[0 0 1 1 1]\n",
      "['NO_RELATION' 'NO_RELATION' 'RELATION' 'RELATION' 'RELATION']\n"
     ]
    }
   ],
   "source": [
    "y_train = le.transform(train.Label);\n",
    "y_test = le.transform(test.Label);\n",
    "\n",
    "print(y_train[0:5])\n",
    "print(le.inverse_transform(y_train[0:5]))"
   ]
  },
  {
   "cell_type": "markdown",
   "metadata": {},
   "source": [
    "`X` is data, `y` is target. `X` has the size of `n_samples` x `n_features`, `y` has `n_samples` x 1 labels"
   ]
  },
  {
   "cell_type": "code",
   "execution_count": 12,
   "metadata": {
    "collapsed": false,
    "scrolled": false
   },
   "outputs": [],
   "source": [
    "X_train = train_tfidf_vectors"
   ]
  },
  {
   "cell_type": "code",
   "execution_count": 13,
   "metadata": {
    "collapsed": true,
    "scrolled": true
   },
   "outputs": [],
   "source": [
    "X_test = tfidf_vectorizer.transform(test.Text)"
   ]
  },
  {
   "cell_type": "code",
   "execution_count": 14,
   "metadata": {
    "collapsed": false,
    "scrolled": true
   },
   "outputs": [
    {
     "data": {
      "text/plain": [
       "(3595, 233)"
      ]
     },
     "execution_count": 14,
     "metadata": {},
     "output_type": "execute_result"
    }
   ],
   "source": [
    "X_test.shape"
   ]
  },
  {
   "cell_type": "code",
   "execution_count": 15,
   "metadata": {
    "collapsed": false,
    "scrolled": true
   },
   "outputs": [
    {
     "data": {
      "text/plain": [
       "array([ 0.2597683 ,  0.27758534,  0.27108252, ...,  0.18050815,\n",
       "        0.36407148,  0.19773178])"
      ]
     },
     "execution_count": 15,
     "metadata": {},
     "output_type": "execute_result"
    }
   ],
   "source": [
    "X_test.data"
   ]
  },
  {
   "cell_type": "markdown",
   "metadata": {},
   "source": [
    "## Log Res: "
   ]
  },
  {
   "cell_type": "code",
   "execution_count": 16,
   "metadata": {
    "collapsed": false,
    "scrolled": true
   },
   "outputs": [
    {
     "data": {
      "text/plain": [
       "LogisticRegression(C=100000.0, class_weight='balanced', dual=False,\n",
       "          fit_intercept=True, intercept_scaling=1, max_iter=100,\n",
       "          multi_class='ovr', n_jobs=1, penalty='l2', random_state=None,\n",
       "          solver='liblinear', tol=0.0001, verbose=0, warm_start=False)"
      ]
     },
     "execution_count": 16,
     "metadata": {},
     "output_type": "execute_result"
    }
   ],
   "source": [
    "from sklearn import linear_model\n",
    "clf = linear_model.LogisticRegression(C=1e5, class_weight='balanced')\n",
    "clf.fit(X_train, y_train)"
   ]
  },
  {
   "cell_type": "code",
   "execution_count": 17,
   "metadata": {
    "collapsed": false,
    "scrolled": false
   },
   "outputs": [],
   "source": [
    "y_pred = clf.predict(X_test)"
   ]
  },
  {
   "cell_type": "code",
   "execution_count": 18,
   "metadata": {
    "collapsed": false,
    "scrolled": false
   },
   "outputs": [
    {
     "name": "stdout",
     "output_type": "stream",
     "text": [
      "             precision    recall  f1-score   support\n",
      "\n",
      "          0       0.73      0.73      0.73      1804\n",
      "          1       0.73      0.72      0.72      1791\n",
      "\n",
      "avg / total       0.73      0.73      0.73      3595\n",
      "\n"
     ]
    }
   ],
   "source": [
    "from sklearn import metrics\n",
    "print(metrics.classification_report(y_test, y_pred))"
   ]
  },
  {
   "cell_type": "code",
   "execution_count": 19,
   "metadata": {
    "collapsed": false,
    "scrolled": false
   },
   "outputs": [
    {
     "name": "stdout",
     "output_type": "stream",
     "text": [
      "[[1316  488]\n",
      " [ 498 1293]]\n"
     ]
    }
   ],
   "source": [
    "print(metrics.confusion_matrix(y_test, y_pred))"
   ]
  },
  {
   "cell_type": "markdown",
   "metadata": {},
   "source": [
    "### Coeficients of the decision function The top word"
   ]
  },
  {
   "cell_type": "code",
   "execution_count": 20,
   "metadata": {
    "collapsed": false,
    "scrolled": true
   },
   "outputs": [
    {
     "data": {
      "text/plain": [
       "array([[  5.31609855e-01,   6.61359273e-02,   2.23516114e+00,\n",
       "          4.67947281e-01,  -8.85513455e-01,   6.06873961e-01,\n",
       "          8.81714179e-01,   9.48469114e-01,   5.33088181e-01,\n",
       "         -3.09098139e-01,   9.65049662e-01,   4.08373339e-01,\n",
       "          8.97055393e-02,   6.28302212e-01,   3.75398890e-01,\n",
       "          3.18007584e-01,   4.60677670e-01,  -4.03836024e-01,\n",
       "          1.34551133e+00,   1.84675085e+00,  -1.03648445e+00,\n",
       "          2.69441216e+00,   3.97349803e-01,  -1.14898713e+00,\n",
       "         -6.98510193e-01,   1.33292470e+00,  -2.54747665e-02,\n",
       "          6.44022027e-01,   4.19774604e-01,   1.01787670e-02,\n",
       "          1.17258740e+00,   1.12856293e+00,   1.09243192e+00,\n",
       "         -6.69362469e-01,   6.04148163e-01,   1.02918960e+00,\n",
       "          7.20562049e-01,   7.01783847e-01,   7.64146246e-01,\n",
       "          3.15932820e-01,   1.74100595e+00,   2.98447887e-01,\n",
       "          1.03223196e+00,   4.07250601e-01,   1.24692338e+00,\n",
       "          3.35259497e-01,   1.27231563e+00,  -1.09308002e-01,\n",
       "          4.55571153e-01,   4.52580579e-01,   2.00350517e+00,\n",
       "          1.44451171e+00,  -9.81522335e-01,   1.77632530e+00,\n",
       "          5.01691438e-01,   7.33089733e-01,   8.42603060e-01,\n",
       "          9.54897130e-01,   7.26217596e-01,   2.78516046e-01,\n",
       "          6.71312362e-01,   5.99492657e-01,   4.89851227e-01,\n",
       "          1.74515710e+00,   2.69204466e-01,   8.81947611e-01,\n",
       "          3.50512881e-01,   4.37434366e-01,   2.52884914e-01,\n",
       "          2.50755772e-01,   1.47455424e+00,  -2.14995417e-01,\n",
       "          9.58280304e-01,   3.91105639e+00,   3.49570799e+00,\n",
       "          1.50095453e+00,   9.50556968e-01,   1.35724294e+00,\n",
       "          1.10658007e+00,   4.54175208e-01,  -4.96716361e-01,\n",
       "          1.02714441e+00,  -2.31273275e-01,  -1.09693927e+00,\n",
       "          2.64677437e-01,  -8.14779817e-02,  -2.20865320e-01,\n",
       "         -6.75785220e-01,   1.57694434e+00,   3.40940623e-01,\n",
       "          6.64699798e-01,   2.81898352e-01,   6.78868060e-01,\n",
       "          7.61836038e-01,   5.17590666e-01,   2.70251521e-01,\n",
       "          2.78913198e-01,   1.11214500e+00,   1.89940503e+00,\n",
       "         -5.63829235e-03,   2.76222551e+00,   3.25186261e-01,\n",
       "          5.79993182e-01,   1.02224822e+00,   1.28980257e+00,\n",
       "          3.71582396e-01,   7.59050971e-01,  -1.17740194e-01,\n",
       "         -7.21819262e-01,   5.59789244e-01,   9.33669953e-01,\n",
       "          9.87999559e-01,   1.91914976e+00,  -3.33408541e-01,\n",
       "          6.32934243e-01,   6.73508893e-01,   1.07163175e+00,\n",
       "          1.43840183e+00,  -7.76535892e-01,   1.53771398e-01,\n",
       "          1.14660954e-01,  -3.26674023e-01,  -9.54643856e-01,\n",
       "          4.53840258e-01,   8.99972755e-01,   5.83136939e-01,\n",
       "         -5.21542827e-01,   9.77939489e-01,   1.40906042e+00,\n",
       "          4.27150312e-01,   1.97123712e+00,   3.19019367e-02,\n",
       "         -1.08603081e+00,   1.17183823e+00,  -7.44658849e-01,\n",
       "          1.11804962e+00,   1.51923005e+00,   1.40838867e+00,\n",
       "          1.30901275e+00,  -2.76321470e-01,  -9.76799018e-01,\n",
       "          4.11650230e-01,   1.49489857e-01,   1.69313176e-01,\n",
       "         -1.31020712e-02,   1.26636362e+00,   7.91684017e-01,\n",
       "          7.71638638e-01,   2.27607849e+00,   7.20392591e-01,\n",
       "         -1.43443697e+00,  -1.46579658e+00,   1.52337530e+00,\n",
       "          6.30953742e-01,   1.40605781e+00,   4.91459278e-01,\n",
       "         -2.37482518e-01,   4.75525994e-01,  -5.19828208e-01,\n",
       "         -2.57464641e-02,   9.48859672e-01,   1.61888097e-01,\n",
       "          5.87712806e-01,   2.99016475e-03,   6.24263235e-01,\n",
       "          6.09459253e-01,   1.41919892e+00,   2.33293251e+00,\n",
       "          9.15354058e-01,   9.93809162e-01,  -2.69006833e+00,\n",
       "          6.67453336e-01,  -4.46343779e-01,   1.24427083e+00,\n",
       "          1.54705157e-01,   1.47432864e-01,   1.78945845e+00,\n",
       "          1.40336752e+00,  -4.08343633e-02,   1.06207875e+00,\n",
       "          1.29533947e+00,   2.22682984e+00,   1.19079286e+00,\n",
       "         -7.02962753e-03,   7.24047815e-01,   1.79324792e+00,\n",
       "          2.99966469e-01,   5.78834555e-01,   1.74826166e+00,\n",
       "         -1.84768473e+00,   1.64061796e-01,   5.87213947e-02,\n",
       "          1.87018200e+00,   5.58723476e-01,  -5.68774699e-01,\n",
       "          8.01299662e-01,  -6.49329159e-01,   3.68526583e-01,\n",
       "          9.83071515e-01,   1.00833368e+00,   6.23086044e-01,\n",
       "         -3.33292380e-01,   1.11644892e+00,   1.74264894e+00,\n",
       "         -3.86780234e-01,  -1.44667599e+00,   2.88864758e-01,\n",
       "          9.70603504e-01,   9.09311586e-01,   5.16474035e-01,\n",
       "          5.05447858e-01,   3.10962560e+00,  -1.32802893e-01,\n",
       "         -3.88471830e-02,   1.09831238e+00,   1.48518090e+00,\n",
       "          8.30510927e-01,  -3.28776620e-01,   6.94827072e-01,\n",
       "          1.30322811e+00,   1.20640352e+00,   5.24807286e-01,\n",
       "          2.01620313e-01,   8.22686334e-02,   1.93218844e+00,\n",
       "          6.65575590e-01,  -1.19223092e-01,   1.53886591e+00,\n",
       "         -1.32669884e-01,   6.58121873e-01,  -1.38445865e-01,\n",
       "          2.15844829e+00,  -1.26117229e-01]])"
      ]
     },
     "execution_count": 20,
     "metadata": {},
     "output_type": "execute_result"
    }
   ],
   "source": [
    "clf.coef_"
   ]
  },
  {
   "cell_type": "code",
   "execution_count": 21,
   "metadata": {
    "collapsed": false,
    "scrolled": true
   },
   "outputs": [
    {
     "data": {
      "text/plain": [
       "233"
      ]
     },
     "execution_count": 21,
     "metadata": {},
     "output_type": "execute_result"
    }
   ],
   "source": [
    "len(clf.coef_[0,])"
   ]
  },
  {
   "cell_type": "markdown",
   "metadata": {},
   "source": [
    "Get the index of coef with the maximum value."
   ]
  },
  {
   "cell_type": "code",
   "execution_count": 22,
   "metadata": {
    "collapsed": false,
    "scrolled": true
   },
   "outputs": [
    {
     "data": {
      "text/plain": [
       "73"
      ]
     },
     "execution_count": 22,
     "metadata": {},
     "output_type": "execute_result"
    }
   ],
   "source": [
    "clf.coef_.argmax()"
   ]
  },
  {
   "cell_type": "code",
   "execution_count": 23,
   "metadata": {
    "collapsed": false,
    "scrolled": true
   },
   "outputs": [
    {
     "name": "stdout",
     "output_type": "stream",
     "text": [
      "ggvarentty1gg\n"
     ]
    }
   ],
   "source": [
    "m = clf.coef_.argmax()\n",
    "print(list(tfidf_vectorizer.vocabulary_.keys())[list(tfidf_vectorizer.vocabulary_.values()).index(m)])"
   ]
  },
  {
   "cell_type": "markdown",
   "metadata": {},
   "source": [
    "Get the index of the highest 10 coef value.\n",
    "\n",
    "**Note** `clf.coef_` is ndarray, see below:"
   ]
  },
  {
   "cell_type": "code",
   "execution_count": 24,
   "metadata": {
    "collapsed": false,
    "scrolled": true
   },
   "outputs": [
    {
     "data": {
      "text/plain": [
       "array([  5.31609855e-01,   6.61359273e-02,   2.23516114e+00,\n",
       "         4.67947281e-01,  -8.85513455e-01,   6.06873961e-01,\n",
       "         8.81714179e-01,   9.48469114e-01,   5.33088181e-01,\n",
       "        -3.09098139e-01,   9.65049662e-01,   4.08373339e-01,\n",
       "         8.97055393e-02,   6.28302212e-01,   3.75398890e-01,\n",
       "         3.18007584e-01,   4.60677670e-01,  -4.03836024e-01,\n",
       "         1.34551133e+00,   1.84675085e+00,  -1.03648445e+00,\n",
       "         2.69441216e+00,   3.97349803e-01,  -1.14898713e+00,\n",
       "        -6.98510193e-01,   1.33292470e+00,  -2.54747665e-02,\n",
       "         6.44022027e-01,   4.19774604e-01,   1.01787670e-02,\n",
       "         1.17258740e+00,   1.12856293e+00,   1.09243192e+00,\n",
       "        -6.69362469e-01,   6.04148163e-01,   1.02918960e+00,\n",
       "         7.20562049e-01,   7.01783847e-01,   7.64146246e-01,\n",
       "         3.15932820e-01,   1.74100595e+00,   2.98447887e-01,\n",
       "         1.03223196e+00,   4.07250601e-01,   1.24692338e+00,\n",
       "         3.35259497e-01,   1.27231563e+00,  -1.09308002e-01,\n",
       "         4.55571153e-01,   4.52580579e-01,   2.00350517e+00,\n",
       "         1.44451171e+00,  -9.81522335e-01,   1.77632530e+00,\n",
       "         5.01691438e-01,   7.33089733e-01,   8.42603060e-01,\n",
       "         9.54897130e-01,   7.26217596e-01,   2.78516046e-01,\n",
       "         6.71312362e-01,   5.99492657e-01,   4.89851227e-01,\n",
       "         1.74515710e+00,   2.69204466e-01,   8.81947611e-01,\n",
       "         3.50512881e-01,   4.37434366e-01,   2.52884914e-01,\n",
       "         2.50755772e-01,   1.47455424e+00,  -2.14995417e-01,\n",
       "         9.58280304e-01,   3.91105639e+00,   3.49570799e+00,\n",
       "         1.50095453e+00,   9.50556968e-01,   1.35724294e+00,\n",
       "         1.10658007e+00,   4.54175208e-01,  -4.96716361e-01,\n",
       "         1.02714441e+00,  -2.31273275e-01,  -1.09693927e+00,\n",
       "         2.64677437e-01,  -8.14779817e-02,  -2.20865320e-01,\n",
       "        -6.75785220e-01,   1.57694434e+00,   3.40940623e-01,\n",
       "         6.64699798e-01,   2.81898352e-01,   6.78868060e-01,\n",
       "         7.61836038e-01,   5.17590666e-01,   2.70251521e-01,\n",
       "         2.78913198e-01,   1.11214500e+00,   1.89940503e+00,\n",
       "        -5.63829235e-03,   2.76222551e+00,   3.25186261e-01,\n",
       "         5.79993182e-01,   1.02224822e+00,   1.28980257e+00,\n",
       "         3.71582396e-01,   7.59050971e-01,  -1.17740194e-01,\n",
       "        -7.21819262e-01,   5.59789244e-01,   9.33669953e-01,\n",
       "         9.87999559e-01,   1.91914976e+00,  -3.33408541e-01,\n",
       "         6.32934243e-01,   6.73508893e-01,   1.07163175e+00,\n",
       "         1.43840183e+00,  -7.76535892e-01,   1.53771398e-01,\n",
       "         1.14660954e-01,  -3.26674023e-01,  -9.54643856e-01,\n",
       "         4.53840258e-01,   8.99972755e-01,   5.83136939e-01,\n",
       "        -5.21542827e-01,   9.77939489e-01,   1.40906042e+00,\n",
       "         4.27150312e-01,   1.97123712e+00,   3.19019367e-02,\n",
       "        -1.08603081e+00,   1.17183823e+00,  -7.44658849e-01,\n",
       "         1.11804962e+00,   1.51923005e+00,   1.40838867e+00,\n",
       "         1.30901275e+00,  -2.76321470e-01,  -9.76799018e-01,\n",
       "         4.11650230e-01,   1.49489857e-01,   1.69313176e-01,\n",
       "        -1.31020712e-02,   1.26636362e+00,   7.91684017e-01,\n",
       "         7.71638638e-01,   2.27607849e+00,   7.20392591e-01,\n",
       "        -1.43443697e+00,  -1.46579658e+00,   1.52337530e+00,\n",
       "         6.30953742e-01,   1.40605781e+00,   4.91459278e-01,\n",
       "        -2.37482518e-01,   4.75525994e-01,  -5.19828208e-01,\n",
       "        -2.57464641e-02,   9.48859672e-01,   1.61888097e-01,\n",
       "         5.87712806e-01,   2.99016475e-03,   6.24263235e-01,\n",
       "         6.09459253e-01,   1.41919892e+00,   2.33293251e+00,\n",
       "         9.15354058e-01,   9.93809162e-01,  -2.69006833e+00,\n",
       "         6.67453336e-01,  -4.46343779e-01,   1.24427083e+00,\n",
       "         1.54705157e-01,   1.47432864e-01,   1.78945845e+00,\n",
       "         1.40336752e+00,  -4.08343633e-02,   1.06207875e+00,\n",
       "         1.29533947e+00,   2.22682984e+00,   1.19079286e+00,\n",
       "        -7.02962753e-03,   7.24047815e-01,   1.79324792e+00,\n",
       "         2.99966469e-01,   5.78834555e-01,   1.74826166e+00,\n",
       "        -1.84768473e+00,   1.64061796e-01,   5.87213947e-02,\n",
       "         1.87018200e+00,   5.58723476e-01,  -5.68774699e-01,\n",
       "         8.01299662e-01,  -6.49329159e-01,   3.68526583e-01,\n",
       "         9.83071515e-01,   1.00833368e+00,   6.23086044e-01,\n",
       "        -3.33292380e-01,   1.11644892e+00,   1.74264894e+00,\n",
       "        -3.86780234e-01,  -1.44667599e+00,   2.88864758e-01,\n",
       "         9.70603504e-01,   9.09311586e-01,   5.16474035e-01,\n",
       "         5.05447858e-01,   3.10962560e+00,  -1.32802893e-01,\n",
       "        -3.88471830e-02,   1.09831238e+00,   1.48518090e+00,\n",
       "         8.30510927e-01,  -3.28776620e-01,   6.94827072e-01,\n",
       "         1.30322811e+00,   1.20640352e+00,   5.24807286e-01,\n",
       "         2.01620313e-01,   8.22686334e-02,   1.93218844e+00,\n",
       "         6.65575590e-01,  -1.19223092e-01,   1.53886591e+00,\n",
       "        -1.32669884e-01,   6.58121873e-01,  -1.38445865e-01,\n",
       "         2.15844829e+00,  -1.26117229e-01])"
      ]
     },
     "execution_count": 24,
     "metadata": {},
     "output_type": "execute_result"
    }
   ],
   "source": [
    "clf.coef_[0]"
   ]
  },
  {
   "cell_type": "code",
   "execution_count": 25,
   "metadata": {
    "collapsed": false,
    "scrolled": true
   },
   "outputs": [
    {
     "name": "stdout",
     "output_type": "stream",
     "text": [
      "0.531609855221\n",
      "0.0661359272512\n"
     ]
    }
   ],
   "source": [
    "print(clf.coef_[0][0])\n",
    "print(clf.coef_[0][1])"
   ]
  },
  {
   "cell_type": "code",
   "execution_count": 26,
   "metadata": {
    "collapsed": false,
    "scrolled": true
   },
   "outputs": [
    {
     "name": "stdout",
     "output_type": "stream",
     "text": [
      "[ 73  74 211 100  21 167 148   2 181 231  50 130 224 112  98 192  19 185\n",
      " 176  53]\n"
     ]
    }
   ],
   "source": [
    "import numpy as np\n",
    "topN = np.argsort(clf.coef_[0])[::-1][:20]\n",
    "print(topN)"
   ]
  },
  {
   "cell_type": "code",
   "execution_count": 27,
   "metadata": {
    "collapsed": false,
    "scrolled": true
   },
   "outputs": [
    {
     "name": "stdout",
     "output_type": "stream",
     "text": [
      "ggvarentty1gg\n",
      "ggvarentty2gg\n",
      "target\n",
      "invers\n",
      "blot\n",
      "protein\n",
      "partial\n",
      "16\n",
      "repress\n",
      "western\n",
      "direct\n",
      "mmvarentty5mm\n",
      "untransl\n",
      "luciferas\n",
      "interact\n",
      "rt\n",
      "bioinformat\n",
      "restor\n",
      "regul\n",
      "downregul\n"
     ]
    }
   ],
   "source": [
    "for v in topN:\n",
    "    print(list(tfidf_vectorizer.vocabulary_.keys())[list(tfidf_vectorizer.vocabulary_.values()).index(v)])\n"
   ]
  },
  {
   "cell_type": "code",
   "execution_count": 28,
   "metadata": {
    "collapsed": false,
    "scrolled": true
   },
   "outputs": [
    {
     "name": "stdout",
     "output_type": "stream",
     "text": [
      "[170 189 151 205 150  23  83 132  20  52 140 122   4 118 134 108  24  87\n",
      "  33 196]\n"
     ]
    }
   ],
   "source": [
    "import numpy as np\n",
    "bottomN = np.argsort(clf.coef_[0])[::1][:20]\n",
    "print(bottomN)"
   ]
  },
  {
   "cell_type": "code",
   "execution_count": 29,
   "metadata": {
    "collapsed": false,
    "scrolled": true
   },
   "outputs": [
    {
     "name": "stdout",
     "output_type": "stream",
     "text": [
      "reaction\n",
      "risk\n",
      "pcr\n",
      "stage\n",
      "patient\n",
      "cancer\n",
      "healthi\n",
      "model\n",
      "biomark\n",
      "diseas\n",
      "non\n",
      "mice\n",
      "5p\n",
      "metastasi\n",
      "molecular\n",
      "liver\n",
      "carcinoma\n",
      "human\n",
      "compar\n",
      "serum\n"
     ]
    }
   ],
   "source": [
    "for v in bottomN:\n",
    "    print(list(tfidf_vectorizer.vocabulary_.keys())[list(tfidf_vectorizer.vocabulary_.values()).index(v)])\n"
   ]
  }
 ],
 "metadata": {
  "kernelspec": {
   "display_name": "Python 3",
   "language": "python",
   "name": "python3"
  },
  "language_info": {
   "codemirror_mode": {
    "name": "ipython",
    "version": 3
   },
   "file_extension": ".py",
   "mimetype": "text/x-python",
   "name": "python",
   "nbconvert_exporter": "python",
   "pygments_lexer": "ipython3",
   "version": "3.5.1"
  }
 },
 "nbformat": 4,
 "nbformat_minor": 0
}
