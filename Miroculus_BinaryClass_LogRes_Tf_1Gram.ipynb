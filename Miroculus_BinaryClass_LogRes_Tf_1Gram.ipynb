{
 "cells": [
  {
   "cell_type": "markdown",
   "metadata": {},
   "source": [
    "## Load data"
   ]
  },
  {
   "cell_type": "code",
   "execution_count": 2,
   "metadata": {
    "collapsed": false,
    "scrolled": false
   },
   "outputs": [],
   "source": [
    "file_test = 'C:\\Data\\Miroculus\\A3_1_2016_text_inputs\\A3_1_2016_binary_data_entities_normalize_rmstopwords_stem_test.tsv'\n",
    "file_train = 'C:\\Data\\Miroculus\\A3_1_2016_text_inputs\\A3_1_2016_binary_data_entities_normalize_rmstopwords_stem_train.tsv'"
   ]
  },
  {
   "cell_type": "code",
   "execution_count": 3,
   "metadata": {
    "collapsed": false,
    "scrolled": false
   },
   "outputs": [
    {
     "data": {
      "text/plain": [
       "<bound method NDFrame.head of              Label                                               Text\n",
       "0      NO_RELATION  result identifi previous report breast cancer-...\n",
       "1      NO_RELATION  conclus taken togeth mmvarentty1mm/ggvarentty1...\n",
       "2         RELATION  revers correl mmvarentty1mm ggvarentty1gg also...\n",
       "3         RELATION  result suggest recognit site mmvarentty1mm mmv...\n",
       "4         RELATION  issu jci ghosh colleagu identifi uniqu microrn...\n",
       "5      NO_RELATION  conclus mmvarentty1mm may promot cell ggvarent...\n",
       "6      NO_RELATION        howev role mmvarentty1mm npc remain unknown\n",
       "7         RELATION  targetscan predict ggvarentty1gg ggvarentty2gg...\n",
       "8      NO_RELATION  increas mmvarentty1mm depend upon ggvarentty1g...\n",
       "9      NO_RELATION  revers correl mmvarentty1mm ggvarentty1gg expr...\n",
       "10        RELATION  studi identifi mmvarentty1mm mmvarentty2mm mic...\n",
       "11        RELATION  show mmvarentty1mm oncosuppress microrna lost ...\n",
       "12     NO_RELATION  newli identifi mmvarentty1mm/ggvarentty1gg ggv...\n",
       "13        RELATION  data place mmvarentty1mm regulatori loop ggvar...\n",
       "14        RELATION  result suggest suppress mmvarentty1mm express ...\n",
       "15        RELATION  among mmvarentty1mm relat ggvarentty1gg resist...\n",
       "16        RELATION  knockdown mmvarentty1mm enhanc anticanc effect...\n",
       "17        RELATION  use bioinformat identifi three potenti target ...\n",
       "18     NO_RELATION  show amongst mirna down-regul mmvarentty1mm mm...\n",
       "19     NO_RELATION  studi express matur mmvarentty1mm breast tumor...\n",
       "20     NO_RELATION  collect find highlight mmvarentty1mm/mmvarentt...\n",
       "21     NO_RELATION  ggvarentty1gg overexpress pdac also direct tar...\n",
       "22     NO_RELATION  conclus mmvarentty1mm level potenti establish ...\n",
       "23     NO_RELATION  show central tumour suppressor ggvarentty1gg e...\n",
       "24        RELATION  valid ggvarentty1gg ggvarentty2gg ggvarentty3g...\n",
       "25     NO_RELATION  furthermor mcf7 cell overexpress mmvarentty1mm...\n",
       "26     NO_RELATION  present studi aim investig express regulatori ...\n",
       "27     NO_RELATION  protein microarray reveal knockdown ggvarentty...\n",
       "28        RELATION  like neg regul ggvarentty1gg ggvarentty2gg mmv...\n",
       "29        RELATION  identifi ggvarentty1gg ggvarentty2gg direct mm...\n",
       "...            ...                                                ...\n",
       "10753  NO_RELATION  howev mmvarentty1mm rare character chronic mye...\n",
       "10754  NO_RELATION  ggvarentty1gg growth evalu vivo imag luciferas...\n",
       "10755     RELATION  result suggest ggvarentty1gg ggvarentty2gg gen...\n",
       "10756     RELATION  forc express mmvarentty1mm dramat inhibit leuk...\n",
       "10757  NO_RELATION  studi suggest manipul mmvarentty1mm express us...\n",
       "10758  NO_RELATION  taqman microrna assay show down-regul mmvarent...\n",
       "10759     RELATION  also correl express ggvarentty1gg mrna mirna e...\n",
       "10760  NO_RELATION  function effect mmvarentty1mm inhibit growth h...\n",
       "10761  NO_RELATION  moreov found ggvarentty1gg express regul post-...\n",
       "10762  NO_RELATION  found mmvarentty1mm rs2910164 polymorph associ...\n",
       "10763  NO_RELATION  aim studi investig express pattern prognost re...\n",
       "10764     RELATION  invers correl found mmvarentty1mm ggvarentty1g...\n",
       "10765  NO_RELATION  final function studi demonstr mmvarentty1mm kn...\n",
       "10766  NO_RELATION  method perform real-tim pcr western blot cck8 ...\n",
       "10767     RELATION  investig reveal mmvarentty1mm target ggvarentt...\n",
       "10768  NO_RELATION  analys reveal mmvarentty1mm regul upstream pro...\n",
       "10769     RELATION  identifi manganes ggvarentty1gg mnsod messeng ...\n",
       "10770     RELATION  find indic mmvarentty1mm upregul gc may key ro...\n",
       "10771     RELATION  restor mmvarentty1mm silenc ggvarentty1gg znf2...\n",
       "10772  NO_RELATION  endometri express zeb ggvarentty1gg patient ex...\n",
       "10773     RELATION  ggvarentty1gg neg regul mmvarentty1mm post-tra...\n",
       "10774  NO_RELATION  murin ggvarentty1gg increas mmvarentty1mm expr...\n",
       "10775     RELATION  ggvarentty1gg ggvarentty2gg protein express up...\n",
       "10776  NO_RELATION  result show mmvarentty1mm significantli downre...\n",
       "10777  NO_RELATION  investig clinic import mmvarentty1mm select hi...\n",
       "10778     RELATION  h2o2 upregul ggvarentty1gg mmvarentty1mm downr...\n",
       "10779  NO_RELATION  identifi ggvarentty1gg direct mmvarentty1mm ta...\n",
       "10780     RELATION  stabl overexpress mmvarentty1mm a549 cell resu...\n",
       "10781  NO_RELATION  result product microrna ggvarentty1gg-21 ggvar...\n",
       "10782  NO_RELATION  conclus polymorph mmvarentty1mm gene unlik sub...\n",
       "\n",
       "[10783 rows x 2 columns]>"
      ]
     },
     "execution_count": 3,
     "metadata": {},
     "output_type": "execute_result"
    }
   ],
   "source": [
    "import pandas as pd\n",
    "test = pd.read_csv(file_test, quotechar='\"', delimiter='\\t', header=None, names=['Label', 'Text'])\n",
    "train = pd.read_csv(file_train, quotechar='\"', delimiter='\\t', header=None, names=['Label', 'Text'])\n",
    "test.head; train.head"
   ]
  },
  {
   "cell_type": "markdown",
   "metadata": {},
   "source": [
    "## Vectorise text data into numerical vector"
   ]
  },
  {
   "cell_type": "markdown",
   "metadata": {},
   "source": [
    "### Using `CountVectorizer`"
   ]
  },
  {
   "cell_type": "code",
   "execution_count": 4,
   "metadata": {
    "collapsed": false,
    "scrolled": false
   },
   "outputs": [],
   "source": [
    "from sklearn.feature_extraction.text import CountVectorizer\n",
    "tf_vectorizer = CountVectorizer(analyzer='word', stop_words='english', ngram_range=(1,1), max_df=0.9, min_df=0.01)\n",
    "train_tf_vectors = tf_vectorizer.fit_transform(train.Text)"
   ]
  },
  {
   "cell_type": "markdown",
   "metadata": {},
   "source": [
    "** Note: ** Numbers not removed. Consider removing numbers."
   ]
  },
  {
   "cell_type": "markdown",
   "metadata": {},
   "source": [
    "`tf_vectorizer.vocabulary_` is a `dict`"
   ]
  },
  {
   "cell_type": "code",
   "execution_count": 5,
   "metadata": {
    "collapsed": false,
    "scrolled": false
   },
   "outputs": [
    {
     "data": {
      "text/plain": [
       "{'001': 0,\n",
       " '05': 1,\n",
       " '16': 2,\n",
       " '3p': 3,\n",
       " '5p': 4,\n",
       " 'act': 5,\n",
       " 'activ': 6,\n",
       " 'addit': 7,\n",
       " 'affect': 8,\n",
       " 'aim': 9,\n",
       " 'alter': 10,\n",
       " 'analys': 11,\n",
       " 'analysi': 12,\n",
       " 'analyz': 13,\n",
       " 'apoptosi': 14,\n",
       " 'arrest': 15,\n",
       " 'assay': 16,\n",
       " 'associ': 17,\n",
       " 'bind': 18,\n",
       " 'bioinformat': 19,\n",
       " 'biomark': 20,\n",
       " 'blot': 21,\n",
       " 'breast': 22,\n",
       " 'cancer': 23,\n",
       " 'carcinoma': 24,\n",
       " 'caus': 25,\n",
       " 'cell': 26,\n",
       " 'chain': 27,\n",
       " 'chang': 28,\n",
       " 'clinic': 29,\n",
       " 'cluster': 30,\n",
       " 'colon': 31,\n",
       " 'combin': 32,\n",
       " 'compar': 33,\n",
       " 'conclus': 34,\n",
       " 'confirm': 35,\n",
       " 'contribut': 36,\n",
       " 'control': 37,\n",
       " 'correl': 38,\n",
       " 'crc': 39,\n",
       " 'cycl': 40,\n",
       " 'data': 41,\n",
       " 'decreas': 42,\n",
       " 'demonstr': 43,\n",
       " 'depend': 44,\n",
       " 'detect': 45,\n",
       " 'determin': 46,\n",
       " 'develop': 47,\n",
       " 'differ': 48,\n",
       " 'differenti': 49,\n",
       " 'direct': 50,\n",
       " 'directli': 51,\n",
       " 'diseas': 52,\n",
       " 'downregul': 53,\n",
       " 'downstream': 54,\n",
       " 'ectop': 55,\n",
       " 'effect': 56,\n",
       " 'elev': 57,\n",
       " 'enhanc': 58,\n",
       " 'epitheli': 59,\n",
       " 'evalu': 60,\n",
       " 'evid': 61,\n",
       " 'examin': 62,\n",
       " 'express': 63,\n",
       " 'factor': 64,\n",
       " 'famili': 65,\n",
       " 'final': 66,\n",
       " 'format': 67,\n",
       " 'function': 68,\n",
       " 'furthermor': 69,\n",
       " 'gastric': 70,\n",
       " 'gc': 71,\n",
       " 'gene': 72,\n",
       " 'ggvarentty1gg': 73,\n",
       " 'ggvarentty2gg': 74,\n",
       " 'ggvarentty3gg': 75,\n",
       " 'ggvarentty4gg': 76,\n",
       " 'ggvarentty5gg': 77,\n",
       " 'ggvarentty6gg': 78,\n",
       " 'ggvarentty7gg': 79,\n",
       " 'glioma': 80,\n",
       " 'group': 81,\n",
       " 'growth': 82,\n",
       " 'healthi': 83,\n",
       " 'high': 84,\n",
       " 'higher': 85,\n",
       " 'howev': 86,\n",
       " 'human': 87,\n",
       " 'identifi': 88,\n",
       " 'implic': 89,\n",
       " 'import': 90,\n",
       " 'includ': 91,\n",
       " 'increas': 92,\n",
       " 'independ': 93,\n",
       " 'indic': 94,\n",
       " 'induc': 95,\n",
       " 'induct': 96,\n",
       " 'inhibit': 97,\n",
       " 'interact': 98,\n",
       " 'invas': 99,\n",
       " 'invers': 100,\n",
       " 'investig': 101,\n",
       " 'involv': 102,\n",
       " 'knockdown': 103,\n",
       " 'known': 104,\n",
       " 'lead': 105,\n",
       " 'level': 106,\n",
       " 'line': 107,\n",
       " 'liver': 108,\n",
       " 'loss': 109,\n",
       " 'low': 110,\n",
       " 'lower': 111,\n",
       " 'luciferas': 112,\n",
       " 'malign': 113,\n",
       " 'marker': 114,\n",
       " 'mechan': 115,\n",
       " 'medi': 116,\n",
       " 'mediat': 117,\n",
       " 'metastasi': 118,\n",
       " 'metastat': 119,\n",
       " 'method': 120,\n",
       " 'methyl': 121,\n",
       " 'mice': 122,\n",
       " 'microrna': 123,\n",
       " 'migrat': 124,\n",
       " 'mimic': 125,\n",
       " 'mirna': 126,\n",
       " 'mmvarentty2mm': 127,\n",
       " 'mmvarentty3mm': 128,\n",
       " 'mmvarentty4mm': 129,\n",
       " 'mmvarentty5mm': 130,\n",
       " 'mmvarentty6mm': 131,\n",
       " 'model': 132,\n",
       " 'modul': 133,\n",
       " 'molecular': 134,\n",
       " 'moreov': 135,\n",
       " 'mrna': 136,\n",
       " 'mutat': 137,\n",
       " 'neg': 138,\n",
       " 'new': 139,\n",
       " 'non': 140,\n",
       " 'normal': 141,\n",
       " 'novel': 142,\n",
       " 'nsclc': 143,\n",
       " 'observ': 144,\n",
       " 'oncogen': 145,\n",
       " 'osteosarcoma': 146,\n",
       " 'overexpress': 147,\n",
       " 'partial': 148,\n",
       " 'pathway': 149,\n",
       " 'patient': 150,\n",
       " 'pcr': 151,\n",
       " 'phenotyp': 152,\n",
       " 'play': 153,\n",
       " 'posit': 154,\n",
       " 'possibl': 155,\n",
       " 'potenti': 156,\n",
       " 'predict': 157,\n",
       " 'present': 158,\n",
       " 'primari': 159,\n",
       " 'process': 160,\n",
       " 'prognosi': 161,\n",
       " 'prognost': 162,\n",
       " 'progress': 163,\n",
       " 'prolifer': 164,\n",
       " 'promot': 165,\n",
       " 'prostat': 166,\n",
       " 'protein': 167,\n",
       " 'provid': 168,\n",
       " 'quantit': 169,\n",
       " 'reaction': 170,\n",
       " 'real': 171,\n",
       " 'recent': 172,\n",
       " 'reduc': 173,\n",
       " 'reduct': 174,\n",
       " 'region': 175,\n",
       " 'regul': 176,\n",
       " 'regulatori': 177,\n",
       " 'rel': 178,\n",
       " 'relat': 179,\n",
       " 'report': 180,\n",
       " 'repress': 181,\n",
       " 'resist': 182,\n",
       " 'respect': 183,\n",
       " 'respons': 184,\n",
       " 'restor': 185,\n",
       " 'result': 186,\n",
       " 'reveal': 187,\n",
       " 'revers': 188,\n",
       " 'risk': 189,\n",
       " 'rna': 190,\n",
       " 'role': 191,\n",
       " 'rt': 192,\n",
       " 'sampl': 193,\n",
       " 'sensit': 194,\n",
       " 'sequenc': 195,\n",
       " 'serum': 196,\n",
       " 'sever': 197,\n",
       " 'shown': 198,\n",
       " 'signal': 199,\n",
       " 'signific': 200,\n",
       " 'significantli': 201,\n",
       " 'silenc': 202,\n",
       " 'site': 203,\n",
       " 'specif': 204,\n",
       " 'stage': 205,\n",
       " 'studi': 206,\n",
       " 'suggest': 207,\n",
       " 'suppress': 208,\n",
       " 'surviv': 209,\n",
       " 'taken': 210,\n",
       " 'target': 211,\n",
       " 'therapeut': 212,\n",
       " 'therapi': 213,\n",
       " 'thu': 214,\n",
       " 'tim': 215,\n",
       " 'time': 216,\n",
       " 'tissu': 217,\n",
       " 'togeth': 218,\n",
       " 'transcript': 219,\n",
       " 'transfect': 220,\n",
       " 'treatment': 221,\n",
       " 'tumor': 222,\n",
       " 'type': 223,\n",
       " 'untransl': 224,\n",
       " 'upregul': 225,\n",
       " 'use': 226,\n",
       " 'utr': 227,\n",
       " 'valid': 228,\n",
       " 'vitro': 229,\n",
       " 'vivo': 230,\n",
       " 'western': 231,\n",
       " 'wherea': 232}"
      ]
     },
     "execution_count": 5,
     "metadata": {},
     "output_type": "execute_result"
    }
   ],
   "source": [
    "tf_vectorizer.vocabulary_"
   ]
  },
  {
   "cell_type": "code",
   "execution_count": 6,
   "metadata": {
    "collapsed": false,
    "scrolled": false
   },
   "outputs": [
    {
     "data": {
      "text/plain": [
       "(10783, 233)"
      ]
     },
     "execution_count": 6,
     "metadata": {},
     "output_type": "execute_result"
    }
   ],
   "source": [
    "train_tf_vectors.shape"
   ]
  },
  {
   "cell_type": "code",
   "execution_count": 7,
   "metadata": {
    "collapsed": false,
    "scrolled": false
   },
   "outputs": [
    {
     "data": {
      "text/plain": [
       "array([1, 1, 1, ..., 1, 1, 1], dtype=int64)"
      ]
     },
     "execution_count": 7,
     "metadata": {},
     "output_type": "execute_result"
    }
   ],
   "source": [
    "train_tf_vectors.data"
   ]
  },
  {
   "cell_type": "code",
   "execution_count": 8,
   "metadata": {
    "collapsed": false,
    "scrolled": false
   },
   "outputs": [
    {
     "name": "stdout",
     "output_type": "stream",
     "text": [
      "101851\n",
      "9.44551609014189\n",
      "4.053869566584503\n"
     ]
    }
   ],
   "source": [
    "print(train_tf_vectors.nnz) # number of non-zero elements\n",
    "print(train_tf_vectors.nnz / float(train_tf_vectors.shape[0])) # non-zero per sample\n",
    "print(train_tf_vectors.nnz / float(train_tf_vectors.shape[0] * train_tf_vectors.shape[1]) * 100) # non-zero per feature space in %"
   ]
  },
  {
   "cell_type": "markdown",
   "metadata": {},
   "source": [
    "## Data Preprocessing: \n",
    "### Attributes and Target"
   ]
  },
  {
   "cell_type": "markdown",
   "metadata": {},
   "source": [
    "### Convert categorical labels into numerical labels"
   ]
  },
  {
   "cell_type": "code",
   "execution_count": 9,
   "metadata": {
    "collapsed": false,
    "scrolled": false
   },
   "outputs": [],
   "source": [
    "from sklearn import preprocessing"
   ]
  },
  {
   "cell_type": "code",
   "execution_count": 10,
   "metadata": {
    "collapsed": false,
    "scrolled": false
   },
   "outputs": [
    {
     "data": {
      "text/plain": [
       "['NO_RELATION', 'RELATION']"
      ]
     },
     "execution_count": 10,
     "metadata": {},
     "output_type": "execute_result"
    }
   ],
   "source": [
    "le = preprocessing.LabelEncoder()\n",
    "le.fit(train.Label)\n",
    "list(le.classes_)"
   ]
  },
  {
   "cell_type": "code",
   "execution_count": 11,
   "metadata": {
    "collapsed": false,
    "scrolled": false
   },
   "outputs": [
    {
     "name": "stdout",
     "output_type": "stream",
     "text": [
      "[0 0 1 1 1]\n",
      "['NO_RELATION' 'NO_RELATION' 'RELATION' 'RELATION' 'RELATION']\n"
     ]
    }
   ],
   "source": [
    "y_train = le.transform(train.Label);\n",
    "y_test = le.transform(test.Label);\n",
    "\n",
    "print(y_train[0:5])\n",
    "print(le.inverse_transform(y_train[0:5]))"
   ]
  },
  {
   "cell_type": "markdown",
   "metadata": {},
   "source": [
    "`X` is data, `y` is target. `X` has the size of `n_samples` x `n_features`, `y` has `n_samples` x 1 labels"
   ]
  },
  {
   "cell_type": "code",
   "execution_count": 12,
   "metadata": {
    "collapsed": false,
    "scrolled": false
   },
   "outputs": [],
   "source": [
    "X_train = train_tf_vectors"
   ]
  },
  {
   "cell_type": "code",
   "execution_count": 13,
   "metadata": {
    "collapsed": true,
    "scrolled": true
   },
   "outputs": [],
   "source": [
    "X_test = tf_vectorizer.transform(test.Text)"
   ]
  },
  {
   "cell_type": "code",
   "execution_count": 14,
   "metadata": {
    "collapsed": false,
    "scrolled": true
   },
   "outputs": [
    {
     "data": {
      "text/plain": [
       "(3595, 233)"
      ]
     },
     "execution_count": 14,
     "metadata": {},
     "output_type": "execute_result"
    }
   ],
   "source": [
    "X_test.shape"
   ]
  },
  {
   "cell_type": "code",
   "execution_count": 15,
   "metadata": {
    "collapsed": false,
    "scrolled": true
   },
   "outputs": [
    {
     "data": {
      "text/plain": [
       "array([1, 1, 2, ..., 1, 1, 1], dtype=int64)"
      ]
     },
     "execution_count": 15,
     "metadata": {},
     "output_type": "execute_result"
    }
   ],
   "source": [
    "X_test.data"
   ]
  },
  {
   "cell_type": "markdown",
   "metadata": {},
   "source": [
    "## Log Res: "
   ]
  },
  {
   "cell_type": "code",
   "execution_count": 16,
   "metadata": {
    "collapsed": false,
    "scrolled": true
   },
   "outputs": [
    {
     "data": {
      "text/plain": [
       "LogisticRegression(C=100000.0, class_weight='balanced', dual=False,\n",
       "          fit_intercept=True, intercept_scaling=1, max_iter=100,\n",
       "          multi_class='ovr', n_jobs=1, penalty='l2', random_state=None,\n",
       "          solver='liblinear', tol=0.0001, verbose=0, warm_start=False)"
      ]
     },
     "execution_count": 16,
     "metadata": {},
     "output_type": "execute_result"
    }
   ],
   "source": [
    "from sklearn import linear_model\n",
    "clf = linear_model.LogisticRegression(C=1e5, class_weight='balanced')\n",
    "clf.fit(X_train, y_train)"
   ]
  },
  {
   "cell_type": "code",
   "execution_count": 17,
   "metadata": {
    "collapsed": false,
    "scrolled": false
   },
   "outputs": [],
   "source": [
    "y_pred = clf.predict(X_test)"
   ]
  },
  {
   "cell_type": "code",
   "execution_count": 18,
   "metadata": {
    "collapsed": false,
    "scrolled": false
   },
   "outputs": [
    {
     "name": "stdout",
     "output_type": "stream",
     "text": [
      "             precision    recall  f1-score   support\n",
      "\n",
      "          0       0.71      0.73      0.72      1804\n",
      "          1       0.72      0.71      0.71      1791\n",
      "\n",
      "avg / total       0.72      0.72      0.72      3595\n",
      "\n"
     ]
    }
   ],
   "source": [
    "from sklearn import metrics\n",
    "print(metrics.classification_report(y_test, y_pred))"
   ]
  },
  {
   "cell_type": "code",
   "execution_count": 19,
   "metadata": {
    "collapsed": false,
    "scrolled": false
   },
   "outputs": [
    {
     "name": "stdout",
     "output_type": "stream",
     "text": [
      "[[1315  489]\n",
      " [ 525 1266]]\n"
     ]
    }
   ],
   "source": [
    "print(metrics.confusion_matrix(y_test, y_pred))"
   ]
  },
  {
   "cell_type": "markdown",
   "metadata": {},
   "source": [
    "### Coeficients of the decision function"
   ]
  },
  {
   "cell_type": "code",
   "execution_count": 20,
   "metadata": {
    "collapsed": false,
    "scrolled": true
   },
   "outputs": [
    {
     "data": {
      "text/plain": [
       "array([[ -1.60030090e-02,  -2.38254074e-01,   7.84509452e-01,\n",
       "         -1.06175508e-01,  -5.01240271e-01,   5.39438522e-02,\n",
       "          1.00129507e-01,   1.42094355e-01,   1.78047970e-03,\n",
       "         -3.73957350e-01,   1.53713418e-01,  -9.33409397e-02,\n",
       "         -1.50474940e-01,   1.05350848e-02,  -3.44762742e-02,\n",
       "         -1.75948470e-01,   1.60760528e-02,  -2.77309459e-01,\n",
       "          2.16794536e-01,   5.48282550e-01,  -5.88849445e-01,\n",
       "          1.12736273e+00,  -2.52484060e-02,  -3.35002925e-01,\n",
       "         -4.87978179e-01,   2.90266545e-01,  -9.98169412e-02,\n",
       "          2.59060019e-01,  -1.92870980e-01,  -2.53116895e-01,\n",
       "          2.27985974e-01,   2.68898366e-01,   1.15485484e-01,\n",
       "         -3.26028522e-01,   6.30374774e-02,   2.39763631e-01,\n",
       "          1.00923783e-01,   9.23161216e-02,   5.14224947e-02,\n",
       "          1.05154203e-02,   5.26876657e-01,  -8.44316618e-02,\n",
       "          1.77237527e-01,  -5.25027500e-02,   2.95671625e-01,\n",
       "         -1.37840077e-01,   2.88351516e-01,  -2.19595177e-01,\n",
       "          7.21475667e-03,  -4.21311384e-02,   6.23258718e-01,\n",
       "          4.17585863e-01,  -4.92512536e-01,   4.12819748e-01,\n",
       "         -1.37217471e-01,   6.87927319e-02,   1.82307024e-01,\n",
       "          1.45976057e-01,   2.21995674e-02,  -6.09532189e-02,\n",
       "         -7.97258761e-03,   4.03741710e-02,  -8.45343593e-03,\n",
       "          2.25592829e-01,  -1.10058179e-01,  -1.35468236e-02,\n",
       "         -1.42300251e-01,  -7.20427723e-02,  -7.95109667e-02,\n",
       "         -1.05213725e-01,   3.28999165e-01,  -3.71647833e-01,\n",
       "          1.10919358e-01,   2.64847848e-01,   4.57939145e-01,\n",
       "          2.70387829e-01,   1.72572797e-01,   1.48880661e-01,\n",
       "          8.15922304e-02,   3.54892109e-02,  -3.90477343e-01,\n",
       "          1.61586892e-01,  -2.47669069e-01,  -5.14888284e-01,\n",
       "         -7.50461948e-02,  -2.83912561e-01,  -4.96837373e-01,\n",
       "         -3.07797256e-01,   3.51222171e-01,  -1.63389543e-01,\n",
       "          2.47436173e-02,  -1.17382718e-01,   7.06411361e-02,\n",
       "          1.98389124e-01,  -3.97199592e-02,  -7.39168524e-02,\n",
       "         -1.68756349e-01,   1.41012384e-01,   6.30334409e-01,\n",
       "         -1.82225321e-01,   9.48051968e-01,  -1.46778993e-01,\n",
       "         -4.71423052e-02,   8.27213436e-02,   1.90239568e-01,\n",
       "         -1.00784489e-01,   9.62369138e-02,  -1.58854901e-01,\n",
       "         -6.08819689e-01,  -5.96373872e-02,   1.73005578e-01,\n",
       "          1.56827119e-01,   3.40319894e-01,  -3.30760980e-01,\n",
       "          1.16809059e-01,   8.32092765e-02,   2.59615320e-01,\n",
       "          3.52683911e-01,  -4.63973070e-01,  -1.46072312e-01,\n",
       "         -1.57350178e-01,  -3.72654246e-01,  -6.58910175e-01,\n",
       "         -9.69325183e-02,   1.31268442e-01,  -5.82965043e-02,\n",
       "         -2.72562235e-01,   1.23957777e-01,   3.06629810e-01,\n",
       "         -3.77987664e-02,   7.85000797e-01,  -4.64619193e-01,\n",
       "         -6.56423041e-01,   2.82764413e-01,  -5.43001230e-01,\n",
       "          2.14697607e-01,   2.46571015e-01,   2.41774299e-01,\n",
       "          2.61210973e-01,  -3.83806773e-01,  -5.52531161e-01,\n",
       "          1.03076253e-04,  -1.58519313e-01,  -8.42700938e-02,\n",
       "         -3.25823099e-01,   2.27129255e-01,   1.73528753e-02,\n",
       "          1.35981757e-01,   6.39670922e-01,   2.73095738e-02,\n",
       "         -5.21575706e-01,  -6.95373793e-01,   3.80304500e-01,\n",
       "          3.25326589e-02,   2.96430912e-01,  -2.79313188e-02,\n",
       "         -1.97302852e-01,  -1.13242431e-01,  -3.09834322e-01,\n",
       "         -2.17130687e-01,   1.36152823e-01,  -1.33244756e-01,\n",
       "          4.28315884e-02,  -2.61397716e-01,   6.16634125e-02,\n",
       "          2.42914528e-02,   3.55538172e-01,   5.98181130e-01,\n",
       "          1.23827761e-01,   3.29145985e-01,  -1.48367576e+00,\n",
       "          2.57112721e-01,  -5.02777790e-01,   2.37900818e-01,\n",
       "         -2.67752531e-01,   4.57037538e-02,   3.36084683e-01,\n",
       "          2.51561834e-01,  -1.88556252e-01,   1.44128253e-01,\n",
       "          2.71726604e-01,   7.28980682e-01,   2.90878714e-01,\n",
       "         -2.39603599e-01,   4.38062711e-02,   5.06456897e-01,\n",
       "         -1.77615586e-02,   1.06392450e-02,   4.86953880e-01,\n",
       "         -1.09398193e+00,  -1.23063100e-01,  -7.77661816e-02,\n",
       "          4.24037040e-01,   2.46406080e-02,  -3.78030591e-01,\n",
       "          1.16072587e-02,  -3.97771266e-01,  -3.84748542e-02,\n",
       "          1.65416251e-01,   1.52413396e-01,   4.96979537e-02,\n",
       "         -2.50515484e-01,   8.33890764e-02,   3.85516752e-01,\n",
       "         -4.09655666e-01,  -7.86710798e-01,  -2.49490280e-02,\n",
       "          9.27001488e-02,   1.78563908e-01,  -6.18839681e-02,\n",
       "          6.29226148e-02,   6.58386618e-01,  -3.56736888e-01,\n",
       "         -2.35629320e-01,   2.30082822e-01,   3.05066061e-01,\n",
       "          6.52422228e-02,  -2.67515057e-01,   2.47760234e-02,\n",
       "          2.45011796e-01,   1.80465391e-01,  -2.80625153e-02,\n",
       "         -1.77029278e-01,  -2.11973858e-01,   2.43317653e-01,\n",
       "         -1.74960869e-02,  -1.72006235e-01,   3.86706878e-01,\n",
       "         -4.13975824e-01,   1.03439217e-01,  -2.06980944e-01,\n",
       "          1.78671677e-01,  -3.99979025e-01]])"
      ]
     },
     "execution_count": 20,
     "metadata": {},
     "output_type": "execute_result"
    }
   ],
   "source": [
    "clf.coef_"
   ]
  },
  {
   "cell_type": "code",
   "execution_count": 21,
   "metadata": {
    "collapsed": false,
    "scrolled": true
   },
   "outputs": [
    {
     "data": {
      "text/plain": [
       "233"
      ]
     },
     "execution_count": 21,
     "metadata": {},
     "output_type": "execute_result"
    }
   ],
   "source": [
    "len(clf.coef_[0,])"
   ]
  },
  {
   "cell_type": "markdown",
   "metadata": {},
   "source": [
    "Get the index of coef with the maximum value."
   ]
  },
  {
   "cell_type": "code",
   "execution_count": 22,
   "metadata": {
    "collapsed": false,
    "scrolled": true
   },
   "outputs": [
    {
     "data": {
      "text/plain": [
       "21"
      ]
     },
     "execution_count": 22,
     "metadata": {},
     "output_type": "execute_result"
    }
   ],
   "source": [
    "clf.coef_.argmax()"
   ]
  },
  {
   "cell_type": "code",
   "execution_count": 23,
   "metadata": {
    "collapsed": false,
    "scrolled": true
   },
   "outputs": [
    {
     "name": "stdout",
     "output_type": "stream",
     "text": [
      "blot\n"
     ]
    }
   ],
   "source": [
    "m = clf.coef_.argmax()\n",
    "print(list(tf_vectorizer.vocabulary_.keys())[list(tf_vectorizer.vocabulary_.values()).index(m)])"
   ]
  },
  {
   "cell_type": "markdown",
   "metadata": {},
   "source": [
    "Get the index of the highest 10 coef value.\n",
    "\n",
    "**Note** `clf.coef_` is ndarray, see below:"
   ]
  },
  {
   "cell_type": "code",
   "execution_count": 24,
   "metadata": {
    "collapsed": false,
    "scrolled": true
   },
   "outputs": [
    {
     "data": {
      "text/plain": [
       "array([ -1.60030090e-02,  -2.38254074e-01,   7.84509452e-01,\n",
       "        -1.06175508e-01,  -5.01240271e-01,   5.39438522e-02,\n",
       "         1.00129507e-01,   1.42094355e-01,   1.78047970e-03,\n",
       "        -3.73957350e-01,   1.53713418e-01,  -9.33409397e-02,\n",
       "        -1.50474940e-01,   1.05350848e-02,  -3.44762742e-02,\n",
       "        -1.75948470e-01,   1.60760528e-02,  -2.77309459e-01,\n",
       "         2.16794536e-01,   5.48282550e-01,  -5.88849445e-01,\n",
       "         1.12736273e+00,  -2.52484060e-02,  -3.35002925e-01,\n",
       "        -4.87978179e-01,   2.90266545e-01,  -9.98169412e-02,\n",
       "         2.59060019e-01,  -1.92870980e-01,  -2.53116895e-01,\n",
       "         2.27985974e-01,   2.68898366e-01,   1.15485484e-01,\n",
       "        -3.26028522e-01,   6.30374774e-02,   2.39763631e-01,\n",
       "         1.00923783e-01,   9.23161216e-02,   5.14224947e-02,\n",
       "         1.05154203e-02,   5.26876657e-01,  -8.44316618e-02,\n",
       "         1.77237527e-01,  -5.25027500e-02,   2.95671625e-01,\n",
       "        -1.37840077e-01,   2.88351516e-01,  -2.19595177e-01,\n",
       "         7.21475667e-03,  -4.21311384e-02,   6.23258718e-01,\n",
       "         4.17585863e-01,  -4.92512536e-01,   4.12819748e-01,\n",
       "        -1.37217471e-01,   6.87927319e-02,   1.82307024e-01,\n",
       "         1.45976057e-01,   2.21995674e-02,  -6.09532189e-02,\n",
       "        -7.97258761e-03,   4.03741710e-02,  -8.45343593e-03,\n",
       "         2.25592829e-01,  -1.10058179e-01,  -1.35468236e-02,\n",
       "        -1.42300251e-01,  -7.20427723e-02,  -7.95109667e-02,\n",
       "        -1.05213725e-01,   3.28999165e-01,  -3.71647833e-01,\n",
       "         1.10919358e-01,   2.64847848e-01,   4.57939145e-01,\n",
       "         2.70387829e-01,   1.72572797e-01,   1.48880661e-01,\n",
       "         8.15922304e-02,   3.54892109e-02,  -3.90477343e-01,\n",
       "         1.61586892e-01,  -2.47669069e-01,  -5.14888284e-01,\n",
       "        -7.50461948e-02,  -2.83912561e-01,  -4.96837373e-01,\n",
       "        -3.07797256e-01,   3.51222171e-01,  -1.63389543e-01,\n",
       "         2.47436173e-02,  -1.17382718e-01,   7.06411361e-02,\n",
       "         1.98389124e-01,  -3.97199592e-02,  -7.39168524e-02,\n",
       "        -1.68756349e-01,   1.41012384e-01,   6.30334409e-01,\n",
       "        -1.82225321e-01,   9.48051968e-01,  -1.46778993e-01,\n",
       "        -4.71423052e-02,   8.27213436e-02,   1.90239568e-01,\n",
       "        -1.00784489e-01,   9.62369138e-02,  -1.58854901e-01,\n",
       "        -6.08819689e-01,  -5.96373872e-02,   1.73005578e-01,\n",
       "         1.56827119e-01,   3.40319894e-01,  -3.30760980e-01,\n",
       "         1.16809059e-01,   8.32092765e-02,   2.59615320e-01,\n",
       "         3.52683911e-01,  -4.63973070e-01,  -1.46072312e-01,\n",
       "        -1.57350178e-01,  -3.72654246e-01,  -6.58910175e-01,\n",
       "        -9.69325183e-02,   1.31268442e-01,  -5.82965043e-02,\n",
       "        -2.72562235e-01,   1.23957777e-01,   3.06629810e-01,\n",
       "        -3.77987664e-02,   7.85000797e-01,  -4.64619193e-01,\n",
       "        -6.56423041e-01,   2.82764413e-01,  -5.43001230e-01,\n",
       "         2.14697607e-01,   2.46571015e-01,   2.41774299e-01,\n",
       "         2.61210973e-01,  -3.83806773e-01,  -5.52531161e-01,\n",
       "         1.03076253e-04,  -1.58519313e-01,  -8.42700938e-02,\n",
       "        -3.25823099e-01,   2.27129255e-01,   1.73528753e-02,\n",
       "         1.35981757e-01,   6.39670922e-01,   2.73095738e-02,\n",
       "        -5.21575706e-01,  -6.95373793e-01,   3.80304500e-01,\n",
       "         3.25326589e-02,   2.96430912e-01,  -2.79313188e-02,\n",
       "        -1.97302852e-01,  -1.13242431e-01,  -3.09834322e-01,\n",
       "        -2.17130687e-01,   1.36152823e-01,  -1.33244756e-01,\n",
       "         4.28315884e-02,  -2.61397716e-01,   6.16634125e-02,\n",
       "         2.42914528e-02,   3.55538172e-01,   5.98181130e-01,\n",
       "         1.23827761e-01,   3.29145985e-01,  -1.48367576e+00,\n",
       "         2.57112721e-01,  -5.02777790e-01,   2.37900818e-01,\n",
       "        -2.67752531e-01,   4.57037538e-02,   3.36084683e-01,\n",
       "         2.51561834e-01,  -1.88556252e-01,   1.44128253e-01,\n",
       "         2.71726604e-01,   7.28980682e-01,   2.90878714e-01,\n",
       "        -2.39603599e-01,   4.38062711e-02,   5.06456897e-01,\n",
       "        -1.77615586e-02,   1.06392450e-02,   4.86953880e-01,\n",
       "        -1.09398193e+00,  -1.23063100e-01,  -7.77661816e-02,\n",
       "         4.24037040e-01,   2.46406080e-02,  -3.78030591e-01,\n",
       "         1.16072587e-02,  -3.97771266e-01,  -3.84748542e-02,\n",
       "         1.65416251e-01,   1.52413396e-01,   4.96979537e-02,\n",
       "        -2.50515484e-01,   8.33890764e-02,   3.85516752e-01,\n",
       "        -4.09655666e-01,  -7.86710798e-01,  -2.49490280e-02,\n",
       "         9.27001488e-02,   1.78563908e-01,  -6.18839681e-02,\n",
       "         6.29226148e-02,   6.58386618e-01,  -3.56736888e-01,\n",
       "        -2.35629320e-01,   2.30082822e-01,   3.05066061e-01,\n",
       "         6.52422228e-02,  -2.67515057e-01,   2.47760234e-02,\n",
       "         2.45011796e-01,   1.80465391e-01,  -2.80625153e-02,\n",
       "        -1.77029278e-01,  -2.11973858e-01,   2.43317653e-01,\n",
       "        -1.74960869e-02,  -1.72006235e-01,   3.86706878e-01,\n",
       "        -4.13975824e-01,   1.03439217e-01,  -2.06980944e-01,\n",
       "         1.78671677e-01,  -3.99979025e-01])"
      ]
     },
     "execution_count": 24,
     "metadata": {},
     "output_type": "execute_result"
    }
   ],
   "source": [
    "clf.coef_[0]"
   ]
  },
  {
   "cell_type": "code",
   "execution_count": 25,
   "metadata": {
    "collapsed": false,
    "scrolled": true
   },
   "outputs": [
    {
     "name": "stdout",
     "output_type": "stream",
     "text": [
      "-0.0160030089972\n",
      "-0.238254074159\n"
     ]
    }
   ],
   "source": [
    "print(clf.coef_[0][0])\n",
    "print(clf.coef_[0][1])"
   ]
  },
  {
   "cell_type": "markdown",
   "metadata": {},
   "source": [
    "Get top N words"
   ]
  },
  {
   "cell_type": "code",
   "execution_count": 26,
   "metadata": {
    "collapsed": false,
    "scrolled": true
   },
   "outputs": [
    {
     "name": "stdout",
     "output_type": "stream",
     "text": [
      "[ 21 100 130   2 181 211 148  98  50 167  19  40 185 188  74 192  51  53\n",
      " 227 203]\n"
     ]
    }
   ],
   "source": [
    "import numpy as np\n",
    "topN = np.argsort(clf.coef_[0])[::-1][:20]\n",
    "print(topN)"
   ]
  },
  {
   "cell_type": "code",
   "execution_count": 27,
   "metadata": {
    "collapsed": false,
    "scrolled": false
   },
   "outputs": [
    {
     "name": "stdout",
     "output_type": "stream",
     "text": [
      "blot\n",
      "invers\n",
      "mmvarentty5mm\n",
      "16\n",
      "repress\n",
      "target\n",
      "partial\n",
      "interact\n",
      "direct\n",
      "protein\n",
      "bioinformat\n",
      "cycl\n",
      "restor\n",
      "revers\n",
      "ggvarentty2gg\n",
      "rt\n",
      "directli\n",
      "downregul\n",
      "utr\n",
      "site\n"
     ]
    }
   ],
   "source": [
    "for v in topN:\n",
    "    print(list(tf_vectorizer.vocabulary_.keys())[list(tf_vectorizer.vocabulary_.values()).index(v)])\n"
   ]
  },
  {
   "cell_type": "markdown",
   "metadata": {},
   "source": [
    "| Number of training Sentences | word          | example               |\n",
    "| ---------------------------- |:-------------:|:---------------------:|         \n",
    "| 217                          | blot          | western blot          |\n",
    "| 273                          | invers        | invers correl, invers relation |\n",
    "| 182                          | mmvarentty5mm | mmvarentty1mm mmvarentty2mm mmvarentty1mm25a mmvarentty4mm mmvarentty5mm|\n",
    "| 277                          | 16            | ggvarentty1gg-16 |\n",
    "| 369                          | repress       | mmvarentty1mm repress, repress ggvarentty1gg|\n",
    "| 2480                         | target        | mmvarentty1mm target, target ggvarentty1gg|\n",
    "| 109                          | partial       | partial target, partial revers | \n",
    "| 150                          | interact      | interact ggvarentty1gg |\n",
    "| 760                          | direct        | directli bind, directli target |\n",
    "| 635                          | protein       | protein express, protein level |\n",
    "| 124                          | bioinformat   | bioinformat analysi |\n",
    "| 210                          | cycl          | cell cycl |\n",
    "| 179                          | restor        | restor express ggvarentty1gg, restor mmvarentty1mm |\n",
    "| 236                          | revers        | revers transcript |\n",
    "| 4                            | rt            |rt -qpcr, quantit rt ggvarentty1gg, transcript rt -pcr, rt profil pcr array|\n",
    "| 348                          | directli      | directli target, directli bind |\n",
    "| 723                          | downregul     | mmvarentty1mm downregul, ggvarentty2gg downregul|\n",
    "| 188                          | utr           | 3'utr ggvarentty1gg |\n",
    "| 221                          | site          | bind site, seed site, target site |\n",
    "\n"
   ]
  },
  {
   "cell_type": "markdown",
   "metadata": {},
   "source": [
    "Get bottom N words"
   ]
  },
  {
   "cell_type": "code",
   "execution_count": 30,
   "metadata": {
    "collapsed": false,
    "scrolled": true
   },
   "outputs": [
    {
     "name": "stdout",
     "output_type": "stream",
     "text": [
      "[170 189 205 151 122 132 108  20 140 134 150  83 172   4  86  52  24 131\n",
      " 118 228]\n"
     ]
    }
   ],
   "source": [
    "bottomN = np.argsort(clf.coef_[0])[::1][:20]\n",
    "print(bottomN)"
   ]
  },
  {
   "cell_type": "code",
   "execution_count": 31,
   "metadata": {
    "collapsed": false,
    "scrolled": true
   },
   "outputs": [
    {
     "name": "stdout",
     "output_type": "stream",
     "text": [
      "reaction\n",
      "risk\n",
      "stage\n",
      "pcr\n",
      "mice\n",
      "model\n",
      "liver\n",
      "biomark\n",
      "non\n",
      "molecular\n",
      "patient\n",
      "healthi\n",
      "recent\n",
      "5p\n",
      "howev\n",
      "diseas\n",
      "carcinoma\n",
      "mmvarentty6mm\n",
      "metastasi\n",
      "valid\n"
     ]
    }
   ],
   "source": [
    "for v in bottomN:\n",
    "    print(list(tf_vectorizer.vocabulary_.keys())[list(tf_vectorizer.vocabulary_.values()).index(v)])\n"
   ]
  }
 ],
 "metadata": {
  "kernelspec": {
   "display_name": "Python 3",
   "language": "python",
   "name": "python3"
  },
  "language_info": {
   "codemirror_mode": {
    "name": "ipython",
    "version": 3
   },
   "file_extension": ".py",
   "mimetype": "text/x-python",
   "name": "python",
   "nbconvert_exporter": "python",
   "pygments_lexer": "ipython3",
   "version": "3.5.1"
  }
 },
 "nbformat": 4,
 "nbformat_minor": 0
}
