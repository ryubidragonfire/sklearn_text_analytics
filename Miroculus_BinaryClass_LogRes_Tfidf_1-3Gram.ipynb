{
 "cells": [
  {
   "cell_type": "markdown",
   "metadata": {},
   "source": [
    "## Load data"
   ]
  },
  {
   "cell_type": "code",
   "execution_count": 1,
   "metadata": {
    "collapsed": false,
    "scrolled": true
   },
   "outputs": [],
   "source": [
    "file_test = 'C:\\Data\\Miroculus\\A3_1_2016_text_inputs\\A3_1_2016_binary_data_entities_normalize_rmstopwords_stem_test.tsv'\n",
    "file_train = 'C:\\Data\\Miroculus\\A3_1_2016_text_inputs\\A3_1_2016_binary_data_entities_normalize_rmstopwords_stem_train.tsv'"
   ]
  },
  {
   "cell_type": "code",
   "execution_count": 2,
   "metadata": {
    "collapsed": false,
    "scrolled": true
   },
   "outputs": [
    {
     "data": {
      "text/plain": [
       "<bound method NDFrame.head of              Label                                               Text\n",
       "0      NO_RELATION  result identifi previous report breast cancer-...\n",
       "1      NO_RELATION  conclus taken togeth mmvarentty1mm/ggvarentty1...\n",
       "2         RELATION  revers correl mmvarentty1mm ggvarentty1gg also...\n",
       "3         RELATION  result suggest recognit site mmvarentty1mm mmv...\n",
       "4         RELATION  issu jci ghosh colleagu identifi uniqu microrn...\n",
       "5      NO_RELATION  conclus mmvarentty1mm may promot cell ggvarent...\n",
       "6      NO_RELATION        howev role mmvarentty1mm npc remain unknown\n",
       "7         RELATION  targetscan predict ggvarentty1gg ggvarentty2gg...\n",
       "8      NO_RELATION  increas mmvarentty1mm depend upon ggvarentty1g...\n",
       "9      NO_RELATION  revers correl mmvarentty1mm ggvarentty1gg expr...\n",
       "10        RELATION  studi identifi mmvarentty1mm mmvarentty2mm mic...\n",
       "11        RELATION  show mmvarentty1mm oncosuppress microrna lost ...\n",
       "12     NO_RELATION  newli identifi mmvarentty1mm/ggvarentty1gg ggv...\n",
       "13        RELATION  data place mmvarentty1mm regulatori loop ggvar...\n",
       "14        RELATION  result suggest suppress mmvarentty1mm express ...\n",
       "15        RELATION  among mmvarentty1mm relat ggvarentty1gg resist...\n",
       "16        RELATION  knockdown mmvarentty1mm enhanc anticanc effect...\n",
       "17        RELATION  use bioinformat identifi three potenti target ...\n",
       "18     NO_RELATION  show amongst mirna down-regul mmvarentty1mm mm...\n",
       "19     NO_RELATION  studi express matur mmvarentty1mm breast tumor...\n",
       "20     NO_RELATION  collect find highlight mmvarentty1mm/mmvarentt...\n",
       "21     NO_RELATION  ggvarentty1gg overexpress pdac also direct tar...\n",
       "22     NO_RELATION  conclus mmvarentty1mm level potenti establish ...\n",
       "23     NO_RELATION  show central tumour suppressor ggvarentty1gg e...\n",
       "24        RELATION  valid ggvarentty1gg ggvarentty2gg ggvarentty3g...\n",
       "25     NO_RELATION  furthermor mcf7 cell overexpress mmvarentty1mm...\n",
       "26     NO_RELATION  present studi aim investig express regulatori ...\n",
       "27     NO_RELATION  protein microarray reveal knockdown ggvarentty...\n",
       "28        RELATION  like neg regul ggvarentty1gg ggvarentty2gg mmv...\n",
       "29        RELATION  identifi ggvarentty1gg ggvarentty2gg direct mm...\n",
       "...            ...                                                ...\n",
       "10753  NO_RELATION  howev mmvarentty1mm rare character chronic mye...\n",
       "10754  NO_RELATION  ggvarentty1gg growth evalu vivo imag luciferas...\n",
       "10755     RELATION  result suggest ggvarentty1gg ggvarentty2gg gen...\n",
       "10756     RELATION  forc express mmvarentty1mm dramat inhibit leuk...\n",
       "10757  NO_RELATION  studi suggest manipul mmvarentty1mm express us...\n",
       "10758  NO_RELATION  taqman microrna assay show down-regul mmvarent...\n",
       "10759     RELATION  also correl express ggvarentty1gg mrna mirna e...\n",
       "10760  NO_RELATION  function effect mmvarentty1mm inhibit growth h...\n",
       "10761  NO_RELATION  moreov found ggvarentty1gg express regul post-...\n",
       "10762  NO_RELATION  found mmvarentty1mm rs2910164 polymorph associ...\n",
       "10763  NO_RELATION  aim studi investig express pattern prognost re...\n",
       "10764     RELATION  invers correl found mmvarentty1mm ggvarentty1g...\n",
       "10765  NO_RELATION  final function studi demonstr mmvarentty1mm kn...\n",
       "10766  NO_RELATION  method perform real-tim pcr western blot cck8 ...\n",
       "10767     RELATION  investig reveal mmvarentty1mm target ggvarentt...\n",
       "10768  NO_RELATION  analys reveal mmvarentty1mm regul upstream pro...\n",
       "10769     RELATION  identifi manganes ggvarentty1gg mnsod messeng ...\n",
       "10770     RELATION  find indic mmvarentty1mm upregul gc may key ro...\n",
       "10771     RELATION  restor mmvarentty1mm silenc ggvarentty1gg znf2...\n",
       "10772  NO_RELATION  endometri express zeb ggvarentty1gg patient ex...\n",
       "10773     RELATION  ggvarentty1gg neg regul mmvarentty1mm post-tra...\n",
       "10774  NO_RELATION  murin ggvarentty1gg increas mmvarentty1mm expr...\n",
       "10775     RELATION  ggvarentty1gg ggvarentty2gg protein express up...\n",
       "10776  NO_RELATION  result show mmvarentty1mm significantli downre...\n",
       "10777  NO_RELATION  investig clinic import mmvarentty1mm select hi...\n",
       "10778     RELATION  h2o2 upregul ggvarentty1gg mmvarentty1mm downr...\n",
       "10779  NO_RELATION  identifi ggvarentty1gg direct mmvarentty1mm ta...\n",
       "10780     RELATION  stabl overexpress mmvarentty1mm a549 cell resu...\n",
       "10781  NO_RELATION  result product microrna ggvarentty1gg-21 ggvar...\n",
       "10782  NO_RELATION  conclus polymorph mmvarentty1mm gene unlik sub...\n",
       "\n",
       "[10783 rows x 2 columns]>"
      ]
     },
     "execution_count": 2,
     "metadata": {},
     "output_type": "execute_result"
    }
   ],
   "source": [
    "import pandas as pd\n",
    "test = pd.read_csv(file_test, quotechar='\"', delimiter='\\t', header=None, names=['Label', 'Text'])\n",
    "train = pd.read_csv(file_train, quotechar='\"', delimiter='\\t', header=None, names=['Label', 'Text'])\n",
    "test.head; train.head"
   ]
  },
  {
   "cell_type": "markdown",
   "metadata": {},
   "source": [
    "## Vectorise text data into numerical vector"
   ]
  },
  {
   "cell_type": "markdown",
   "metadata": {},
   "source": [
    "### Using `CountVectorizer`"
   ]
  },
  {
   "cell_type": "code",
   "execution_count": 3,
   "metadata": {
    "collapsed": false,
    "scrolled": true
   },
   "outputs": [],
   "source": [
    "from sklearn.feature_extraction.text import TfidfVectorizer\n",
    "tfidf_vectorizer = TfidfVectorizer(analyzer='word', stop_words='english', ngram_range=(1,3), max_df=0.9, min_df=0.01)\n",
    "train_tfidf_vectors = tfidf_vectorizer.fit_transform(train.Text)"
   ]
  },
  {
   "cell_type": "markdown",
   "metadata": {},
   "source": [
    "** Note: ** Numbers not removed. Consider removing numbers."
   ]
  },
  {
   "cell_type": "markdown",
   "metadata": {},
   "source": [
    "`tfidf_vectorizer.vocabulary_` is a `dict`"
   ]
  },
  {
   "cell_type": "code",
   "execution_count": 4,
   "metadata": {
    "collapsed": false,
    "scrolled": true
   },
   "outputs": [
    {
     "data": {
      "text/plain": [
       "{'001': 0,\n",
       " '05': 1,\n",
       " '16': 2,\n",
       " '3p': 3,\n",
       " '5p': 4,\n",
       " 'act': 5,\n",
       " 'activ': 6,\n",
       " 'addit': 7,\n",
       " 'affect': 8,\n",
       " 'aim': 9,\n",
       " 'alter': 10,\n",
       " 'analys': 11,\n",
       " 'analysi': 12,\n",
       " 'analyz': 13,\n",
       " 'apoptosi': 14,\n",
       " 'arrest': 15,\n",
       " 'assay': 16,\n",
       " 'associ': 17,\n",
       " 'bind': 18,\n",
       " 'bioinformat': 19,\n",
       " 'biomark': 20,\n",
       " 'blot': 21,\n",
       " 'breast': 22,\n",
       " 'breast cancer': 23,\n",
       " 'cancer': 24,\n",
       " 'cancer cell': 25,\n",
       " 'cancer tissu': 26,\n",
       " 'carcinoma': 27,\n",
       " 'caus': 28,\n",
       " 'cell': 29,\n",
       " 'cell cycl': 30,\n",
       " 'cell growth': 31,\n",
       " 'cell line': 32,\n",
       " 'cell migrat': 33,\n",
       " 'cell prolifer': 34,\n",
       " 'chain': 35,\n",
       " 'chain reaction': 36,\n",
       " 'chang': 37,\n",
       " 'clinic': 38,\n",
       " 'cluster': 39,\n",
       " 'colon': 40,\n",
       " 'combin': 41,\n",
       " 'compar': 42,\n",
       " 'conclus': 43,\n",
       " 'conclus mmvarentty1mm': 44,\n",
       " 'confirm': 45,\n",
       " 'contribut': 46,\n",
       " 'control': 47,\n",
       " 'correl': 48,\n",
       " 'correl ggvarentty1gg': 49,\n",
       " 'correl mmvarentty1mm': 50,\n",
       " 'crc': 51,\n",
       " 'cycl': 52,\n",
       " 'data': 53,\n",
       " 'decreas': 54,\n",
       " 'decreas express': 55,\n",
       " 'demonstr': 56,\n",
       " 'demonstr mmvarentty1mm': 57,\n",
       " 'depend': 58,\n",
       " 'detect': 59,\n",
       " 'determin': 60,\n",
       " 'develop': 61,\n",
       " 'differ': 62,\n",
       " 'differenti': 63,\n",
       " 'direct': 64,\n",
       " 'direct target': 65,\n",
       " 'direct target mmvarentty1mm': 66,\n",
       " 'directli': 67,\n",
       " 'directli target': 68,\n",
       " 'diseas': 69,\n",
       " 'downregul': 70,\n",
       " 'downregul ggvarentty1gg': 71,\n",
       " 'downregul mmvarentty1mm': 72,\n",
       " 'downstream': 73,\n",
       " 'ectop': 74,\n",
       " 'effect': 75,\n",
       " 'effect mmvarentty1mm': 76,\n",
       " 'elev': 77,\n",
       " 'enhanc': 78,\n",
       " 'epitheli': 79,\n",
       " 'evalu': 80,\n",
       " 'evid': 81,\n",
       " 'examin': 82,\n",
       " 'express': 83,\n",
       " 'express ggvarentty1gg': 84,\n",
       " 'express ggvarentty1gg ggvarentty2gg': 85,\n",
       " 'express ggvarentty2gg': 86,\n",
       " 'express level': 87,\n",
       " 'express level mmvarentty1mm': 88,\n",
       " 'express mmvarentty1mm': 89,\n",
       " 'express mmvarentty1mm mmvarentty2mm': 90,\n",
       " 'factor': 91,\n",
       " 'famili': 92,\n",
       " 'final': 93,\n",
       " 'format': 94,\n",
       " 'function': 95,\n",
       " 'furthermor': 96,\n",
       " 'gastric': 97,\n",
       " 'gastric cancer': 98,\n",
       " 'gastric cancer cell': 99,\n",
       " 'gc': 100,\n",
       " 'gene': 101,\n",
       " 'gene express': 102,\n",
       " 'gene ggvarentty1gg': 103,\n",
       " 'gene mmvarentty1mm': 104,\n",
       " 'ggvarentty1gg': 105,\n",
       " 'ggvarentty1gg cell': 106,\n",
       " 'ggvarentty1gg express': 107,\n",
       " 'ggvarentty1gg gene': 108,\n",
       " 'ggvarentty1gg ggvarentty2gg': 109,\n",
       " 'ggvarentty1gg ggvarentty2gg ggvarentty3gg': 110,\n",
       " 'ggvarentty1gg induc': 111,\n",
       " 'ggvarentty1gg mmvarentty1mm': 112,\n",
       " 'ggvarentty1gg mrna': 113,\n",
       " 'ggvarentty1gg protein': 114,\n",
       " 'ggvarentty1gg regul': 115,\n",
       " 'ggvarentty1gg target': 116,\n",
       " 'ggvarentty2gg': 117,\n",
       " 'ggvarentty2gg cell': 118,\n",
       " 'ggvarentty2gg express': 119,\n",
       " 'ggvarentty2gg ggvarentty3gg': 120,\n",
       " 'ggvarentty2gg ggvarentty3gg ggvarentty4gg': 121,\n",
       " 'ggvarentty2gg mmvarentty1mm': 122,\n",
       " 'ggvarentty2gg mrna': 123,\n",
       " 'ggvarentty3gg': 124,\n",
       " 'ggvarentty3gg express': 125,\n",
       " 'ggvarentty3gg ggvarentty4gg': 126,\n",
       " 'ggvarentty3gg ggvarentty4gg ggvarentty5gg': 127,\n",
       " 'ggvarentty4gg': 128,\n",
       " 'ggvarentty4gg ggvarentty5gg': 129,\n",
       " 'ggvarentty4gg ggvarentty5gg ggvarentty6gg': 130,\n",
       " 'ggvarentty5gg': 131,\n",
       " 'ggvarentty5gg ggvarentty6gg': 132,\n",
       " 'ggvarentty6gg': 133,\n",
       " 'ggvarentty7gg': 134,\n",
       " 'glioma': 135,\n",
       " 'group': 136,\n",
       " 'growth': 137,\n",
       " 'healthi': 138,\n",
       " 'high': 139,\n",
       " 'higher': 140,\n",
       " 'howev': 141,\n",
       " 'human': 142,\n",
       " 'identifi': 143,\n",
       " 'identifi ggvarentty1gg': 144,\n",
       " 'implic': 145,\n",
       " 'import': 146,\n",
       " 'import role': 147,\n",
       " 'includ': 148,\n",
       " 'increas': 149,\n",
       " 'increas express': 150,\n",
       " 'increas ggvarentty1gg': 151,\n",
       " 'independ': 152,\n",
       " 'indic': 153,\n",
       " 'indic mmvarentty1mm': 154,\n",
       " 'induc': 155,\n",
       " 'induct': 156,\n",
       " 'inhibit': 157,\n",
       " 'inhibit ggvarentty1gg': 158,\n",
       " 'inhibit mmvarentty1mm': 159,\n",
       " 'interact': 160,\n",
       " 'invas': 161,\n",
       " 'invers': 162,\n",
       " 'invers correl': 163,\n",
       " 'investig': 164,\n",
       " 'involv': 165,\n",
       " 'knockdown': 166,\n",
       " 'known': 167,\n",
       " 'lead': 168,\n",
       " 'level': 169,\n",
       " 'level ggvarentty1gg': 170,\n",
       " 'level mmvarentty1mm': 171,\n",
       " 'line': 172,\n",
       " 'liver': 173,\n",
       " 'loss': 174,\n",
       " 'low': 175,\n",
       " 'lower': 176,\n",
       " 'luciferas': 177,\n",
       " 'luciferas report': 178,\n",
       " 'luciferas report assay': 179,\n",
       " 'malign': 180,\n",
       " 'marker': 181,\n",
       " 'mechan': 182,\n",
       " 'medi': 183,\n",
       " 'mediat': 184,\n",
       " 'metastasi': 185,\n",
       " 'metastat': 186,\n",
       " 'method': 187,\n",
       " 'methyl': 188,\n",
       " 'mice': 189,\n",
       " 'microrna': 190,\n",
       " 'microrna mmvarentty1mm': 191,\n",
       " 'migrat': 192,\n",
       " 'migrat invas': 193,\n",
       " 'mimic': 194,\n",
       " 'mirna': 195,\n",
       " 'mirna mmvarentty1mm': 196,\n",
       " 'mirna mmvarentty1mm mmvarentty2mm': 197,\n",
       " 'mmvarentty1mm 5p': 198,\n",
       " 'mmvarentty1mm downregul': 199,\n",
       " 'mmvarentty1mm express': 200,\n",
       " 'mmvarentty1mm ggvarentty1gg': 201,\n",
       " 'mmvarentty1mm ggvarentty1gg ggvarentty2gg': 202,\n",
       " 'mmvarentty1mm ggvarentty2gg': 203,\n",
       " 'mmvarentty1mm inhibit': 204,\n",
       " 'mmvarentty1mm level': 205,\n",
       " 'mmvarentty1mm mimic': 206,\n",
       " 'mmvarentty1mm mmvarentty2mm': 207,\n",
       " 'mmvarentty1mm mmvarentty2mm mmvarentty3mm': 208,\n",
       " 'mmvarentty1mm overexpress': 209,\n",
       " 'mmvarentty1mm play': 210,\n",
       " 'mmvarentty1mm promot': 211,\n",
       " 'mmvarentty1mm regul': 212,\n",
       " 'mmvarentty1mm significantli': 213,\n",
       " 'mmvarentty1mm suppress': 214,\n",
       " 'mmvarentty1mm target': 215,\n",
       " 'mmvarentty2mm': 216,\n",
       " 'mmvarentty2mm mmvarentty3mm': 217,\n",
       " 'mmvarentty2mm mmvarentty3mm mmvarentty4mm': 218,\n",
       " 'mmvarentty3mm': 219,\n",
       " 'mmvarentty3mm mmvarentty4mm': 220,\n",
       " 'mmvarentty3mm mmvarentty4mm mmvarentty5mm': 221,\n",
       " 'mmvarentty4mm': 222,\n",
       " 'mmvarentty4mm mmvarentty5mm': 223,\n",
       " 'mmvarentty5mm': 224,\n",
       " 'mmvarentty6mm': 225,\n",
       " 'model': 226,\n",
       " 'modul': 227,\n",
       " 'molecular': 228,\n",
       " 'moreov': 229,\n",
       " 'mrna': 230,\n",
       " 'mrna protein': 231,\n",
       " 'mutat': 232,\n",
       " 'neg': 233,\n",
       " 'neg regul': 234,\n",
       " 'new': 235,\n",
       " 'non': 236,\n",
       " 'normal': 237,\n",
       " 'novel': 238,\n",
       " 'nsclc': 239,\n",
       " 'observ': 240,\n",
       " 'oncogen': 241,\n",
       " 'osteosarcoma': 242,\n",
       " 'overexpress': 243,\n",
       " 'overexpress mmvarentty1mm': 244,\n",
       " 'partial': 245,\n",
       " 'pathway': 246,\n",
       " 'patient': 247,\n",
       " 'pcr': 248,\n",
       " 'phenotyp': 249,\n",
       " 'play': 250,\n",
       " 'posit': 251,\n",
       " 'possibl': 252,\n",
       " 'potenti': 253,\n",
       " 'predict': 254,\n",
       " 'present': 255,\n",
       " 'present studi': 256,\n",
       " 'primari': 257,\n",
       " 'process': 258,\n",
       " 'prognosi': 259,\n",
       " 'prognost': 260,\n",
       " 'progress': 261,\n",
       " 'prolifer': 262,\n",
       " 'promot': 263,\n",
       " 'prostat': 264,\n",
       " 'prostat cancer': 265,\n",
       " 'protein': 266,\n",
       " 'protein express': 267,\n",
       " 'protein level': 268,\n",
       " 'provid': 269,\n",
       " 'quantit': 270,\n",
       " 'reaction': 271,\n",
       " 'real': 272,\n",
       " 'real tim': 273,\n",
       " 'recent': 274,\n",
       " 'reduc': 275,\n",
       " 'reduct': 276,\n",
       " 'region': 277,\n",
       " 'regul': 278,\n",
       " 'regul express': 279,\n",
       " 'regul ggvarentty1gg': 280,\n",
       " 'regul ggvarentty2gg': 281,\n",
       " 'regul mmvarentty1mm': 282,\n",
       " 'regulatori': 283,\n",
       " 'rel': 284,\n",
       " 'relat': 285,\n",
       " 'report': 286,\n",
       " 'report assay': 287,\n",
       " 'repress': 288,\n",
       " 'resist': 289,\n",
       " 'respect': 290,\n",
       " 'respons': 291,\n",
       " 'restor': 292,\n",
       " 'result': 293,\n",
       " 'result mmvarentty1mm': 294,\n",
       " 'result suggest': 295,\n",
       " 'reveal': 296,\n",
       " 'revers': 297,\n",
       " 'risk': 298,\n",
       " 'rna': 299,\n",
       " 'role': 300,\n",
       " 'role mmvarentty1mm': 301,\n",
       " 'rt': 302,\n",
       " 'sampl': 303,\n",
       " 'sensit': 304,\n",
       " 'sequenc': 305,\n",
       " 'serum': 306,\n",
       " 'sever': 307,\n",
       " 'shown': 308,\n",
       " 'signal': 309,\n",
       " 'signal pathway': 310,\n",
       " 'signific': 311,\n",
       " 'significantli': 312,\n",
       " 'silenc': 313,\n",
       " 'site': 314,\n",
       " 'specif': 315,\n",
       " 'stage': 316,\n",
       " 'studi': 317,\n",
       " 'suggest': 318,\n",
       " 'suggest mmvarentty1mm': 319,\n",
       " 'suppress': 320,\n",
       " 'suppress ggvarentty1gg': 321,\n",
       " 'surviv': 322,\n",
       " 'taken': 323,\n",
       " 'taken togeth': 324,\n",
       " 'target': 325,\n",
       " 'target gene': 326,\n",
       " 'target gene mmvarentty1mm': 327,\n",
       " 'target ggvarentty1gg': 328,\n",
       " 'target ggvarentty1gg ggvarentty2gg': 329,\n",
       " 'target ggvarentty2gg': 330,\n",
       " 'target mmvarentty1mm': 331,\n",
       " 'therapeut': 332,\n",
       " 'therapeut target': 333,\n",
       " 'therapi': 334,\n",
       " 'thu': 335,\n",
       " 'tim': 336,\n",
       " 'time': 337,\n",
       " 'tissu': 338,\n",
       " 'togeth': 339,\n",
       " 'transcript': 340,\n",
       " 'transfect': 341,\n",
       " 'transfect mmvarentty1mm': 342,\n",
       " 'treatment': 343,\n",
       " 'tumor': 344,\n",
       " 'type': 345,\n",
       " 'untransl': 346,\n",
       " 'untransl region': 347,\n",
       " 'upregul': 348,\n",
       " 'upregul mmvarentty1mm': 349,\n",
       " 'use': 350,\n",
       " 'utr': 351,\n",
       " 'valid': 352,\n",
       " 'vitro': 353,\n",
       " 'vivo': 354,\n",
       " 'western': 355,\n",
       " 'western blot': 356,\n",
       " 'wherea': 357}"
      ]
     },
     "execution_count": 4,
     "metadata": {},
     "output_type": "execute_result"
    }
   ],
   "source": [
    "tfidf_vectorizer.vocabulary_"
   ]
  },
  {
   "cell_type": "code",
   "execution_count": 5,
   "metadata": {
    "collapsed": false,
    "scrolled": true
   },
   "outputs": [
    {
     "data": {
      "text/plain": [
       "(10783, 358)"
      ]
     },
     "execution_count": 5,
     "metadata": {},
     "output_type": "execute_result"
    }
   ],
   "source": [
    "train_tfidf_vectors.shape"
   ]
  },
  {
   "cell_type": "code",
   "execution_count": 6,
   "metadata": {
    "collapsed": false,
    "scrolled": true
   },
   "outputs": [
    {
     "data": {
      "text/plain": [
       "array([ 0.29883483,  0.25380954,  0.2911042 , ...,  0.40269706,\n",
       "        0.26405972,  0.38915471])"
      ]
     },
     "execution_count": 6,
     "metadata": {},
     "output_type": "execute_result"
    }
   ],
   "source": [
    "train_tfidf_vectors.data"
   ]
  },
  {
   "cell_type": "code",
   "execution_count": 7,
   "metadata": {
    "collapsed": false,
    "scrolled": true
   },
   "outputs": [
    {
     "name": "stdout",
     "output_type": "stream",
     "text": [
      "134461\n",
      "12.469720856904386\n",
      "3.4831622505319517\n"
     ]
    }
   ],
   "source": [
    "print(train_tfidf_vectors.nnz) # number of non-zero elements\n",
    "print(train_tfidf_vectors.nnz / float(train_tfidf_vectors.shape[0])) # non-zero per sample\n",
    "print(train_tfidf_vectors.nnz / float(train_tfidf_vectors.shape[0] * train_tfidf_vectors.shape[1]) * 100) # non-zero per feature space in %"
   ]
  },
  {
   "cell_type": "markdown",
   "metadata": {},
   "source": [
    "## Data Preprocessing: \n",
    "### Attributes and Target"
   ]
  },
  {
   "cell_type": "markdown",
   "metadata": {},
   "source": [
    "### Convert categorical labels into numerical labels"
   ]
  },
  {
   "cell_type": "code",
   "execution_count": 8,
   "metadata": {
    "collapsed": false,
    "scrolled": true
   },
   "outputs": [],
   "source": [
    "from sklearn import preprocessing"
   ]
  },
  {
   "cell_type": "code",
   "execution_count": 9,
   "metadata": {
    "collapsed": false,
    "scrolled": true
   },
   "outputs": [
    {
     "data": {
      "text/plain": [
       "['NO_RELATION', 'RELATION']"
      ]
     },
     "execution_count": 9,
     "metadata": {},
     "output_type": "execute_result"
    }
   ],
   "source": [
    "le = preprocessing.LabelEncoder()\n",
    "le.fit(train.Label)\n",
    "list(le.classes_)"
   ]
  },
  {
   "cell_type": "code",
   "execution_count": 10,
   "metadata": {
    "collapsed": false,
    "scrolled": true
   },
   "outputs": [
    {
     "name": "stdout",
     "output_type": "stream",
     "text": [
      "[0 0 1 1 1]\n",
      "['NO_RELATION' 'NO_RELATION' 'RELATION' 'RELATION' 'RELATION']\n"
     ]
    }
   ],
   "source": [
    "y_train = le.transform(train.Label);\n",
    "y_test = le.transform(test.Label);\n",
    "\n",
    "print(y_train[0:5])\n",
    "print(le.inverse_transform(y_train[0:5]))"
   ]
  },
  {
   "cell_type": "markdown",
   "metadata": {},
   "source": [
    "`X` is data, `y` is target. `X` has the size of `n_samples` x `n_features`, `y` has `n_samples` x 1 labels"
   ]
  },
  {
   "cell_type": "code",
   "execution_count": 11,
   "metadata": {
    "collapsed": false,
    "scrolled": true
   },
   "outputs": [],
   "source": [
    "X_train = train_tfidf_vectors"
   ]
  },
  {
   "cell_type": "code",
   "execution_count": 12,
   "metadata": {
    "collapsed": true,
    "scrolled": false
   },
   "outputs": [],
   "source": [
    "X_test = tfidf_vectorizer.transform(test.Text)"
   ]
  },
  {
   "cell_type": "code",
   "execution_count": 13,
   "metadata": {
    "collapsed": false,
    "scrolled": false
   },
   "outputs": [
    {
     "data": {
      "text/plain": [
       "(3595, 358)"
      ]
     },
     "execution_count": 13,
     "metadata": {},
     "output_type": "execute_result"
    }
   ],
   "source": [
    "X_test.shape"
   ]
  },
  {
   "cell_type": "code",
   "execution_count": 14,
   "metadata": {
    "collapsed": false,
    "scrolled": false
   },
   "outputs": [
    {
     "data": {
      "text/plain": [
       "array([ 0.21861591,  0.23361039,  0.26788708, ...,  0.17149076,\n",
       "        0.34588406,  0.18785396])"
      ]
     },
     "execution_count": 14,
     "metadata": {},
     "output_type": "execute_result"
    }
   ],
   "source": [
    "X_test.data"
   ]
  },
  {
   "cell_type": "markdown",
   "metadata": {},
   "source": [
    "## Log Res: "
   ]
  },
  {
   "cell_type": "code",
   "execution_count": 15,
   "metadata": {
    "collapsed": false,
    "scrolled": false
   },
   "outputs": [
    {
     "data": {
      "text/plain": [
       "LogisticRegression(C=100000.0, class_weight='balanced', dual=False,\n",
       "          fit_intercept=True, intercept_scaling=1, max_iter=100,\n",
       "          multi_class='ovr', n_jobs=1, penalty='l2', random_state=None,\n",
       "          solver='liblinear', tol=0.0001, verbose=0, warm_start=False)"
      ]
     },
     "execution_count": 15,
     "metadata": {},
     "output_type": "execute_result"
    }
   ],
   "source": [
    "from sklearn import linear_model\n",
    "clf = linear_model.LogisticRegression(C=1e5, class_weight='balanced')\n",
    "clf.fit(X_train, y_train)"
   ]
  },
  {
   "cell_type": "code",
   "execution_count": 16,
   "metadata": {
    "collapsed": false,
    "scrolled": true
   },
   "outputs": [],
   "source": [
    "y_pred = clf.predict(X_test)"
   ]
  },
  {
   "cell_type": "code",
   "execution_count": 17,
   "metadata": {
    "collapsed": false,
    "scrolled": true
   },
   "outputs": [
    {
     "name": "stdout",
     "output_type": "stream",
     "text": [
      "             precision    recall  f1-score   support\n",
      "\n",
      "          0       0.73      0.72      0.73      1804\n",
      "          1       0.73      0.74      0.73      1791\n",
      "\n",
      "avg / total       0.73      0.73      0.73      3595\n",
      "\n"
     ]
    }
   ],
   "source": [
    "from sklearn import metrics\n",
    "print(metrics.classification_report(y_test, y_pred))"
   ]
  },
  {
   "cell_type": "code",
   "execution_count": 18,
   "metadata": {
    "collapsed": false,
    "scrolled": true
   },
   "outputs": [
    {
     "name": "stdout",
     "output_type": "stream",
     "text": [
      "[[1305  499]\n",
      " [ 471 1320]]\n"
     ]
    }
   ],
   "source": [
    "print(metrics.confusion_matrix(y_test, y_pred))"
   ]
  },
  {
   "cell_type": "markdown",
   "metadata": {},
   "source": [
    "### Coeficients of the decision function The top word"
   ]
  },
  {
   "cell_type": "code",
   "execution_count": 19,
   "metadata": {
    "collapsed": false,
    "scrolled": false
   },
   "outputs": [
    {
     "data": {
      "text/plain": [
       "array([[  6.47870485e-01,  -5.35001545e-02,   2.69227915e+00,\n",
       "          5.38008515e-01,  -7.17552906e-01,   5.49185436e-01,\n",
       "          1.07412984e+00,   8.45464856e-01,   4.13784346e-01,\n",
       "         -6.38260230e-01,   1.09848544e+00,   3.84878316e-01,\n",
       "         -9.97783776e-02,   2.73146664e-01,   2.99123346e-01,\n",
       "          3.51484906e-02,  -7.59126288e-02,  -5.49411545e-01,\n",
       "          9.93956461e-01,   1.76878681e+00,  -9.66931306e-01,\n",
       "          3.60339006e+00,  -2.17830146e-01,   8.34486975e-01,\n",
       "         -1.71609621e+00,   2.14190536e-01,   1.53854953e+00,\n",
       "         -1.31641192e+00,   1.33461469e+00,   3.20240550e-01,\n",
       "          2.39186249e+00,   2.16732042e-01,   2.68432776e+00,\n",
       "          7.31449722e-01,   3.71025960e-01,   2.46041160e+00,\n",
       "         -4.62163527e+00,   2.31531532e-01,  -1.02328188e-01,\n",
       "          1.17187547e+00,   9.08916473e-01,   1.04281853e+00,\n",
       "         -5.71669558e-01,   4.32158535e-01,   7.23537651e-01,\n",
       "          7.13534505e-01,   5.45971130e-01,   5.34864600e-01,\n",
       "          9.86101527e-02,   2.41898805e+00,   1.64678918e+00,\n",
       "          3.57405513e-02,   4.77877728e-02,   1.10020113e-01,\n",
       "          1.32095146e+00,  -4.81906482e-01,   2.34131703e-01,\n",
       "          6.45195233e-01,   1.45552603e+00,   3.36201927e-01,\n",
       "          1.32429507e+00,  -2.96201169e-01,   6.32118981e-01,\n",
       "          4.18458396e-01,   1.73844189e+00,   3.84368878e-01,\n",
       "          1.57279206e+00,   2.71226804e+00,  -1.60219212e+00,\n",
       "         -1.22300925e+00,   2.22578460e+00,   9.55037419e-01,\n",
       "         -5.25731986e-02,   2.83678543e-01,   7.72527919e-01,\n",
       "          7.69053680e-01,   5.73088732e-01,   8.10565188e-01,\n",
       "          8.05799772e-01,   4.33457909e-02,   4.41294290e-01,\n",
       "          3.50302766e-01,   2.73778336e-01,   1.72447031e+00,\n",
       "          1.72824867e+00,   1.50690953e-01,   7.22395705e-01,\n",
       "         -1.10504312e-02,  -7.76629685e-02,  -3.39284983e-02,\n",
       "          1.70440805e+00,   1.93478685e-01,   1.04560811e+00,\n",
       "          6.50852115e-02,   2.81110457e-01,   3.15148944e-01,\n",
       "          1.02762551e-01,   1.91104630e+00,  -1.10392763e+00,\n",
       "          2.10843751e+00,  -6.37927453e-01,   4.99921703e-01,\n",
       "          2.41071160e-01,   3.08840318e+00,   2.17279942e+00,\n",
       "          3.04149022e+00,  -1.48217510e+00,   2.23978040e+00,\n",
       "          2.05395598e+00,   2.31761134e+00,   7.14752874e-01,\n",
       "          7.01496625e-01,   1.09517427e+00,   1.37969545e+00,\n",
       "          2.45469319e+00,   1.28778771e+00,   1.73534661e+00,\n",
       "          3.32595842e+00,  -1.02554884e+00,   1.53424316e+00,\n",
       "          1.48016015e+00,  -7.60213748e-01,   1.35404881e+00,\n",
       "          6.35470595e-01,   1.15782431e+00,   1.55240627e+00,\n",
       "          1.49135346e+00,   1.75563982e+00,   7.10477778e-01,\n",
       "         -5.84431728e-01,   1.66450240e+00,   1.78561324e+00,\n",
       "          6.93527609e-02,   8.57924046e-01,   2.54766632e-01,\n",
       "         -1.12705285e+00,   9.83244963e-01,  -4.07221862e-01,\n",
       "         -1.28025705e+00,   2.58739364e-01,  -1.24885819e-01,\n",
       "         -4.07536570e-01,  -6.60981381e-01,   1.45574841e+00,\n",
       "          1.05310958e+00,   1.79631002e-01,  -1.77261531e-01,\n",
       "          1.39061113e+00,   4.45046735e-01,   8.57411664e-01,\n",
       "         -2.45671683e-02,   1.12074331e+00,   1.05568314e+00,\n",
       "         -4.56535236e-01,   1.71713551e+00,   2.50394994e-01,\n",
       "          2.50798004e-01,   1.23812713e+00,   7.64499286e-01,\n",
       "          8.89359053e-03,   1.86181420e+00,  -4.75224014e-02,\n",
       "          4.50678145e+00,  -1.70679253e+00,   1.45327387e-01,\n",
       "          5.24938210e-01,   1.31064336e+00,   1.45498984e+00,\n",
       "          2.43800307e-01,   1.30248814e+00,   9.38699288e-01,\n",
       "         -4.97861849e-01,  -2.35631911e+00,  -1.00060861e+00,\n",
       "          5.66475059e-01,   1.24139842e+00,   1.40482998e+00,\n",
       "          2.11755406e+00,  -3.46665377e-01,  -7.05999446e-02,\n",
       "         -6.69812642e-01,   4.90375672e-01,   7.52651435e-01,\n",
       "          1.12431955e+00,   1.54415631e+00,  -1.08407917e+00,\n",
       "          1.57846844e-01,   8.66674403e-02,  -5.52244470e-01,\n",
       "         -1.15408468e+00,   4.95924160e-01,  -2.84613339e-02,\n",
       "          5.10622615e-01,   5.10245819e-01,   1.35782499e+00,\n",
       "         -5.05887498e-01,  -9.70244045e-01,   1.35239907e+00,\n",
       "         -1.60029830e-01,   1.91015257e-01,  -9.26026822e-01,\n",
       "          2.37406441e+00,   4.03090096e-01,   1.46492334e+00,\n",
       "          5.23909395e-01,  -4.24683466e-01,  -6.58717853e-01,\n",
       "          1.96938024e+00,  -3.15158183e+00,  -7.23605772e-01,\n",
       "          9.54873159e-01,  -4.59228921e-01,   1.57040140e-01,\n",
       "          1.15442386e+00,   7.29354542e-01,   1.24187054e+00,\n",
       "         -4.22697941e-01,   3.06916910e+00,   1.05880594e+00,\n",
       "          1.58055398e+00,   1.20866406e+00,   2.93680834e+00,\n",
       "         -6.77179462e-01,   6.65434089e-01,   5.95747272e-01,\n",
       "         -9.50355068e-01,  -1.31075992e+00,   1.09732747e+00,\n",
       "         -8.37981159e-01,   9.98162398e-01,   1.34506139e+00,\n",
       "          5.27990465e-01,   1.74075043e+00,   1.30460207e+00,\n",
       "          5.40328378e-02,  -5.89598836e-01,  -9.89140552e-01,\n",
       "          4.11827460e-01,  -1.13178081e-01,  -3.26906519e-01,\n",
       "         -4.22199089e-01,   1.21979367e+00,   6.18013079e-01,\n",
       "          1.96480761e+00,  -1.07097900e+00,   2.75232763e+00,\n",
       "          9.28187468e-01,  -1.58672192e+00,  -1.89180001e+00,\n",
       "          1.71814219e+00,  -1.04445637e+00,   1.68093314e+00,\n",
       "          3.96593367e-01,  -4.56825207e-01,   4.15131429e-01,\n",
       "          8.09232970e-01,  -1.96354632e+00,  -4.00803851e-01,\n",
       "          8.66426816e-01,   2.61681480e-01,   5.48431700e-01,\n",
       "         -7.22751994e-02,   5.49174901e-01,   1.01475525e+00,\n",
       "          3.42365019e+00,  -1.75762053e+00,   2.44065984e+00,\n",
       "         -3.18860832e-01,   4.38409843e-01,   1.09987234e+00,\n",
       "          1.13369065e+00,   2.25976863e-01,   3.56316107e-01,\n",
       "          1.18386387e+00,  -1.01391409e+00,   1.21396185e+00,\n",
       "         -1.22975972e-02,   5.08411638e-03,   1.32535949e+00,\n",
       "          2.02842869e+00,   2.13987245e+00,   1.12692785e+00,\n",
       "          9.84249933e-01,   1.31669268e+00,  -2.66879182e-01,\n",
       "          9.20844169e-01,   9.33975728e-01,   2.61849080e+00,\n",
       "          2.46601002e+00,   1.14780358e+00,  -1.03084123e-01,\n",
       "          7.26843966e-01,   1.94260131e+00,   3.99697478e-01,\n",
       "         -3.57623348e-01,   5.60211616e-01,   4.53663863e-01,\n",
       "          1.68174542e+00,  -1.88327431e+00,  -5.91082100e-02,\n",
       "          1.43979804e+00,  -1.58785675e+00,   2.08763046e+00,\n",
       "          4.18263017e-01,  -9.24210498e-01,   7.54118328e-01,\n",
       "         -6.05177256e-01,   4.60993020e-01,   7.64497947e-01,\n",
       "          1.50004460e+00,  -7.32222496e-01,   4.92399638e-01,\n",
       "         -7.38737583e-01,   1.04340332e+00,   2.03760535e+00,\n",
       "         -5.65286004e-01,  -1.18463540e+00,   2.94749703e-01,\n",
       "          8.06094281e-01,   5.22201385e-01,   6.24105438e-01,\n",
       "          1.76056099e+00,   6.38353811e-01,   3.01662680e+00,\n",
       "         -2.40551656e+00,   1.56902161e+00,   1.48495771e-01,\n",
       "          1.99170618e+00,   3.55536805e+00,  -8.41968203e-01,\n",
       "          2.56568424e+00,   2.74932735e+00,  -6.27932506e-02,\n",
       "          2.08716127e-01,  -2.69562345e-01,   9.41660827e-01,\n",
       "          1.18386387e+00,   7.28158899e-01,  -7.52289412e-01,\n",
       "          6.39778354e-01,   1.37720354e+00,   1.26059459e+00,\n",
       "          3.83977919e-01,   5.86197625e-01,  -5.13770893e-02,\n",
       "          2.49163153e-02,   6.11779341e-01,   2.23420588e+00,\n",
       "          7.84084938e-01,   5.61768904e-01,  -1.43337467e-01,\n",
       "          2.14516795e+00,  -5.69619822e-01,   6.94519247e-01,\n",
       "         -1.13621746e-01,   1.57358308e+01,  -1.39256522e+01,\n",
       "         -3.08574470e-01]])"
      ]
     },
     "execution_count": 19,
     "metadata": {},
     "output_type": "execute_result"
    }
   ],
   "source": [
    "clf.coef_"
   ]
  },
  {
   "cell_type": "code",
   "execution_count": 20,
   "metadata": {
    "collapsed": false,
    "scrolled": false
   },
   "outputs": [
    {
     "data": {
      "text/plain": [
       "358"
      ]
     },
     "execution_count": 20,
     "metadata": {},
     "output_type": "execute_result"
    }
   ],
   "source": [
    "len(clf.coef_[0,])"
   ]
  },
  {
   "cell_type": "markdown",
   "metadata": {},
   "source": [
    "Get the index of coef with the maximum value."
   ]
  },
  {
   "cell_type": "code",
   "execution_count": 21,
   "metadata": {
    "collapsed": false,
    "scrolled": false
   },
   "outputs": [
    {
     "data": {
      "text/plain": [
       "355"
      ]
     },
     "execution_count": 21,
     "metadata": {},
     "output_type": "execute_result"
    }
   ],
   "source": [
    "clf.coef_.argmax()"
   ]
  },
  {
   "cell_type": "code",
   "execution_count": 22,
   "metadata": {
    "collapsed": false,
    "scrolled": false
   },
   "outputs": [
    {
     "name": "stdout",
     "output_type": "stream",
     "text": [
      "western\n"
     ]
    }
   ],
   "source": [
    "m = clf.coef_.argmax()\n",
    "print(list(tfidf_vectorizer.vocabulary_.keys())[list(tfidf_vectorizer.vocabulary_.values()).index(m)])"
   ]
  },
  {
   "cell_type": "markdown",
   "metadata": {},
   "source": [
    "Get the index of the highest 10 coef value.\n",
    "\n",
    "**Note** `clf.coef_` is ndarray, see below:"
   ]
  },
  {
   "cell_type": "code",
   "execution_count": 23,
   "metadata": {
    "collapsed": false,
    "scrolled": false
   },
   "outputs": [
    {
     "data": {
      "text/plain": [
       "array([  6.47870485e-01,  -5.35001545e-02,   2.69227915e+00,\n",
       "         5.38008515e-01,  -7.17552906e-01,   5.49185436e-01,\n",
       "         1.07412984e+00,   8.45464856e-01,   4.13784346e-01,\n",
       "        -6.38260230e-01,   1.09848544e+00,   3.84878316e-01,\n",
       "        -9.97783776e-02,   2.73146664e-01,   2.99123346e-01,\n",
       "         3.51484906e-02,  -7.59126288e-02,  -5.49411545e-01,\n",
       "         9.93956461e-01,   1.76878681e+00,  -9.66931306e-01,\n",
       "         3.60339006e+00,  -2.17830146e-01,   8.34486975e-01,\n",
       "        -1.71609621e+00,   2.14190536e-01,   1.53854953e+00,\n",
       "        -1.31641192e+00,   1.33461469e+00,   3.20240550e-01,\n",
       "         2.39186249e+00,   2.16732042e-01,   2.68432776e+00,\n",
       "         7.31449722e-01,   3.71025960e-01,   2.46041160e+00,\n",
       "        -4.62163527e+00,   2.31531532e-01,  -1.02328188e-01,\n",
       "         1.17187547e+00,   9.08916473e-01,   1.04281853e+00,\n",
       "        -5.71669558e-01,   4.32158535e-01,   7.23537651e-01,\n",
       "         7.13534505e-01,   5.45971130e-01,   5.34864600e-01,\n",
       "         9.86101527e-02,   2.41898805e+00,   1.64678918e+00,\n",
       "         3.57405513e-02,   4.77877728e-02,   1.10020113e-01,\n",
       "         1.32095146e+00,  -4.81906482e-01,   2.34131703e-01,\n",
       "         6.45195233e-01,   1.45552603e+00,   3.36201927e-01,\n",
       "         1.32429507e+00,  -2.96201169e-01,   6.32118981e-01,\n",
       "         4.18458396e-01,   1.73844189e+00,   3.84368878e-01,\n",
       "         1.57279206e+00,   2.71226804e+00,  -1.60219212e+00,\n",
       "        -1.22300925e+00,   2.22578460e+00,   9.55037419e-01,\n",
       "        -5.25731986e-02,   2.83678543e-01,   7.72527919e-01,\n",
       "         7.69053680e-01,   5.73088732e-01,   8.10565188e-01,\n",
       "         8.05799772e-01,   4.33457909e-02,   4.41294290e-01,\n",
       "         3.50302766e-01,   2.73778336e-01,   1.72447031e+00,\n",
       "         1.72824867e+00,   1.50690953e-01,   7.22395705e-01,\n",
       "        -1.10504312e-02,  -7.76629685e-02,  -3.39284983e-02,\n",
       "         1.70440805e+00,   1.93478685e-01,   1.04560811e+00,\n",
       "         6.50852115e-02,   2.81110457e-01,   3.15148944e-01,\n",
       "         1.02762551e-01,   1.91104630e+00,  -1.10392763e+00,\n",
       "         2.10843751e+00,  -6.37927453e-01,   4.99921703e-01,\n",
       "         2.41071160e-01,   3.08840318e+00,   2.17279942e+00,\n",
       "         3.04149022e+00,  -1.48217510e+00,   2.23978040e+00,\n",
       "         2.05395598e+00,   2.31761134e+00,   7.14752874e-01,\n",
       "         7.01496625e-01,   1.09517427e+00,   1.37969545e+00,\n",
       "         2.45469319e+00,   1.28778771e+00,   1.73534661e+00,\n",
       "         3.32595842e+00,  -1.02554884e+00,   1.53424316e+00,\n",
       "         1.48016015e+00,  -7.60213748e-01,   1.35404881e+00,\n",
       "         6.35470595e-01,   1.15782431e+00,   1.55240627e+00,\n",
       "         1.49135346e+00,   1.75563982e+00,   7.10477778e-01,\n",
       "        -5.84431728e-01,   1.66450240e+00,   1.78561324e+00,\n",
       "         6.93527609e-02,   8.57924046e-01,   2.54766632e-01,\n",
       "        -1.12705285e+00,   9.83244963e-01,  -4.07221862e-01,\n",
       "        -1.28025705e+00,   2.58739364e-01,  -1.24885819e-01,\n",
       "        -4.07536570e-01,  -6.60981381e-01,   1.45574841e+00,\n",
       "         1.05310958e+00,   1.79631002e-01,  -1.77261531e-01,\n",
       "         1.39061113e+00,   4.45046735e-01,   8.57411664e-01,\n",
       "        -2.45671683e-02,   1.12074331e+00,   1.05568314e+00,\n",
       "        -4.56535236e-01,   1.71713551e+00,   2.50394994e-01,\n",
       "         2.50798004e-01,   1.23812713e+00,   7.64499286e-01,\n",
       "         8.89359053e-03,   1.86181420e+00,  -4.75224014e-02,\n",
       "         4.50678145e+00,  -1.70679253e+00,   1.45327387e-01,\n",
       "         5.24938210e-01,   1.31064336e+00,   1.45498984e+00,\n",
       "         2.43800307e-01,   1.30248814e+00,   9.38699288e-01,\n",
       "        -4.97861849e-01,  -2.35631911e+00,  -1.00060861e+00,\n",
       "         5.66475059e-01,   1.24139842e+00,   1.40482998e+00,\n",
       "         2.11755406e+00,  -3.46665377e-01,  -7.05999446e-02,\n",
       "        -6.69812642e-01,   4.90375672e-01,   7.52651435e-01,\n",
       "         1.12431955e+00,   1.54415631e+00,  -1.08407917e+00,\n",
       "         1.57846844e-01,   8.66674403e-02,  -5.52244470e-01,\n",
       "        -1.15408468e+00,   4.95924160e-01,  -2.84613339e-02,\n",
       "         5.10622615e-01,   5.10245819e-01,   1.35782499e+00,\n",
       "        -5.05887498e-01,  -9.70244045e-01,   1.35239907e+00,\n",
       "        -1.60029830e-01,   1.91015257e-01,  -9.26026822e-01,\n",
       "         2.37406441e+00,   4.03090096e-01,   1.46492334e+00,\n",
       "         5.23909395e-01,  -4.24683466e-01,  -6.58717853e-01,\n",
       "         1.96938024e+00,  -3.15158183e+00,  -7.23605772e-01,\n",
       "         9.54873159e-01,  -4.59228921e-01,   1.57040140e-01,\n",
       "         1.15442386e+00,   7.29354542e-01,   1.24187054e+00,\n",
       "        -4.22697941e-01,   3.06916910e+00,   1.05880594e+00,\n",
       "         1.58055398e+00,   1.20866406e+00,   2.93680834e+00,\n",
       "        -6.77179462e-01,   6.65434089e-01,   5.95747272e-01,\n",
       "        -9.50355068e-01,  -1.31075992e+00,   1.09732747e+00,\n",
       "        -8.37981159e-01,   9.98162398e-01,   1.34506139e+00,\n",
       "         5.27990465e-01,   1.74075043e+00,   1.30460207e+00,\n",
       "         5.40328378e-02,  -5.89598836e-01,  -9.89140552e-01,\n",
       "         4.11827460e-01,  -1.13178081e-01,  -3.26906519e-01,\n",
       "        -4.22199089e-01,   1.21979367e+00,   6.18013079e-01,\n",
       "         1.96480761e+00,  -1.07097900e+00,   2.75232763e+00,\n",
       "         9.28187468e-01,  -1.58672192e+00,  -1.89180001e+00,\n",
       "         1.71814219e+00,  -1.04445637e+00,   1.68093314e+00,\n",
       "         3.96593367e-01,  -4.56825207e-01,   4.15131429e-01,\n",
       "         8.09232970e-01,  -1.96354632e+00,  -4.00803851e-01,\n",
       "         8.66426816e-01,   2.61681480e-01,   5.48431700e-01,\n",
       "        -7.22751994e-02,   5.49174901e-01,   1.01475525e+00,\n",
       "         3.42365019e+00,  -1.75762053e+00,   2.44065984e+00,\n",
       "        -3.18860832e-01,   4.38409843e-01,   1.09987234e+00,\n",
       "         1.13369065e+00,   2.25976863e-01,   3.56316107e-01,\n",
       "         1.18386387e+00,  -1.01391409e+00,   1.21396185e+00,\n",
       "        -1.22975972e-02,   5.08411638e-03,   1.32535949e+00,\n",
       "         2.02842869e+00,   2.13987245e+00,   1.12692785e+00,\n",
       "         9.84249933e-01,   1.31669268e+00,  -2.66879182e-01,\n",
       "         9.20844169e-01,   9.33975728e-01,   2.61849080e+00,\n",
       "         2.46601002e+00,   1.14780358e+00,  -1.03084123e-01,\n",
       "         7.26843966e-01,   1.94260131e+00,   3.99697478e-01,\n",
       "        -3.57623348e-01,   5.60211616e-01,   4.53663863e-01,\n",
       "         1.68174542e+00,  -1.88327431e+00,  -5.91082100e-02,\n",
       "         1.43979804e+00,  -1.58785675e+00,   2.08763046e+00,\n",
       "         4.18263017e-01,  -9.24210498e-01,   7.54118328e-01,\n",
       "        -6.05177256e-01,   4.60993020e-01,   7.64497947e-01,\n",
       "         1.50004460e+00,  -7.32222496e-01,   4.92399638e-01,\n",
       "        -7.38737583e-01,   1.04340332e+00,   2.03760535e+00,\n",
       "        -5.65286004e-01,  -1.18463540e+00,   2.94749703e-01,\n",
       "         8.06094281e-01,   5.22201385e-01,   6.24105438e-01,\n",
       "         1.76056099e+00,   6.38353811e-01,   3.01662680e+00,\n",
       "        -2.40551656e+00,   1.56902161e+00,   1.48495771e-01,\n",
       "         1.99170618e+00,   3.55536805e+00,  -8.41968203e-01,\n",
       "         2.56568424e+00,   2.74932735e+00,  -6.27932506e-02,\n",
       "         2.08716127e-01,  -2.69562345e-01,   9.41660827e-01,\n",
       "         1.18386387e+00,   7.28158899e-01,  -7.52289412e-01,\n",
       "         6.39778354e-01,   1.37720354e+00,   1.26059459e+00,\n",
       "         3.83977919e-01,   5.86197625e-01,  -5.13770893e-02,\n",
       "         2.49163153e-02,   6.11779341e-01,   2.23420588e+00,\n",
       "         7.84084938e-01,   5.61768904e-01,  -1.43337467e-01,\n",
       "         2.14516795e+00,  -5.69619822e-01,   6.94519247e-01,\n",
       "        -1.13621746e-01,   1.57358308e+01,  -1.39256522e+01,\n",
       "        -3.08574470e-01])"
      ]
     },
     "execution_count": 23,
     "metadata": {},
     "output_type": "execute_result"
    }
   ],
   "source": [
    "clf.coef_[0]"
   ]
  },
  {
   "cell_type": "code",
   "execution_count": 24,
   "metadata": {
    "collapsed": false,
    "scrolled": false
   },
   "outputs": [
    {
     "name": "stdout",
     "output_type": "stream",
     "text": [
      "0.647870485388\n",
      "-0.0535001544978\n"
     ]
    }
   ],
   "source": [
    "print(clf.coef_[0][0])\n",
    "print(clf.coef_[0][1])"
   ]
  },
  {
   "cell_type": "code",
   "execution_count": 25,
   "metadata": {
    "collapsed": false,
    "scrolled": false
   },
   "outputs": [
    {
     "name": "stdout",
     "output_type": "stream",
     "text": [
      "[355 162  21 328 264 117 103 217 105 323 221 245 331  67   2  32 287 330\n",
      " 288  35]\n"
     ]
    }
   ],
   "source": [
    "import numpy as np\n",
    "topN = np.argsort(clf.coef_[0])[::-1][:20]\n",
    "print(topN)"
   ]
  },
  {
   "cell_type": "code",
   "execution_count": 26,
   "metadata": {
    "collapsed": false,
    "scrolled": false
   },
   "outputs": [
    {
     "name": "stdout",
     "output_type": "stream",
     "text": [
      "western\n",
      "invers\n",
      "blot\n",
      "target ggvarentty1gg\n",
      "prostat\n",
      "ggvarentty2gg\n",
      "gene ggvarentty1gg\n",
      "mmvarentty2mm mmvarentty3mm\n",
      "ggvarentty1gg\n",
      "taken\n",
      "mmvarentty3mm mmvarentty4mm mmvarentty5mm\n",
      "partial\n",
      "target mmvarentty1mm\n",
      "directli\n",
      "16\n",
      "cell line\n",
      "report assay\n",
      "target ggvarentty2gg\n",
      "repress\n",
      "chain\n"
     ]
    }
   ],
   "source": [
    "for v in topN:\n",
    "    print(list(tfidf_vectorizer.vocabulary_.keys())[list(tfidf_vectorizer.vocabulary_.values()).index(v)])\n"
   ]
  }
 ],
 "metadata": {
  "kernelspec": {
   "display_name": "Python 3",
   "language": "python",
   "name": "python3"
  },
  "language_info": {
   "codemirror_mode": {
    "name": "ipython",
    "version": 3
   },
   "file_extension": ".py",
   "mimetype": "text/x-python",
   "name": "python",
   "nbconvert_exporter": "python",
   "pygments_lexer": "ipython3",
   "version": "3.5.1"
  }
 },
 "nbformat": 4,
 "nbformat_minor": 0
}
