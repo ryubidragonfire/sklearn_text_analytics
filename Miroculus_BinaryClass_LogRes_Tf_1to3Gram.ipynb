{
 "cells": [
  {
   "cell_type": "markdown",
   "metadata": {},
   "source": [
    "## Load data"
   ]
  },
  {
   "cell_type": "code",
   "execution_count": 1,
   "metadata": {
    "collapsed": false,
    "scrolled": true
   },
   "outputs": [],
   "source": [
    "file_test = 'C:\\Data\\Miroculus\\A3_1_2016_text_inputs\\A3_1_2016_binary_data_entities_normalize_rmstopwords_stem_test.tsv'\n",
    "file_train = 'C:\\Data\\Miroculus\\A3_1_2016_text_inputs\\A3_1_2016_binary_data_entities_normalize_rmstopwords_stem_train.tsv'"
   ]
  },
  {
   "cell_type": "code",
   "execution_count": 2,
   "metadata": {
    "collapsed": false,
    "scrolled": true
   },
   "outputs": [
    {
     "data": {
      "text/plain": [
       "<bound method NDFrame.head of              Label                                               Text\n",
       "0      NO_RELATION  result identifi previous report breast cancer-...\n",
       "1      NO_RELATION  conclus taken togeth mmvarentty1mm/ggvarentty1...\n",
       "2         RELATION  revers correl mmvarentty1mm ggvarentty1gg also...\n",
       "3         RELATION  result suggest recognit site mmvarentty1mm mmv...\n",
       "4         RELATION  issu jci ghosh colleagu identifi uniqu microrn...\n",
       "5      NO_RELATION  conclus mmvarentty1mm may promot cell ggvarent...\n",
       "6      NO_RELATION        howev role mmvarentty1mm npc remain unknown\n",
       "7         RELATION  targetscan predict ggvarentty1gg ggvarentty2gg...\n",
       "8      NO_RELATION  increas mmvarentty1mm depend upon ggvarentty1g...\n",
       "9      NO_RELATION  revers correl mmvarentty1mm ggvarentty1gg expr...\n",
       "10        RELATION  studi identifi mmvarentty1mm mmvarentty2mm mic...\n",
       "11        RELATION  show mmvarentty1mm oncosuppress microrna lost ...\n",
       "12     NO_RELATION  newli identifi mmvarentty1mm/ggvarentty1gg ggv...\n",
       "13        RELATION  data place mmvarentty1mm regulatori loop ggvar...\n",
       "14        RELATION  result suggest suppress mmvarentty1mm express ...\n",
       "15        RELATION  among mmvarentty1mm relat ggvarentty1gg resist...\n",
       "16        RELATION  knockdown mmvarentty1mm enhanc anticanc effect...\n",
       "17        RELATION  use bioinformat identifi three potenti target ...\n",
       "18     NO_RELATION  show amongst mirna down-regul mmvarentty1mm mm...\n",
       "19     NO_RELATION  studi express matur mmvarentty1mm breast tumor...\n",
       "20     NO_RELATION  collect find highlight mmvarentty1mm/mmvarentt...\n",
       "21     NO_RELATION  ggvarentty1gg overexpress pdac also direct tar...\n",
       "22     NO_RELATION  conclus mmvarentty1mm level potenti establish ...\n",
       "23     NO_RELATION  show central tumour suppressor ggvarentty1gg e...\n",
       "24        RELATION  valid ggvarentty1gg ggvarentty2gg ggvarentty3g...\n",
       "25     NO_RELATION  furthermor mcf7 cell overexpress mmvarentty1mm...\n",
       "26     NO_RELATION  present studi aim investig express regulatori ...\n",
       "27     NO_RELATION  protein microarray reveal knockdown ggvarentty...\n",
       "28        RELATION  like neg regul ggvarentty1gg ggvarentty2gg mmv...\n",
       "29        RELATION  identifi ggvarentty1gg ggvarentty2gg direct mm...\n",
       "...            ...                                                ...\n",
       "10753  NO_RELATION  howev mmvarentty1mm rare character chronic mye...\n",
       "10754  NO_RELATION  ggvarentty1gg growth evalu vivo imag luciferas...\n",
       "10755     RELATION  result suggest ggvarentty1gg ggvarentty2gg gen...\n",
       "10756     RELATION  forc express mmvarentty1mm dramat inhibit leuk...\n",
       "10757  NO_RELATION  studi suggest manipul mmvarentty1mm express us...\n",
       "10758  NO_RELATION  taqman microrna assay show down-regul mmvarent...\n",
       "10759     RELATION  also correl express ggvarentty1gg mrna mirna e...\n",
       "10760  NO_RELATION  function effect mmvarentty1mm inhibit growth h...\n",
       "10761  NO_RELATION  moreov found ggvarentty1gg express regul post-...\n",
       "10762  NO_RELATION  found mmvarentty1mm rs2910164 polymorph associ...\n",
       "10763  NO_RELATION  aim studi investig express pattern prognost re...\n",
       "10764     RELATION  invers correl found mmvarentty1mm ggvarentty1g...\n",
       "10765  NO_RELATION  final function studi demonstr mmvarentty1mm kn...\n",
       "10766  NO_RELATION  method perform real-tim pcr western blot cck8 ...\n",
       "10767     RELATION  investig reveal mmvarentty1mm target ggvarentt...\n",
       "10768  NO_RELATION  analys reveal mmvarentty1mm regul upstream pro...\n",
       "10769     RELATION  identifi manganes ggvarentty1gg mnsod messeng ...\n",
       "10770     RELATION  find indic mmvarentty1mm upregul gc may key ro...\n",
       "10771     RELATION  restor mmvarentty1mm silenc ggvarentty1gg znf2...\n",
       "10772  NO_RELATION  endometri express zeb ggvarentty1gg patient ex...\n",
       "10773     RELATION  ggvarentty1gg neg regul mmvarentty1mm post-tra...\n",
       "10774  NO_RELATION  murin ggvarentty1gg increas mmvarentty1mm expr...\n",
       "10775     RELATION  ggvarentty1gg ggvarentty2gg protein express up...\n",
       "10776  NO_RELATION  result show mmvarentty1mm significantli downre...\n",
       "10777  NO_RELATION  investig clinic import mmvarentty1mm select hi...\n",
       "10778     RELATION  h2o2 upregul ggvarentty1gg mmvarentty1mm downr...\n",
       "10779  NO_RELATION  identifi ggvarentty1gg direct mmvarentty1mm ta...\n",
       "10780     RELATION  stabl overexpress mmvarentty1mm a549 cell resu...\n",
       "10781  NO_RELATION  result product microrna ggvarentty1gg-21 ggvar...\n",
       "10782  NO_RELATION  conclus polymorph mmvarentty1mm gene unlik sub...\n",
       "\n",
       "[10783 rows x 2 columns]>"
      ]
     },
     "execution_count": 2,
     "metadata": {},
     "output_type": "execute_result"
    }
   ],
   "source": [
    "import pandas as pd\n",
    "test = pd.read_csv(file_test, quotechar='\"', delimiter='\\t', header=None, names=['Label', 'Text'])\n",
    "train = pd.read_csv(file_train, quotechar='\"', delimiter='\\t', header=None, names=['Label', 'Text'])\n",
    "test.head; train.head"
   ]
  },
  {
   "cell_type": "markdown",
   "metadata": {},
   "source": [
    "## Vectorise text data into numerical vector"
   ]
  },
  {
   "cell_type": "markdown",
   "metadata": {},
   "source": [
    "### Using `CountVectorizer`"
   ]
  },
  {
   "cell_type": "code",
   "execution_count": 3,
   "metadata": {
    "collapsed": false,
    "scrolled": true
   },
   "outputs": [],
   "source": [
    "from sklearn.feature_extraction.text import CountVectorizer\n",
    "tf_vectorizer = CountVectorizer(analyzer='word', stop_words='english', ngram_range=(1,3), max_df=0.9, min_df=0.01)\n",
    "train_tf_vectors = tf_vectorizer.fit_transform(train.Text)"
   ]
  },
  {
   "cell_type": "markdown",
   "metadata": {},
   "source": [
    "** Note: ** Numbers not removed. Consider removing numbers."
   ]
  },
  {
   "cell_type": "markdown",
   "metadata": {},
   "source": [
    "`tf_vectorizer.vocabulary_` is a `dict`"
   ]
  },
  {
   "cell_type": "code",
   "execution_count": 4,
   "metadata": {
    "collapsed": false,
    "scrolled": true
   },
   "outputs": [
    {
     "data": {
      "text/plain": [
       "{'001': 0,\n",
       " '05': 1,\n",
       " '16': 2,\n",
       " '3p': 3,\n",
       " '5p': 4,\n",
       " 'act': 5,\n",
       " 'activ': 6,\n",
       " 'addit': 7,\n",
       " 'affect': 8,\n",
       " 'aim': 9,\n",
       " 'alter': 10,\n",
       " 'analys': 11,\n",
       " 'analysi': 12,\n",
       " 'analyz': 13,\n",
       " 'apoptosi': 14,\n",
       " 'arrest': 15,\n",
       " 'assay': 16,\n",
       " 'associ': 17,\n",
       " 'bind': 18,\n",
       " 'bioinformat': 19,\n",
       " 'biomark': 20,\n",
       " 'blot': 21,\n",
       " 'breast': 22,\n",
       " 'breast cancer': 23,\n",
       " 'cancer': 24,\n",
       " 'cancer cell': 25,\n",
       " 'cancer tissu': 26,\n",
       " 'carcinoma': 27,\n",
       " 'caus': 28,\n",
       " 'cell': 29,\n",
       " 'cell cycl': 30,\n",
       " 'cell growth': 31,\n",
       " 'cell line': 32,\n",
       " 'cell migrat': 33,\n",
       " 'cell prolifer': 34,\n",
       " 'chain': 35,\n",
       " 'chain reaction': 36,\n",
       " 'chang': 37,\n",
       " 'clinic': 38,\n",
       " 'cluster': 39,\n",
       " 'colon': 40,\n",
       " 'combin': 41,\n",
       " 'compar': 42,\n",
       " 'conclus': 43,\n",
       " 'conclus mmvarentty1mm': 44,\n",
       " 'confirm': 45,\n",
       " 'contribut': 46,\n",
       " 'control': 47,\n",
       " 'correl': 48,\n",
       " 'correl ggvarentty1gg': 49,\n",
       " 'correl mmvarentty1mm': 50,\n",
       " 'crc': 51,\n",
       " 'cycl': 52,\n",
       " 'data': 53,\n",
       " 'decreas': 54,\n",
       " 'decreas express': 55,\n",
       " 'demonstr': 56,\n",
       " 'demonstr mmvarentty1mm': 57,\n",
       " 'depend': 58,\n",
       " 'detect': 59,\n",
       " 'determin': 60,\n",
       " 'develop': 61,\n",
       " 'differ': 62,\n",
       " 'differenti': 63,\n",
       " 'direct': 64,\n",
       " 'direct target': 65,\n",
       " 'direct target mmvarentty1mm': 66,\n",
       " 'directli': 67,\n",
       " 'directli target': 68,\n",
       " 'diseas': 69,\n",
       " 'downregul': 70,\n",
       " 'downregul ggvarentty1gg': 71,\n",
       " 'downregul mmvarentty1mm': 72,\n",
       " 'downstream': 73,\n",
       " 'ectop': 74,\n",
       " 'effect': 75,\n",
       " 'effect mmvarentty1mm': 76,\n",
       " 'elev': 77,\n",
       " 'enhanc': 78,\n",
       " 'epitheli': 79,\n",
       " 'evalu': 80,\n",
       " 'evid': 81,\n",
       " 'examin': 82,\n",
       " 'express': 83,\n",
       " 'express ggvarentty1gg': 84,\n",
       " 'express ggvarentty1gg ggvarentty2gg': 85,\n",
       " 'express ggvarentty2gg': 86,\n",
       " 'express level': 87,\n",
       " 'express level mmvarentty1mm': 88,\n",
       " 'express mmvarentty1mm': 89,\n",
       " 'express mmvarentty1mm mmvarentty2mm': 90,\n",
       " 'factor': 91,\n",
       " 'famili': 92,\n",
       " 'final': 93,\n",
       " 'format': 94,\n",
       " 'function': 95,\n",
       " 'furthermor': 96,\n",
       " 'gastric': 97,\n",
       " 'gastric cancer': 98,\n",
       " 'gastric cancer cell': 99,\n",
       " 'gc': 100,\n",
       " 'gene': 101,\n",
       " 'gene express': 102,\n",
       " 'gene ggvarentty1gg': 103,\n",
       " 'gene mmvarentty1mm': 104,\n",
       " 'ggvarentty1gg': 105,\n",
       " 'ggvarentty1gg cell': 106,\n",
       " 'ggvarentty1gg express': 107,\n",
       " 'ggvarentty1gg gene': 108,\n",
       " 'ggvarentty1gg ggvarentty2gg': 109,\n",
       " 'ggvarentty1gg ggvarentty2gg ggvarentty3gg': 110,\n",
       " 'ggvarentty1gg induc': 111,\n",
       " 'ggvarentty1gg mmvarentty1mm': 112,\n",
       " 'ggvarentty1gg mrna': 113,\n",
       " 'ggvarentty1gg protein': 114,\n",
       " 'ggvarentty1gg regul': 115,\n",
       " 'ggvarentty1gg target': 116,\n",
       " 'ggvarentty2gg': 117,\n",
       " 'ggvarentty2gg cell': 118,\n",
       " 'ggvarentty2gg express': 119,\n",
       " 'ggvarentty2gg ggvarentty3gg': 120,\n",
       " 'ggvarentty2gg ggvarentty3gg ggvarentty4gg': 121,\n",
       " 'ggvarentty2gg mmvarentty1mm': 122,\n",
       " 'ggvarentty2gg mrna': 123,\n",
       " 'ggvarentty3gg': 124,\n",
       " 'ggvarentty3gg express': 125,\n",
       " 'ggvarentty3gg ggvarentty4gg': 126,\n",
       " 'ggvarentty3gg ggvarentty4gg ggvarentty5gg': 127,\n",
       " 'ggvarentty4gg': 128,\n",
       " 'ggvarentty4gg ggvarentty5gg': 129,\n",
       " 'ggvarentty4gg ggvarentty5gg ggvarentty6gg': 130,\n",
       " 'ggvarentty5gg': 131,\n",
       " 'ggvarentty5gg ggvarentty6gg': 132,\n",
       " 'ggvarentty6gg': 133,\n",
       " 'ggvarentty7gg': 134,\n",
       " 'glioma': 135,\n",
       " 'group': 136,\n",
       " 'growth': 137,\n",
       " 'healthi': 138,\n",
       " 'high': 139,\n",
       " 'higher': 140,\n",
       " 'howev': 141,\n",
       " 'human': 142,\n",
       " 'identifi': 143,\n",
       " 'identifi ggvarentty1gg': 144,\n",
       " 'implic': 145,\n",
       " 'import': 146,\n",
       " 'import role': 147,\n",
       " 'includ': 148,\n",
       " 'increas': 149,\n",
       " 'increas express': 150,\n",
       " 'increas ggvarentty1gg': 151,\n",
       " 'independ': 152,\n",
       " 'indic': 153,\n",
       " 'indic mmvarentty1mm': 154,\n",
       " 'induc': 155,\n",
       " 'induct': 156,\n",
       " 'inhibit': 157,\n",
       " 'inhibit ggvarentty1gg': 158,\n",
       " 'inhibit mmvarentty1mm': 159,\n",
       " 'interact': 160,\n",
       " 'invas': 161,\n",
       " 'invers': 162,\n",
       " 'invers correl': 163,\n",
       " 'investig': 164,\n",
       " 'involv': 165,\n",
       " 'knockdown': 166,\n",
       " 'known': 167,\n",
       " 'lead': 168,\n",
       " 'level': 169,\n",
       " 'level ggvarentty1gg': 170,\n",
       " 'level mmvarentty1mm': 171,\n",
       " 'line': 172,\n",
       " 'liver': 173,\n",
       " 'loss': 174,\n",
       " 'low': 175,\n",
       " 'lower': 176,\n",
       " 'luciferas': 177,\n",
       " 'luciferas report': 178,\n",
       " 'luciferas report assay': 179,\n",
       " 'malign': 180,\n",
       " 'marker': 181,\n",
       " 'mechan': 182,\n",
       " 'medi': 183,\n",
       " 'mediat': 184,\n",
       " 'metastasi': 185,\n",
       " 'metastat': 186,\n",
       " 'method': 187,\n",
       " 'methyl': 188,\n",
       " 'mice': 189,\n",
       " 'microrna': 190,\n",
       " 'microrna mmvarentty1mm': 191,\n",
       " 'migrat': 192,\n",
       " 'migrat invas': 193,\n",
       " 'mimic': 194,\n",
       " 'mirna': 195,\n",
       " 'mirna mmvarentty1mm': 196,\n",
       " 'mirna mmvarentty1mm mmvarentty2mm': 197,\n",
       " 'mmvarentty1mm 5p': 198,\n",
       " 'mmvarentty1mm downregul': 199,\n",
       " 'mmvarentty1mm express': 200,\n",
       " 'mmvarentty1mm ggvarentty1gg': 201,\n",
       " 'mmvarentty1mm ggvarentty1gg ggvarentty2gg': 202,\n",
       " 'mmvarentty1mm ggvarentty2gg': 203,\n",
       " 'mmvarentty1mm inhibit': 204,\n",
       " 'mmvarentty1mm level': 205,\n",
       " 'mmvarentty1mm mimic': 206,\n",
       " 'mmvarentty1mm mmvarentty2mm': 207,\n",
       " 'mmvarentty1mm mmvarentty2mm mmvarentty3mm': 208,\n",
       " 'mmvarentty1mm overexpress': 209,\n",
       " 'mmvarentty1mm play': 210,\n",
       " 'mmvarentty1mm promot': 211,\n",
       " 'mmvarentty1mm regul': 212,\n",
       " 'mmvarentty1mm significantli': 213,\n",
       " 'mmvarentty1mm suppress': 214,\n",
       " 'mmvarentty1mm target': 215,\n",
       " 'mmvarentty2mm': 216,\n",
       " 'mmvarentty2mm mmvarentty3mm': 217,\n",
       " 'mmvarentty2mm mmvarentty3mm mmvarentty4mm': 218,\n",
       " 'mmvarentty3mm': 219,\n",
       " 'mmvarentty3mm mmvarentty4mm': 220,\n",
       " 'mmvarentty3mm mmvarentty4mm mmvarentty5mm': 221,\n",
       " 'mmvarentty4mm': 222,\n",
       " 'mmvarentty4mm mmvarentty5mm': 223,\n",
       " 'mmvarentty5mm': 224,\n",
       " 'mmvarentty6mm': 225,\n",
       " 'model': 226,\n",
       " 'modul': 227,\n",
       " 'molecular': 228,\n",
       " 'moreov': 229,\n",
       " 'mrna': 230,\n",
       " 'mrna protein': 231,\n",
       " 'mutat': 232,\n",
       " 'neg': 233,\n",
       " 'neg regul': 234,\n",
       " 'new': 235,\n",
       " 'non': 236,\n",
       " 'normal': 237,\n",
       " 'novel': 238,\n",
       " 'nsclc': 239,\n",
       " 'observ': 240,\n",
       " 'oncogen': 241,\n",
       " 'osteosarcoma': 242,\n",
       " 'overexpress': 243,\n",
       " 'overexpress mmvarentty1mm': 244,\n",
       " 'partial': 245,\n",
       " 'pathway': 246,\n",
       " 'patient': 247,\n",
       " 'pcr': 248,\n",
       " 'phenotyp': 249,\n",
       " 'play': 250,\n",
       " 'posit': 251,\n",
       " 'possibl': 252,\n",
       " 'potenti': 253,\n",
       " 'predict': 254,\n",
       " 'present': 255,\n",
       " 'present studi': 256,\n",
       " 'primari': 257,\n",
       " 'process': 258,\n",
       " 'prognosi': 259,\n",
       " 'prognost': 260,\n",
       " 'progress': 261,\n",
       " 'prolifer': 262,\n",
       " 'promot': 263,\n",
       " 'prostat': 264,\n",
       " 'prostat cancer': 265,\n",
       " 'protein': 266,\n",
       " 'protein express': 267,\n",
       " 'protein level': 268,\n",
       " 'provid': 269,\n",
       " 'quantit': 270,\n",
       " 'reaction': 271,\n",
       " 'real': 272,\n",
       " 'real tim': 273,\n",
       " 'recent': 274,\n",
       " 'reduc': 275,\n",
       " 'reduct': 276,\n",
       " 'region': 277,\n",
       " 'regul': 278,\n",
       " 'regul express': 279,\n",
       " 'regul ggvarentty1gg': 280,\n",
       " 'regul ggvarentty2gg': 281,\n",
       " 'regul mmvarentty1mm': 282,\n",
       " 'regulatori': 283,\n",
       " 'rel': 284,\n",
       " 'relat': 285,\n",
       " 'report': 286,\n",
       " 'report assay': 287,\n",
       " 'repress': 288,\n",
       " 'resist': 289,\n",
       " 'respect': 290,\n",
       " 'respons': 291,\n",
       " 'restor': 292,\n",
       " 'result': 293,\n",
       " 'result mmvarentty1mm': 294,\n",
       " 'result suggest': 295,\n",
       " 'reveal': 296,\n",
       " 'revers': 297,\n",
       " 'risk': 298,\n",
       " 'rna': 299,\n",
       " 'role': 300,\n",
       " 'role mmvarentty1mm': 301,\n",
       " 'rt': 302,\n",
       " 'sampl': 303,\n",
       " 'sensit': 304,\n",
       " 'sequenc': 305,\n",
       " 'serum': 306,\n",
       " 'sever': 307,\n",
       " 'shown': 308,\n",
       " 'signal': 309,\n",
       " 'signal pathway': 310,\n",
       " 'signific': 311,\n",
       " 'significantli': 312,\n",
       " 'silenc': 313,\n",
       " 'site': 314,\n",
       " 'specif': 315,\n",
       " 'stage': 316,\n",
       " 'studi': 317,\n",
       " 'suggest': 318,\n",
       " 'suggest mmvarentty1mm': 319,\n",
       " 'suppress': 320,\n",
       " 'suppress ggvarentty1gg': 321,\n",
       " 'surviv': 322,\n",
       " 'taken': 323,\n",
       " 'taken togeth': 324,\n",
       " 'target': 325,\n",
       " 'target gene': 326,\n",
       " 'target gene mmvarentty1mm': 327,\n",
       " 'target ggvarentty1gg': 328,\n",
       " 'target ggvarentty1gg ggvarentty2gg': 329,\n",
       " 'target ggvarentty2gg': 330,\n",
       " 'target mmvarentty1mm': 331,\n",
       " 'therapeut': 332,\n",
       " 'therapeut target': 333,\n",
       " 'therapi': 334,\n",
       " 'thu': 335,\n",
       " 'tim': 336,\n",
       " 'time': 337,\n",
       " 'tissu': 338,\n",
       " 'togeth': 339,\n",
       " 'transcript': 340,\n",
       " 'transfect': 341,\n",
       " 'transfect mmvarentty1mm': 342,\n",
       " 'treatment': 343,\n",
       " 'tumor': 344,\n",
       " 'type': 345,\n",
       " 'untransl': 346,\n",
       " 'untransl region': 347,\n",
       " 'upregul': 348,\n",
       " 'upregul mmvarentty1mm': 349,\n",
       " 'use': 350,\n",
       " 'utr': 351,\n",
       " 'valid': 352,\n",
       " 'vitro': 353,\n",
       " 'vivo': 354,\n",
       " 'western': 355,\n",
       " 'western blot': 356,\n",
       " 'wherea': 357}"
      ]
     },
     "execution_count": 4,
     "metadata": {},
     "output_type": "execute_result"
    }
   ],
   "source": [
    "tf_vectorizer.vocabulary_"
   ]
  },
  {
   "cell_type": "code",
   "execution_count": 5,
   "metadata": {
    "collapsed": false,
    "scrolled": true
   },
   "outputs": [
    {
     "data": {
      "text/plain": [
       "(10783, 358)"
      ]
     },
     "execution_count": 5,
     "metadata": {},
     "output_type": "execute_result"
    }
   ],
   "source": [
    "train_tf_vectors.shape"
   ]
  },
  {
   "cell_type": "code",
   "execution_count": 6,
   "metadata": {
    "collapsed": false,
    "scrolled": true
   },
   "outputs": [
    {
     "data": {
      "text/plain": [
       "array([1, 1, 1, ..., 1, 1, 1], dtype=int64)"
      ]
     },
     "execution_count": 6,
     "metadata": {},
     "output_type": "execute_result"
    }
   ],
   "source": [
    "train_tf_vectors.data"
   ]
  },
  {
   "cell_type": "code",
   "execution_count": 7,
   "metadata": {
    "collapsed": false,
    "scrolled": true
   },
   "outputs": [
    {
     "name": "stdout",
     "output_type": "stream",
     "text": [
      "134461\n",
      "12.469720856904386\n",
      "3.4831622505319517\n"
     ]
    }
   ],
   "source": [
    "print(train_tf_vectors.nnz) # number of non-zero elements\n",
    "print(train_tf_vectors.nnz / float(train_tf_vectors.shape[0])) # non-zero per sample\n",
    "print(train_tf_vectors.nnz / float(train_tf_vectors.shape[0] * train_tf_vectors.shape[1]) * 100) # non-zero per feature space in %"
   ]
  },
  {
   "cell_type": "markdown",
   "metadata": {},
   "source": [
    "## Data Preprocessing: \n",
    "### Attributes and Target"
   ]
  },
  {
   "cell_type": "markdown",
   "metadata": {},
   "source": [
    "### Convert categorical labels into numerical labels"
   ]
  },
  {
   "cell_type": "code",
   "execution_count": 8,
   "metadata": {
    "collapsed": false,
    "scrolled": true
   },
   "outputs": [],
   "source": [
    "from sklearn import preprocessing"
   ]
  },
  {
   "cell_type": "code",
   "execution_count": 9,
   "metadata": {
    "collapsed": false,
    "scrolled": true
   },
   "outputs": [
    {
     "data": {
      "text/plain": [
       "['NO_RELATION', 'RELATION']"
      ]
     },
     "execution_count": 9,
     "metadata": {},
     "output_type": "execute_result"
    }
   ],
   "source": [
    "le = preprocessing.LabelEncoder()\n",
    "le.fit(train.Label)\n",
    "list(le.classes_)"
   ]
  },
  {
   "cell_type": "code",
   "execution_count": 10,
   "metadata": {
    "collapsed": false,
    "scrolled": true
   },
   "outputs": [
    {
     "name": "stdout",
     "output_type": "stream",
     "text": [
      "[0 0 1 1 1]\n",
      "['NO_RELATION' 'NO_RELATION' 'RELATION' 'RELATION' 'RELATION']\n"
     ]
    }
   ],
   "source": [
    "y_train = le.transform(train.Label);\n",
    "y_test = le.transform(test.Label);\n",
    "\n",
    "print(y_train[0:5])\n",
    "print(le.inverse_transform(y_train[0:5]))"
   ]
  },
  {
   "cell_type": "markdown",
   "metadata": {},
   "source": [
    "`X` is data, `y` is target. `X` has the size of `n_samples` x `n_features`, `y` has `n_samples` x 1 labels"
   ]
  },
  {
   "cell_type": "code",
   "execution_count": 11,
   "metadata": {
    "collapsed": false,
    "scrolled": true
   },
   "outputs": [],
   "source": [
    "X_train = train_tf_vectors"
   ]
  },
  {
   "cell_type": "code",
   "execution_count": 12,
   "metadata": {
    "collapsed": true,
    "scrolled": false
   },
   "outputs": [],
   "source": [
    "X_test = tf_vectorizer.transform(test.Text)"
   ]
  },
  {
   "cell_type": "code",
   "execution_count": 13,
   "metadata": {
    "collapsed": false,
    "scrolled": false
   },
   "outputs": [
    {
     "data": {
      "text/plain": [
       "(3595, 358)"
      ]
     },
     "execution_count": 13,
     "metadata": {},
     "output_type": "execute_result"
    }
   ],
   "source": [
    "X_test.shape"
   ]
  },
  {
   "cell_type": "code",
   "execution_count": 14,
   "metadata": {
    "collapsed": false,
    "scrolled": false
   },
   "outputs": [
    {
     "data": {
      "text/plain": [
       "array([1, 1, 1, ..., 1, 1, 1], dtype=int64)"
      ]
     },
     "execution_count": 14,
     "metadata": {},
     "output_type": "execute_result"
    }
   ],
   "source": [
    "X_test.data"
   ]
  },
  {
   "cell_type": "markdown",
   "metadata": {},
   "source": [
    "## Log Res: "
   ]
  },
  {
   "cell_type": "code",
   "execution_count": 15,
   "metadata": {
    "collapsed": false,
    "scrolled": false
   },
   "outputs": [
    {
     "data": {
      "text/plain": [
       "LogisticRegression(C=100000.0, class_weight='balanced', dual=False,\n",
       "          fit_intercept=True, intercept_scaling=1, max_iter=100,\n",
       "          multi_class='ovr', n_jobs=1, penalty='l2', random_state=None,\n",
       "          solver='liblinear', tol=0.0001, verbose=0, warm_start=False)"
      ]
     },
     "execution_count": 15,
     "metadata": {},
     "output_type": "execute_result"
    }
   ],
   "source": [
    "from sklearn import linear_model\n",
    "clf = linear_model.LogisticRegression(C=1e5, class_weight='balanced')\n",
    "clf.fit(X_train, y_train)"
   ]
  },
  {
   "cell_type": "code",
   "execution_count": 16,
   "metadata": {
    "collapsed": false,
    "scrolled": true
   },
   "outputs": [],
   "source": [
    "y_pred = clf.predict(X_test)"
   ]
  },
  {
   "cell_type": "code",
   "execution_count": 17,
   "metadata": {
    "collapsed": false,
    "scrolled": true
   },
   "outputs": [
    {
     "name": "stdout",
     "output_type": "stream",
     "text": [
      "             precision    recall  f1-score   support\n",
      "\n",
      "          0       0.72      0.73      0.73      1804\n",
      "          1       0.72      0.72      0.72      1791\n",
      "\n",
      "avg / total       0.72      0.72      0.72      3595\n",
      "\n"
     ]
    }
   ],
   "source": [
    "from sklearn import metrics\n",
    "print(metrics.classification_report(y_test, y_pred))"
   ]
  },
  {
   "cell_type": "code",
   "execution_count": 18,
   "metadata": {
    "collapsed": false,
    "scrolled": true
   },
   "outputs": [
    {
     "name": "stdout",
     "output_type": "stream",
     "text": [
      "[[1315  489]\n",
      " [ 503 1288]]\n"
     ]
    }
   ],
   "source": [
    "print(metrics.confusion_matrix(y_test, y_pred))"
   ]
  },
  {
   "cell_type": "markdown",
   "metadata": {},
   "source": [
    "### Coeficients of the decision function"
   ]
  },
  {
   "cell_type": "code",
   "execution_count": 19,
   "metadata": {
    "collapsed": false,
    "scrolled": false
   },
   "outputs": [
    {
     "data": {
      "text/plain": [
       "array([[  7.09684983e-02,  -2.23268453e-01,   9.36630528e-01,\n",
       "         -1.08692925e-02,  -3.01619299e-01,   5.71774388e-02,\n",
       "          1.73925777e-01,   1.40609072e-01,  -1.25286873e-02,\n",
       "         -4.19645500e-01,   2.41183276e-01,  -4.22297254e-02,\n",
       "         -1.22458748e-01,  -8.47247067e-02,  -2.76198258e-02,\n",
       "         -2.40918715e-01,  -8.22299227e-02,  -2.34019431e-01,\n",
       "          1.34192290e-01,   4.53468907e-01,  -5.19034884e-01,\n",
       "          1.39043842e+00,  -1.67989528e-01,   1.67983944e-01,\n",
       "         -3.89759623e-01,  -4.73098220e-02,   4.02777762e-01,\n",
       "         -5.48829229e-01,   3.52264404e-01,  -4.40250675e-02,\n",
       "          6.13257539e-01,  -9.61261102e-02,   7.53633532e-01,\n",
       "          7.32300075e-02,  -6.01412379e-02,   6.42242153e-01,\n",
       "         -1.26948904e+00,  -1.72678240e-01,  -2.12807946e-01,\n",
       "          2.65698220e-01,   2.29032332e-01,   1.18880983e-01,\n",
       "         -2.26347803e-01,   7.31082626e-02,  -7.83880775e-04,\n",
       "          1.57030118e-01,   7.02103736e-02,   5.76367747e-02,\n",
       "         -8.90550210e-02,   7.80892625e-01,   3.91204950e-01,\n",
       "         -8.10146695e-02,  -5.78935727e-02,  -1.13854136e-01,\n",
       "          2.89443857e-01,  -4.94525354e-01,  -4.38986233e-02,\n",
       "          4.05433243e-02,   3.92885960e-01,  -6.33842162e-02,\n",
       "          3.10767891e-01,  -2.18477452e-01,   1.31015307e-01,\n",
       "         -6.19929841e-03,   4.43256185e-01,  -1.09073513e-01,\n",
       "          3.99558397e-01,   7.56095626e-01,  -7.48062566e-01,\n",
       "         -4.79611286e-01,   4.59564837e-01,   1.36366766e-01,\n",
       "         -1.39330954e-01,  -1.72331866e-01,   1.06937066e-01,\n",
       "          1.90067470e-01,  -2.16219496e-02,   1.34611204e-01,\n",
       "          5.05589919e-02,  -1.07203056e-01,  -1.78243032e-02,\n",
       "         -2.54090917e-02,  -8.15105592e-03,   2.01374469e-01,\n",
       "          3.73243273e-01,  -1.80847344e-01,   1.35191840e-01,\n",
       "         -1.36038315e-01,   1.26729860e-02,  -1.39495967e-01,\n",
       "          4.35416906e-01,  -6.51312433e-02,   1.62489301e-01,\n",
       "         -1.83399623e-01,  -7.13570333e-02,  -3.88297245e-02,\n",
       "         -1.26617177e-01,   3.24774368e-01,  -2.92136061e-01,\n",
       "          5.66914984e-01,  -4.20291485e-01,   2.92258398e-02,\n",
       "         -1.71253152e-01,   1.06066073e+00,   5.89214929e-01,\n",
       "          1.61022457e-01,  -5.93187094e-01,   5.62699379e-01,\n",
       "          5.70732816e-01,   4.76392576e-01,   1.32375245e-01,\n",
       "          1.04438610e-01,   2.46212740e-01,   2.81534682e-01,\n",
       "          7.41018650e-01,   3.30373509e-01,   5.52502786e-01,\n",
       "          3.35090379e-01,  -4.19806014e-01,   3.30369727e-01,\n",
       "          2.60407061e-01,  -3.55745717e-01,   3.27514059e-01,\n",
       "          5.99675486e-03,   1.69727844e-01,   2.81648895e-01,\n",
       "          3.52660943e-01,   2.43353516e-01,   5.15425991e-02,\n",
       "         -3.00303896e-03,   1.51304042e-01,   1.54654695e-01,\n",
       "          7.35376306e-02,  -2.51786730e-02,   5.38926785e-02,\n",
       "         -4.76164270e-01,   1.60964074e-01,  -2.15996376e-01,\n",
       "         -4.81196014e-01,  -1.22288753e-02,  -1.71462034e-01,\n",
       "         -4.48400153e-01,  -2.44891366e-01,   2.99827113e-01,\n",
       "          1.66844317e-01,  -1.42583592e-01,  -2.65260981e-01,\n",
       "          4.35276733e-01,  -2.51207396e-02,   1.39352647e-01,\n",
       "         -2.00083383e-01,   2.10526627e-01,   3.12819807e-01,\n",
       "         -2.88281920e-01,   4.37209816e-01,  -3.08178871e-02,\n",
       "         -7.82390661e-02,   1.99978469e-01,  -3.74494861e-03,\n",
       "         -2.17842927e-01,   6.86890701e-01,  -1.58258794e-01,\n",
       "          1.28746875e+00,  -6.99065756e-01,  -1.20099958e-01,\n",
       "          1.96750560e-02,   1.51950732e-01,   2.33788130e-01,\n",
       "         -8.84914224e-02,   2.33453933e-01,   1.45405419e-01,\n",
       "         -3.90128118e-01,  -7.70517351e-01,  -6.11932592e-01,\n",
       "         -1.27701481e-02,   2.87876085e-01,   2.65104408e-01,\n",
       "          3.51114500e-01,  -2.13649535e-01,  -4.48168704e-01,\n",
       "         -3.58441674e-01,   1.09303517e-01,   9.76152774e-02,\n",
       "          3.02188709e-01,   4.09769325e-01,  -4.43638753e-01,\n",
       "         -1.01639218e-01,  -1.13242596e-01,  -4.22227584e-01,\n",
       "         -6.06685699e-01,  -2.99722536e-02,  -1.97678734e-01,\n",
       "          3.06158675e-02,   4.46282064e-02,   2.98248534e-01,\n",
       "         -2.19187668e-01,  -4.91184710e-01,   3.74468613e-01,\n",
       "         -2.85457076e-01,  -3.16884142e-02,  -3.81296455e-01,\n",
       "          6.22873422e-01,  -1.18339133e-01,   4.34554633e-01,\n",
       "          6.47684824e-02,  -3.80844231e-01,  -4.70306241e-01,\n",
       "          3.42699766e-01,  -7.93582416e-01,  -4.61408921e-01,\n",
       "          2.11491974e-01,  -3.34985891e-01,  -1.47988143e-01,\n",
       "          3.09322376e-01,   7.71560165e-02,   3.03101992e-01,\n",
       "         -1.34620317e-01,   5.73784549e-01,   1.93758411e-01,\n",
       "          3.04107817e-01,   5.64296947e-01,   6.24280255e-01,\n",
       "         -5.02152995e-01,   4.22317768e-01,   1.05824304e-01,\n",
       "         -5.74303012e-01,  -6.68709963e-01,   2.73750651e-01,\n",
       "         -5.13768344e-01,   1.87167047e-01,   1.85020792e-01,\n",
       "          7.81396915e-02,   3.43307806e-01,   2.83349581e-01,\n",
       "         -2.60794160e-01,  -3.46832486e-01,  -4.64510925e-01,\n",
       "          3.42566755e-02,  -1.96222114e-01,  -2.24977151e-01,\n",
       "         -3.53416179e-01,   2.45057935e-01,  -2.86292363e-02,\n",
       "          4.72388796e-01,  -4.73897941e-01,   7.55921671e-01,\n",
       "          1.26609991e-01,  -4.52764345e-01,  -7.25209793e-01,\n",
       "          4.56675453e-01,  -4.84061095e-01,   4.17721706e-01,\n",
       "         -3.70710230e-02,  -1.79718815e-01,  -5.51600615e-02,\n",
       "          8.94437813e-02,  -7.63608750e-01,  -2.78952789e-01,\n",
       "          1.77767747e-01,  -7.45989326e-02,   1.31640472e-02,\n",
       "         -2.25068888e-01,   7.98878633e-02,   1.58013353e-01,\n",
       "          1.12578155e+00,  -8.79722113e-01,   5.02843677e-01,\n",
       "         -3.05533962e-01,  -5.99953359e-02,   1.84223346e-01,\n",
       "          3.73757932e-01,  -3.71351285e-01,   1.23475166e-01,\n",
       "          2.49104025e-01,  -5.82723300e-01,   2.61231707e-01,\n",
       "         -2.57942183e-01,   3.37509667e-02,   1.82314377e-01,\n",
       "          5.88092594e-01,   5.33468795e-01,   3.24442026e-01,\n",
       "          2.22869179e-01,   1.85028003e-01,  -2.06386030e-01,\n",
       "          1.00638339e-01,   1.86003547e-01,   7.14680221e-01,\n",
       "          7.75402871e-01,   3.04782845e-01,  -1.99659335e-01,\n",
       "          9.65579277e-02,   5.64947326e-01,   3.50155399e-02,\n",
       "         -5.06962115e-01,   5.75973412e-02,   1.39195867e-02,\n",
       "          4.30072420e-01,  -1.02153032e+00,  -1.37009663e-01,\n",
       "          3.02597055e-01,  -6.73836184e-01,   4.97536866e-01,\n",
       "          1.55725880e-02,  -3.64876607e-01,   3.29038466e-02,\n",
       "         -3.73266335e-01,   1.54920896e-02,   1.70854236e-01,\n",
       "          3.06444704e-01,  -4.61438436e-01,   4.78499340e-02,\n",
       "         -2.83183281e-01,   7.41883417e-02,   4.89965634e-01,\n",
       "         -3.76663584e-01,  -5.93584112e-01,   4.94287291e-02,\n",
       "          2.38140776e-02,   5.84647092e-02,   1.09840891e-01,\n",
       "          5.27997144e-01,   4.08128484e-04,   1.24330900e+00,\n",
       "         -1.23355836e+00,   2.57933545e-01,  -1.19880625e-01,\n",
       "          4.52679454e-01,   9.91329455e-01,  -6.01200081e-01,\n",
       "          7.37960195e-01,   7.60669522e-01,  -1.90438990e-01,\n",
       "         -1.34469661e-01,  -2.80431359e-01,   2.24060934e-01,\n",
       "          2.49104025e-01,   6.86544839e-02,  -2.84165676e-01,\n",
       "          2.39800270e-03,   2.46845074e-01,   1.59082759e-01,\n",
       "          2.84282913e-02,   2.97216460e-02,  -2.12777167e-01,\n",
       "         -1.71657783e-01,   8.88771652e-02,   2.60383073e-01,\n",
       "          3.50386919e-02,   6.19607297e-02,  -1.35092410e-01,\n",
       "          5.04516417e-01,  -3.98855687e-01,   1.35403260e-01,\n",
       "         -1.22640547e-01,   2.49211107e+00,  -2.75655796e+00,\n",
       "         -3.77808696e-01]])"
      ]
     },
     "execution_count": 19,
     "metadata": {},
     "output_type": "execute_result"
    }
   ],
   "source": [
    "clf.coef_"
   ]
  },
  {
   "cell_type": "code",
   "execution_count": 20,
   "metadata": {
    "collapsed": false
   },
   "outputs": [
    {
     "data": {
      "text/plain": [
       "358"
      ]
     },
     "execution_count": 20,
     "metadata": {},
     "output_type": "execute_result"
    }
   ],
   "source": [
    "len(clf.coef_[0,])"
   ]
  },
  {
   "cell_type": "markdown",
   "metadata": {},
   "source": [
    "Get the index of coef with the maximum value."
   ]
  },
  {
   "cell_type": "code",
   "execution_count": 21,
   "metadata": {
    "collapsed": false
   },
   "outputs": [
    {
     "data": {
      "text/plain": [
       "355"
      ]
     },
     "execution_count": 21,
     "metadata": {},
     "output_type": "execute_result"
    }
   ],
   "source": [
    "clf.coef_.argmax()"
   ]
  },
  {
   "cell_type": "code",
   "execution_count": 22,
   "metadata": {
    "collapsed": false,
    "scrolled": false
   },
   "outputs": [
    {
     "name": "stdout",
     "output_type": "stream",
     "text": [
      "western\n"
     ]
    }
   ],
   "source": [
    "m = clf.coef_.argmax()\n",
    "print(list(tf_vectorizer.vocabulary_.keys())[list(tf_vectorizer.vocabulary_.values()).index(m)])"
   ]
  },
  {
   "cell_type": "markdown",
   "metadata": {},
   "source": [
    "Get the index of the highest 10 coef value.\n",
    "\n",
    "**Note** `clf.coef_` is ndarray, see below:"
   ]
  },
  {
   "cell_type": "code",
   "execution_count": 23,
   "metadata": {
    "collapsed": false
   },
   "outputs": [
    {
     "data": {
      "text/plain": [
       "array([  7.09684983e-02,  -2.23268453e-01,   9.36630528e-01,\n",
       "        -1.08692925e-02,  -3.01619299e-01,   5.71774388e-02,\n",
       "         1.73925777e-01,   1.40609072e-01,  -1.25286873e-02,\n",
       "        -4.19645500e-01,   2.41183276e-01,  -4.22297254e-02,\n",
       "        -1.22458748e-01,  -8.47247067e-02,  -2.76198258e-02,\n",
       "        -2.40918715e-01,  -8.22299227e-02,  -2.34019431e-01,\n",
       "         1.34192290e-01,   4.53468907e-01,  -5.19034884e-01,\n",
       "         1.39043842e+00,  -1.67989528e-01,   1.67983944e-01,\n",
       "        -3.89759623e-01,  -4.73098220e-02,   4.02777762e-01,\n",
       "        -5.48829229e-01,   3.52264404e-01,  -4.40250675e-02,\n",
       "         6.13257539e-01,  -9.61261102e-02,   7.53633532e-01,\n",
       "         7.32300075e-02,  -6.01412379e-02,   6.42242153e-01,\n",
       "        -1.26948904e+00,  -1.72678240e-01,  -2.12807946e-01,\n",
       "         2.65698220e-01,   2.29032332e-01,   1.18880983e-01,\n",
       "        -2.26347803e-01,   7.31082626e-02,  -7.83880775e-04,\n",
       "         1.57030118e-01,   7.02103736e-02,   5.76367747e-02,\n",
       "        -8.90550210e-02,   7.80892625e-01,   3.91204950e-01,\n",
       "        -8.10146695e-02,  -5.78935727e-02,  -1.13854136e-01,\n",
       "         2.89443857e-01,  -4.94525354e-01,  -4.38986233e-02,\n",
       "         4.05433243e-02,   3.92885960e-01,  -6.33842162e-02,\n",
       "         3.10767891e-01,  -2.18477452e-01,   1.31015307e-01,\n",
       "        -6.19929841e-03,   4.43256185e-01,  -1.09073513e-01,\n",
       "         3.99558397e-01,   7.56095626e-01,  -7.48062566e-01,\n",
       "        -4.79611286e-01,   4.59564837e-01,   1.36366766e-01,\n",
       "        -1.39330954e-01,  -1.72331866e-01,   1.06937066e-01,\n",
       "         1.90067470e-01,  -2.16219496e-02,   1.34611204e-01,\n",
       "         5.05589919e-02,  -1.07203056e-01,  -1.78243032e-02,\n",
       "        -2.54090917e-02,  -8.15105592e-03,   2.01374469e-01,\n",
       "         3.73243273e-01,  -1.80847344e-01,   1.35191840e-01,\n",
       "        -1.36038315e-01,   1.26729860e-02,  -1.39495967e-01,\n",
       "         4.35416906e-01,  -6.51312433e-02,   1.62489301e-01,\n",
       "        -1.83399623e-01,  -7.13570333e-02,  -3.88297245e-02,\n",
       "        -1.26617177e-01,   3.24774368e-01,  -2.92136061e-01,\n",
       "         5.66914984e-01,  -4.20291485e-01,   2.92258398e-02,\n",
       "        -1.71253152e-01,   1.06066073e+00,   5.89214929e-01,\n",
       "         1.61022457e-01,  -5.93187094e-01,   5.62699379e-01,\n",
       "         5.70732816e-01,   4.76392576e-01,   1.32375245e-01,\n",
       "         1.04438610e-01,   2.46212740e-01,   2.81534682e-01,\n",
       "         7.41018650e-01,   3.30373509e-01,   5.52502786e-01,\n",
       "         3.35090379e-01,  -4.19806014e-01,   3.30369727e-01,\n",
       "         2.60407061e-01,  -3.55745717e-01,   3.27514059e-01,\n",
       "         5.99675486e-03,   1.69727844e-01,   2.81648895e-01,\n",
       "         3.52660943e-01,   2.43353516e-01,   5.15425991e-02,\n",
       "        -3.00303896e-03,   1.51304042e-01,   1.54654695e-01,\n",
       "         7.35376306e-02,  -2.51786730e-02,   5.38926785e-02,\n",
       "        -4.76164270e-01,   1.60964074e-01,  -2.15996376e-01,\n",
       "        -4.81196014e-01,  -1.22288753e-02,  -1.71462034e-01,\n",
       "        -4.48400153e-01,  -2.44891366e-01,   2.99827113e-01,\n",
       "         1.66844317e-01,  -1.42583592e-01,  -2.65260981e-01,\n",
       "         4.35276733e-01,  -2.51207396e-02,   1.39352647e-01,\n",
       "        -2.00083383e-01,   2.10526627e-01,   3.12819807e-01,\n",
       "        -2.88281920e-01,   4.37209816e-01,  -3.08178871e-02,\n",
       "        -7.82390661e-02,   1.99978469e-01,  -3.74494861e-03,\n",
       "        -2.17842927e-01,   6.86890701e-01,  -1.58258794e-01,\n",
       "         1.28746875e+00,  -6.99065756e-01,  -1.20099958e-01,\n",
       "         1.96750560e-02,   1.51950732e-01,   2.33788130e-01,\n",
       "        -8.84914224e-02,   2.33453933e-01,   1.45405419e-01,\n",
       "        -3.90128118e-01,  -7.70517351e-01,  -6.11932592e-01,\n",
       "        -1.27701481e-02,   2.87876085e-01,   2.65104408e-01,\n",
       "         3.51114500e-01,  -2.13649535e-01,  -4.48168704e-01,\n",
       "        -3.58441674e-01,   1.09303517e-01,   9.76152774e-02,\n",
       "         3.02188709e-01,   4.09769325e-01,  -4.43638753e-01,\n",
       "        -1.01639218e-01,  -1.13242596e-01,  -4.22227584e-01,\n",
       "        -6.06685699e-01,  -2.99722536e-02,  -1.97678734e-01,\n",
       "         3.06158675e-02,   4.46282064e-02,   2.98248534e-01,\n",
       "        -2.19187668e-01,  -4.91184710e-01,   3.74468613e-01,\n",
       "        -2.85457076e-01,  -3.16884142e-02,  -3.81296455e-01,\n",
       "         6.22873422e-01,  -1.18339133e-01,   4.34554633e-01,\n",
       "         6.47684824e-02,  -3.80844231e-01,  -4.70306241e-01,\n",
       "         3.42699766e-01,  -7.93582416e-01,  -4.61408921e-01,\n",
       "         2.11491974e-01,  -3.34985891e-01,  -1.47988143e-01,\n",
       "         3.09322376e-01,   7.71560165e-02,   3.03101992e-01,\n",
       "        -1.34620317e-01,   5.73784549e-01,   1.93758411e-01,\n",
       "         3.04107817e-01,   5.64296947e-01,   6.24280255e-01,\n",
       "        -5.02152995e-01,   4.22317768e-01,   1.05824304e-01,\n",
       "        -5.74303012e-01,  -6.68709963e-01,   2.73750651e-01,\n",
       "        -5.13768344e-01,   1.87167047e-01,   1.85020792e-01,\n",
       "         7.81396915e-02,   3.43307806e-01,   2.83349581e-01,\n",
       "        -2.60794160e-01,  -3.46832486e-01,  -4.64510925e-01,\n",
       "         3.42566755e-02,  -1.96222114e-01,  -2.24977151e-01,\n",
       "        -3.53416179e-01,   2.45057935e-01,  -2.86292363e-02,\n",
       "         4.72388796e-01,  -4.73897941e-01,   7.55921671e-01,\n",
       "         1.26609991e-01,  -4.52764345e-01,  -7.25209793e-01,\n",
       "         4.56675453e-01,  -4.84061095e-01,   4.17721706e-01,\n",
       "        -3.70710230e-02,  -1.79718815e-01,  -5.51600615e-02,\n",
       "         8.94437813e-02,  -7.63608750e-01,  -2.78952789e-01,\n",
       "         1.77767747e-01,  -7.45989326e-02,   1.31640472e-02,\n",
       "        -2.25068888e-01,   7.98878633e-02,   1.58013353e-01,\n",
       "         1.12578155e+00,  -8.79722113e-01,   5.02843677e-01,\n",
       "        -3.05533962e-01,  -5.99953359e-02,   1.84223346e-01,\n",
       "         3.73757932e-01,  -3.71351285e-01,   1.23475166e-01,\n",
       "         2.49104025e-01,  -5.82723300e-01,   2.61231707e-01,\n",
       "        -2.57942183e-01,   3.37509667e-02,   1.82314377e-01,\n",
       "         5.88092594e-01,   5.33468795e-01,   3.24442026e-01,\n",
       "         2.22869179e-01,   1.85028003e-01,  -2.06386030e-01,\n",
       "         1.00638339e-01,   1.86003547e-01,   7.14680221e-01,\n",
       "         7.75402871e-01,   3.04782845e-01,  -1.99659335e-01,\n",
       "         9.65579277e-02,   5.64947326e-01,   3.50155399e-02,\n",
       "        -5.06962115e-01,   5.75973412e-02,   1.39195867e-02,\n",
       "         4.30072420e-01,  -1.02153032e+00,  -1.37009663e-01,\n",
       "         3.02597055e-01,  -6.73836184e-01,   4.97536866e-01,\n",
       "         1.55725880e-02,  -3.64876607e-01,   3.29038466e-02,\n",
       "        -3.73266335e-01,   1.54920896e-02,   1.70854236e-01,\n",
       "         3.06444704e-01,  -4.61438436e-01,   4.78499340e-02,\n",
       "        -2.83183281e-01,   7.41883417e-02,   4.89965634e-01,\n",
       "        -3.76663584e-01,  -5.93584112e-01,   4.94287291e-02,\n",
       "         2.38140776e-02,   5.84647092e-02,   1.09840891e-01,\n",
       "         5.27997144e-01,   4.08128484e-04,   1.24330900e+00,\n",
       "        -1.23355836e+00,   2.57933545e-01,  -1.19880625e-01,\n",
       "         4.52679454e-01,   9.91329455e-01,  -6.01200081e-01,\n",
       "         7.37960195e-01,   7.60669522e-01,  -1.90438990e-01,\n",
       "        -1.34469661e-01,  -2.80431359e-01,   2.24060934e-01,\n",
       "         2.49104025e-01,   6.86544839e-02,  -2.84165676e-01,\n",
       "         2.39800270e-03,   2.46845074e-01,   1.59082759e-01,\n",
       "         2.84282913e-02,   2.97216460e-02,  -2.12777167e-01,\n",
       "        -1.71657783e-01,   8.88771652e-02,   2.60383073e-01,\n",
       "         3.50386919e-02,   6.19607297e-02,  -1.35092410e-01,\n",
       "         5.04516417e-01,  -3.98855687e-01,   1.35403260e-01,\n",
       "        -1.22640547e-01,   2.49211107e+00,  -2.75655796e+00,\n",
       "        -3.77808696e-01])"
      ]
     },
     "execution_count": 23,
     "metadata": {},
     "output_type": "execute_result"
    }
   ],
   "source": [
    "clf.coef_[0]"
   ]
  },
  {
   "cell_type": "code",
   "execution_count": 24,
   "metadata": {
    "collapsed": false
   },
   "outputs": [
    {
     "name": "stdout",
     "output_type": "stream",
     "text": [
      "0.0709684983476\n",
      "-0.22326845257\n"
     ]
    }
   ],
   "source": [
    "print(clf.coef_[0][0])\n",
    "print(clf.coef_[0][1])"
   ]
  },
  {
   "cell_type": "code",
   "execution_count": 25,
   "metadata": {
    "collapsed": false
   },
   "outputs": [
    {
     "name": "stdout",
     "output_type": "stream",
     "text": [
      "[355  21 162 323 264 103 328   2  49 288 331  67 245  32 114 330 287 160\n",
      "  35 221]\n"
     ]
    }
   ],
   "source": [
    "import numpy as np\n",
    "topN = np.argsort(clf.coef_[0])[::-1][:20]\n",
    "print(topN)"
   ]
  },
  {
   "cell_type": "code",
   "execution_count": 26,
   "metadata": {
    "collapsed": false
   },
   "outputs": [
    {
     "name": "stdout",
     "output_type": "stream",
     "text": [
      "western\n",
      "blot\n",
      "invers\n",
      "taken\n",
      "prostat\n",
      "gene ggvarentty1gg\n",
      "target ggvarentty1gg\n",
      "16\n",
      "correl ggvarentty1gg\n",
      "repress\n",
      "target mmvarentty1mm\n",
      "directli\n",
      "partial\n",
      "cell line\n",
      "ggvarentty1gg protein\n",
      "target ggvarentty2gg\n",
      "report assay\n",
      "interact\n",
      "chain\n",
      "mmvarentty3mm mmvarentty4mm mmvarentty5mm\n"
     ]
    }
   ],
   "source": [
    "for v in topN:\n",
    "    print(list(tf_vectorizer.vocabulary_.keys())[list(tf_vectorizer.vocabulary_.values()).index(v)])\n"
   ]
  }
 ],
 "metadata": {
  "kernelspec": {
   "display_name": "Python 3",
   "language": "python",
   "name": "python3"
  },
  "language_info": {
   "codemirror_mode": {
    "name": "ipython",
    "version": 3
   },
   "file_extension": ".py",
   "mimetype": "text/x-python",
   "name": "python",
   "nbconvert_exporter": "python",
   "pygments_lexer": "ipython3",
   "version": "3.5.1"
  }
 },
 "nbformat": 4,
 "nbformat_minor": 0
}
