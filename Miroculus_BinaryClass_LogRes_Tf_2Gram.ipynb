{
 "cells": [
  {
   "cell_type": "markdown",
   "metadata": {},
   "source": [
    "## Load data"
   ]
  },
  {
   "cell_type": "code",
   "execution_count": 30,
   "metadata": {
    "collapsed": false,
    "scrolled": true
   },
   "outputs": [],
   "source": [
    "file_test = 'C:\\Data\\Miroculus\\A3_1_2016_text_inputs\\A3_1_2016_binary_data_entities_normalize_rmstopwords_stem_test.tsv'\n",
    "file_train = 'C:\\Data\\Miroculus\\A3_1_2016_text_inputs\\A3_1_2016_binary_data_entities_normalize_rmstopwords_stem_train.tsv'"
   ]
  },
  {
   "cell_type": "code",
   "execution_count": 31,
   "metadata": {
    "collapsed": false,
    "scrolled": true
   },
   "outputs": [
    {
     "data": {
      "text/plain": [
       "<bound method NDFrame.head of              Label                                               Text\n",
       "0      NO_RELATION  result identifi previous report breast cancer-...\n",
       "1      NO_RELATION  conclus taken togeth mmvarentty1mm/ggvarentty1...\n",
       "2         RELATION  revers correl mmvarentty1mm ggvarentty1gg also...\n",
       "3         RELATION  result suggest recognit site mmvarentty1mm mmv...\n",
       "4         RELATION  issu jci ghosh colleagu identifi uniqu microrn...\n",
       "5      NO_RELATION  conclus mmvarentty1mm may promot cell ggvarent...\n",
       "6      NO_RELATION        howev role mmvarentty1mm npc remain unknown\n",
       "7         RELATION  targetscan predict ggvarentty1gg ggvarentty2gg...\n",
       "8      NO_RELATION  increas mmvarentty1mm depend upon ggvarentty1g...\n",
       "9      NO_RELATION  revers correl mmvarentty1mm ggvarentty1gg expr...\n",
       "10        RELATION  studi identifi mmvarentty1mm mmvarentty2mm mic...\n",
       "11        RELATION  show mmvarentty1mm oncosuppress microrna lost ...\n",
       "12     NO_RELATION  newli identifi mmvarentty1mm/ggvarentty1gg ggv...\n",
       "13        RELATION  data place mmvarentty1mm regulatori loop ggvar...\n",
       "14        RELATION  result suggest suppress mmvarentty1mm express ...\n",
       "15        RELATION  among mmvarentty1mm relat ggvarentty1gg resist...\n",
       "16        RELATION  knockdown mmvarentty1mm enhanc anticanc effect...\n",
       "17        RELATION  use bioinformat identifi three potenti target ...\n",
       "18     NO_RELATION  show amongst mirna down-regul mmvarentty1mm mm...\n",
       "19     NO_RELATION  studi express matur mmvarentty1mm breast tumor...\n",
       "20     NO_RELATION  collect find highlight mmvarentty1mm/mmvarentt...\n",
       "21     NO_RELATION  ggvarentty1gg overexpress pdac also direct tar...\n",
       "22     NO_RELATION  conclus mmvarentty1mm level potenti establish ...\n",
       "23     NO_RELATION  show central tumour suppressor ggvarentty1gg e...\n",
       "24        RELATION  valid ggvarentty1gg ggvarentty2gg ggvarentty3g...\n",
       "25     NO_RELATION  furthermor mcf7 cell overexpress mmvarentty1mm...\n",
       "26     NO_RELATION  present studi aim investig express regulatori ...\n",
       "27     NO_RELATION  protein microarray reveal knockdown ggvarentty...\n",
       "28        RELATION  like neg regul ggvarentty1gg ggvarentty2gg mmv...\n",
       "29        RELATION  identifi ggvarentty1gg ggvarentty2gg direct mm...\n",
       "...            ...                                                ...\n",
       "10753  NO_RELATION  howev mmvarentty1mm rare character chronic mye...\n",
       "10754  NO_RELATION  ggvarentty1gg growth evalu vivo imag luciferas...\n",
       "10755     RELATION  result suggest ggvarentty1gg ggvarentty2gg gen...\n",
       "10756     RELATION  forc express mmvarentty1mm dramat inhibit leuk...\n",
       "10757  NO_RELATION  studi suggest manipul mmvarentty1mm express us...\n",
       "10758  NO_RELATION  taqman microrna assay show down-regul mmvarent...\n",
       "10759     RELATION  also correl express ggvarentty1gg mrna mirna e...\n",
       "10760  NO_RELATION  function effect mmvarentty1mm inhibit growth h...\n",
       "10761  NO_RELATION  moreov found ggvarentty1gg express regul post-...\n",
       "10762  NO_RELATION  found mmvarentty1mm rs2910164 polymorph associ...\n",
       "10763  NO_RELATION  aim studi investig express pattern prognost re...\n",
       "10764     RELATION  invers correl found mmvarentty1mm ggvarentty1g...\n",
       "10765  NO_RELATION  final function studi demonstr mmvarentty1mm kn...\n",
       "10766  NO_RELATION  method perform real-tim pcr western blot cck8 ...\n",
       "10767     RELATION  investig reveal mmvarentty1mm target ggvarentt...\n",
       "10768  NO_RELATION  analys reveal mmvarentty1mm regul upstream pro...\n",
       "10769     RELATION  identifi manganes ggvarentty1gg mnsod messeng ...\n",
       "10770     RELATION  find indic mmvarentty1mm upregul gc may key ro...\n",
       "10771     RELATION  restor mmvarentty1mm silenc ggvarentty1gg znf2...\n",
       "10772  NO_RELATION  endometri express zeb ggvarentty1gg patient ex...\n",
       "10773     RELATION  ggvarentty1gg neg regul mmvarentty1mm post-tra...\n",
       "10774  NO_RELATION  murin ggvarentty1gg increas mmvarentty1mm expr...\n",
       "10775     RELATION  ggvarentty1gg ggvarentty2gg protein express up...\n",
       "10776  NO_RELATION  result show mmvarentty1mm significantli downre...\n",
       "10777  NO_RELATION  investig clinic import mmvarentty1mm select hi...\n",
       "10778     RELATION  h2o2 upregul ggvarentty1gg mmvarentty1mm downr...\n",
       "10779  NO_RELATION  identifi ggvarentty1gg direct mmvarentty1mm ta...\n",
       "10780     RELATION  stabl overexpress mmvarentty1mm a549 cell resu...\n",
       "10781  NO_RELATION  result product microrna ggvarentty1gg-21 ggvar...\n",
       "10782  NO_RELATION  conclus polymorph mmvarentty1mm gene unlik sub...\n",
       "\n",
       "[10783 rows x 2 columns]>"
      ]
     },
     "execution_count": 31,
     "metadata": {},
     "output_type": "execute_result"
    }
   ],
   "source": [
    "import pandas as pd\n",
    "test = pd.read_csv(file_test, quotechar='\"', delimiter='\\t', header=None, names=['Label', 'Text'])\n",
    "train = pd.read_csv(file_train, quotechar='\"', delimiter='\\t', header=None, names=['Label', 'Text'])\n",
    "test.head; train.head"
   ]
  },
  {
   "cell_type": "markdown",
   "metadata": {},
   "source": [
    "## Vectorise text data into numerical vector"
   ]
  },
  {
   "cell_type": "markdown",
   "metadata": {},
   "source": [
    "### Using `CountVectorizer`"
   ]
  },
  {
   "cell_type": "code",
   "execution_count": 32,
   "metadata": {
    "collapsed": false,
    "scrolled": true
   },
   "outputs": [],
   "source": [
    "from sklearn.feature_extraction.text import CountVectorizer\n",
    "tf_vectorizer = CountVectorizer(analyzer='word', stop_words='english', ngram_range=(2,2), max_df=0.9, min_df=0.01)\n",
    "train_tf_vectors = tf_vectorizer.fit_transform(train.Text)"
   ]
  },
  {
   "cell_type": "markdown",
   "metadata": {},
   "source": [
    "** Note: ** Numbers not removed. Consider removing numbers."
   ]
  },
  {
   "cell_type": "markdown",
   "metadata": {},
   "source": [
    "`tf_vectorizer.vocabulary_` is a `dict`"
   ]
  },
  {
   "cell_type": "code",
   "execution_count": 33,
   "metadata": {
    "collapsed": false,
    "scrolled": true
   },
   "outputs": [
    {
     "data": {
      "text/plain": [
       "{'breast cancer': 0,\n",
       " 'cancer cell': 1,\n",
       " 'cancer tissu': 2,\n",
       " 'cell cycl': 3,\n",
       " 'cell growth': 4,\n",
       " 'cell line': 5,\n",
       " 'cell migrat': 6,\n",
       " 'cell prolifer': 7,\n",
       " 'chain reaction': 8,\n",
       " 'conclus mmvarentty1mm': 9,\n",
       " 'correl ggvarentty1gg': 10,\n",
       " 'correl mmvarentty1mm': 11,\n",
       " 'decreas express': 12,\n",
       " 'demonstr mmvarentty1mm': 13,\n",
       " 'direct target': 14,\n",
       " 'directli target': 15,\n",
       " 'downregul ggvarentty1gg': 16,\n",
       " 'downregul mmvarentty1mm': 17,\n",
       " 'effect mmvarentty1mm': 18,\n",
       " 'express ggvarentty1gg': 19,\n",
       " 'express ggvarentty2gg': 20,\n",
       " 'express level': 21,\n",
       " 'express mmvarentty1mm': 22,\n",
       " 'gastric cancer': 23,\n",
       " 'gene express': 24,\n",
       " 'gene ggvarentty1gg': 25,\n",
       " 'gene mmvarentty1mm': 26,\n",
       " 'ggvarentty1gg cell': 27,\n",
       " 'ggvarentty1gg express': 28,\n",
       " 'ggvarentty1gg gene': 29,\n",
       " 'ggvarentty1gg ggvarentty2gg': 30,\n",
       " 'ggvarentty1gg induc': 31,\n",
       " 'ggvarentty1gg mmvarentty1mm': 32,\n",
       " 'ggvarentty1gg mrna': 33,\n",
       " 'ggvarentty1gg protein': 34,\n",
       " 'ggvarentty1gg regul': 35,\n",
       " 'ggvarentty1gg target': 36,\n",
       " 'ggvarentty2gg cell': 37,\n",
       " 'ggvarentty2gg express': 38,\n",
       " 'ggvarentty2gg ggvarentty3gg': 39,\n",
       " 'ggvarentty2gg mmvarentty1mm': 40,\n",
       " 'ggvarentty2gg mrna': 41,\n",
       " 'ggvarentty3gg express': 42,\n",
       " 'ggvarentty3gg ggvarentty4gg': 43,\n",
       " 'ggvarentty4gg ggvarentty5gg': 44,\n",
       " 'ggvarentty5gg ggvarentty6gg': 45,\n",
       " 'identifi ggvarentty1gg': 46,\n",
       " 'import role': 47,\n",
       " 'increas express': 48,\n",
       " 'increas ggvarentty1gg': 49,\n",
       " 'indic mmvarentty1mm': 50,\n",
       " 'inhibit ggvarentty1gg': 51,\n",
       " 'inhibit mmvarentty1mm': 52,\n",
       " 'invers correl': 53,\n",
       " 'level ggvarentty1gg': 54,\n",
       " 'level mmvarentty1mm': 55,\n",
       " 'luciferas report': 56,\n",
       " 'microrna mmvarentty1mm': 57,\n",
       " 'migrat invas': 58,\n",
       " 'mirna mmvarentty1mm': 59,\n",
       " 'mmvarentty1mm 5p': 60,\n",
       " 'mmvarentty1mm downregul': 61,\n",
       " 'mmvarentty1mm express': 62,\n",
       " 'mmvarentty1mm ggvarentty1gg': 63,\n",
       " 'mmvarentty1mm ggvarentty2gg': 64,\n",
       " 'mmvarentty1mm inhibit': 65,\n",
       " 'mmvarentty1mm level': 66,\n",
       " 'mmvarentty1mm mimic': 67,\n",
       " 'mmvarentty1mm mmvarentty2mm': 68,\n",
       " 'mmvarentty1mm overexpress': 69,\n",
       " 'mmvarentty1mm play': 70,\n",
       " 'mmvarentty1mm promot': 71,\n",
       " 'mmvarentty1mm regul': 72,\n",
       " 'mmvarentty1mm significantli': 73,\n",
       " 'mmvarentty1mm suppress': 74,\n",
       " 'mmvarentty1mm target': 75,\n",
       " 'mmvarentty2mm mmvarentty3mm': 76,\n",
       " 'mmvarentty3mm mmvarentty4mm': 77,\n",
       " 'mmvarentty4mm mmvarentty5mm': 78,\n",
       " 'mrna protein': 79,\n",
       " 'neg regul': 80,\n",
       " 'overexpress mmvarentty1mm': 81,\n",
       " 'present studi': 82,\n",
       " 'prostat cancer': 83,\n",
       " 'protein express': 84,\n",
       " 'protein level': 85,\n",
       " 'real tim': 86,\n",
       " 'regul express': 87,\n",
       " 'regul ggvarentty1gg': 88,\n",
       " 'regul ggvarentty2gg': 89,\n",
       " 'regul mmvarentty1mm': 90,\n",
       " 'report assay': 91,\n",
       " 'result mmvarentty1mm': 92,\n",
       " 'result suggest': 93,\n",
       " 'role mmvarentty1mm': 94,\n",
       " 'signal pathway': 95,\n",
       " 'suggest mmvarentty1mm': 96,\n",
       " 'suppress ggvarentty1gg': 97,\n",
       " 'taken togeth': 98,\n",
       " 'target gene': 99,\n",
       " 'target ggvarentty1gg': 100,\n",
       " 'target ggvarentty2gg': 101,\n",
       " 'target mmvarentty1mm': 102,\n",
       " 'therapeut target': 103,\n",
       " 'transfect mmvarentty1mm': 104,\n",
       " 'untransl region': 105,\n",
       " 'upregul mmvarentty1mm': 106,\n",
       " 'western blot': 107}"
      ]
     },
     "execution_count": 33,
     "metadata": {},
     "output_type": "execute_result"
    }
   ],
   "source": [
    "tf_vectorizer.vocabulary_"
   ]
  },
  {
   "cell_type": "code",
   "execution_count": 34,
   "metadata": {
    "collapsed": false,
    "scrolled": true
   },
   "outputs": [
    {
     "data": {
      "text/plain": [
       "(10783, 108)"
      ]
     },
     "execution_count": 34,
     "metadata": {},
     "output_type": "execute_result"
    }
   ],
   "source": [
    "train_tf_vectors.shape"
   ]
  },
  {
   "cell_type": "code",
   "execution_count": 35,
   "metadata": {
    "collapsed": false,
    "scrolled": true
   },
   "outputs": [
    {
     "data": {
      "text/plain": [
       "array([1, 1, 1, ..., 1, 1, 1], dtype=int64)"
      ]
     },
     "execution_count": 35,
     "metadata": {},
     "output_type": "execute_result"
    }
   ],
   "source": [
    "train_tf_vectors.data"
   ]
  },
  {
   "cell_type": "code",
   "execution_count": 36,
   "metadata": {
    "collapsed": false,
    "scrolled": true
   },
   "outputs": [
    {
     "name": "stdout",
     "output_type": "stream",
     "text": [
      "29383\n",
      "2.724937401465269\n",
      "2.523090186541916\n"
     ]
    }
   ],
   "source": [
    "print(train_tf_vectors.nnz) # number of non-zero elements\n",
    "print(train_tf_vectors.nnz / float(train_tf_vectors.shape[0])) # non-zero per sample\n",
    "print(train_tf_vectors.nnz / float(train_tf_vectors.shape[0] * train_tf_vectors.shape[1]) * 100) # non-zero per feature space in %"
   ]
  },
  {
   "cell_type": "markdown",
   "metadata": {},
   "source": [
    "## Data Preprocessing: \n",
    "### Attributes and Target"
   ]
  },
  {
   "cell_type": "markdown",
   "metadata": {},
   "source": [
    "### Convert categorical labels into numerical labels"
   ]
  },
  {
   "cell_type": "code",
   "execution_count": 37,
   "metadata": {
    "collapsed": false,
    "scrolled": true
   },
   "outputs": [],
   "source": [
    "from sklearn import preprocessing"
   ]
  },
  {
   "cell_type": "code",
   "execution_count": 38,
   "metadata": {
    "collapsed": false,
    "scrolled": true
   },
   "outputs": [
    {
     "data": {
      "text/plain": [
       "['NO_RELATION', 'RELATION']"
      ]
     },
     "execution_count": 38,
     "metadata": {},
     "output_type": "execute_result"
    }
   ],
   "source": [
    "le = preprocessing.LabelEncoder()\n",
    "le.fit(train.Label)\n",
    "list(le.classes_)"
   ]
  },
  {
   "cell_type": "code",
   "execution_count": 39,
   "metadata": {
    "collapsed": false,
    "scrolled": true
   },
   "outputs": [
    {
     "name": "stdout",
     "output_type": "stream",
     "text": [
      "[0 0 1 1 1]\n",
      "['NO_RELATION' 'NO_RELATION' 'RELATION' 'RELATION' 'RELATION']\n"
     ]
    }
   ],
   "source": [
    "y_train = le.transform(train.Label);\n",
    "y_test = le.transform(test.Label);\n",
    "\n",
    "print(y_train[0:5])\n",
    "print(le.inverse_transform(y_train[0:5]))"
   ]
  },
  {
   "cell_type": "markdown",
   "metadata": {},
   "source": [
    "`X` is data, `y` is target. `X` has the size of `n_samples` x `n_features`, `y` has `n_samples` x 1 labels"
   ]
  },
  {
   "cell_type": "code",
   "execution_count": 40,
   "metadata": {
    "collapsed": false,
    "scrolled": true
   },
   "outputs": [],
   "source": [
    "X_train = train_tf_vectors"
   ]
  },
  {
   "cell_type": "code",
   "execution_count": 41,
   "metadata": {
    "collapsed": true,
    "scrolled": false
   },
   "outputs": [],
   "source": [
    "X_test = tf_vectorizer.transform(test.Text)"
   ]
  },
  {
   "cell_type": "code",
   "execution_count": 42,
   "metadata": {
    "collapsed": false,
    "scrolled": false
   },
   "outputs": [
    {
     "data": {
      "text/plain": [
       "(3595, 108)"
      ]
     },
     "execution_count": 42,
     "metadata": {},
     "output_type": "execute_result"
    }
   ],
   "source": [
    "X_test.shape"
   ]
  },
  {
   "cell_type": "code",
   "execution_count": 43,
   "metadata": {
    "collapsed": false,
    "scrolled": false
   },
   "outputs": [
    {
     "data": {
      "text/plain": [
       "array([1, 1, 1, ..., 1, 1, 1], dtype=int64)"
      ]
     },
     "execution_count": 43,
     "metadata": {},
     "output_type": "execute_result"
    }
   ],
   "source": [
    "X_test.data"
   ]
  },
  {
   "cell_type": "markdown",
   "metadata": {},
   "source": [
    "## Log Res: "
   ]
  },
  {
   "cell_type": "code",
   "execution_count": 44,
   "metadata": {
    "collapsed": false,
    "scrolled": false
   },
   "outputs": [
    {
     "data": {
      "text/plain": [
       "LogisticRegression(C=100000.0, class_weight='balanced', dual=False,\n",
       "          fit_intercept=True, intercept_scaling=1, max_iter=100,\n",
       "          multi_class='ovr', n_jobs=1, penalty='l2', random_state=None,\n",
       "          solver='liblinear', tol=0.0001, verbose=0, warm_start=False)"
      ]
     },
     "execution_count": 44,
     "metadata": {},
     "output_type": "execute_result"
    }
   ],
   "source": [
    "from sklearn import linear_model\n",
    "clf = linear_model.LogisticRegression(C=1e5, class_weight='balanced')\n",
    "clf.fit(X_train, y_train)"
   ]
  },
  {
   "cell_type": "code",
   "execution_count": 45,
   "metadata": {
    "collapsed": false,
    "scrolled": true
   },
   "outputs": [],
   "source": [
    "y_pred = clf.predict(X_test)"
   ]
  },
  {
   "cell_type": "code",
   "execution_count": 46,
   "metadata": {
    "collapsed": false,
    "scrolled": true
   },
   "outputs": [
    {
     "name": "stdout",
     "output_type": "stream",
     "text": [
      "             precision    recall  f1-score   support\n",
      "\n",
      "          0       0.69      0.76      0.72      1804\n",
      "          1       0.73      0.65      0.69      1791\n",
      "\n",
      "avg / total       0.71      0.70      0.70      3595\n",
      "\n"
     ]
    }
   ],
   "source": [
    "from sklearn import metrics\n",
    "print(metrics.classification_report(y_test, y_pred))"
   ]
  },
  {
   "cell_type": "code",
   "execution_count": 47,
   "metadata": {
    "collapsed": false,
    "scrolled": true
   },
   "outputs": [
    {
     "name": "stdout",
     "output_type": "stream",
     "text": [
      "[[1373  431]\n",
      " [ 631 1160]]\n"
     ]
    }
   ],
   "source": [
    "print(metrics.confusion_matrix(y_test, y_pred))"
   ]
  },
  {
   "cell_type": "markdown",
   "metadata": {},
   "source": [
    "### Coeficients of the decision function"
   ]
  },
  {
   "cell_type": "code",
   "execution_count": 48,
   "metadata": {
    "collapsed": false,
    "scrolled": false
   },
   "outputs": [
    {
     "data": {
      "text/plain": [
       "array([[-0.33303924,  0.00645408, -0.20657451,  0.44060459, -0.18557739,\n",
       "        -0.1673157 ,  0.05561758,  0.08112488, -0.41409544, -0.04720798,\n",
       "         0.52311038,  0.14795392, -0.16729237,  0.06679747,  0.66817234,\n",
       "         0.25102087,  0.64412386,  0.19471715,  0.21159313,  0.64504622,\n",
       "         0.50897821, -0.06472291, -0.03217674, -0.08037165,  0.1283544 ,\n",
       "         1.04062561,  0.83093581, -0.46118641,  0.83404795,  0.62589316,\n",
       "         0.80009112,  0.35812912,  0.36216952,  0.72031423,  1.09895227,\n",
       "         0.50504689,  0.60650616, -0.01525531,  0.89084602,  0.60078494,\n",
       "         0.51568274,  0.68694638,  0.92731859,  0.46527496,  0.5627918 ,\n",
       "         0.44008352,  0.61550533,  0.04912107,  0.06917168,  0.34085323,\n",
       "         0.0463352 ,  0.37660683,  0.11026023,  0.46499273,  0.53485614,\n",
       "        -0.444088  ,  0.31189353, -0.1177417 ,  0.03448994, -0.41593154,\n",
       "        -0.69668684,  0.09109787, -0.323124  ,  0.53079439,  0.68930487,\n",
       "         0.09070634, -0.34366718,  0.05003418,  0.11574094,  0.05822077,\n",
       "        -0.09547327, -0.04899537, -0.12423438, -0.25695558, -0.00199967,\n",
       "         0.4522897 ,  0.05012195,  0.16774456,  0.43853173,  0.13750207,\n",
       "         0.09256673,  0.02551473, -0.63656788, -0.10315289,  0.38674195,\n",
       "         0.76504212, -0.06752526,  1.0168281 ,  0.78216473,  0.92270062,\n",
       "         0.4216969 ,  0.66303999, -0.71051315,  0.1903759 , -0.60737128,\n",
       "         0.07984524, -0.05008259,  0.75165679,  0.05003463,  0.20585787,\n",
       "         1.01625632,  1.16147942,  1.03807271, -0.26073873,  0.08042087,\n",
       "         0.96894852,  0.21640554,  1.01266158]])"
      ]
     },
     "execution_count": 48,
     "metadata": {},
     "output_type": "execute_result"
    }
   ],
   "source": [
    "clf.coef_"
   ]
  },
  {
   "cell_type": "code",
   "execution_count": 49,
   "metadata": {
    "collapsed": false
   },
   "outputs": [
    {
     "data": {
      "text/plain": [
       "108"
      ]
     },
     "execution_count": 49,
     "metadata": {},
     "output_type": "execute_result"
    }
   ],
   "source": [
    "len(clf.coef_[0,])"
   ]
  },
  {
   "cell_type": "markdown",
   "metadata": {},
   "source": [
    "Get the index of coef with the maximum value."
   ]
  },
  {
   "cell_type": "code",
   "execution_count": 50,
   "metadata": {
    "collapsed": false
   },
   "outputs": [
    {
     "data": {
      "text/plain": [
       "101"
      ]
     },
     "execution_count": 50,
     "metadata": {},
     "output_type": "execute_result"
    }
   ],
   "source": [
    "clf.coef_.argmax()"
   ]
  },
  {
   "cell_type": "code",
   "execution_count": 51,
   "metadata": {
    "collapsed": false,
    "scrolled": false
   },
   "outputs": [
    {
     "name": "stdout",
     "output_type": "stream",
     "text": [
      "target ggvarentty2gg\n"
     ]
    }
   ],
   "source": [
    "m = clf.coef_.argmax()\n",
    "print(list(tf_vectorizer.vocabulary_.keys())[list(tf_vectorizer.vocabulary_.values()).index(m)])"
   ]
  },
  {
   "cell_type": "markdown",
   "metadata": {},
   "source": [
    "Get the index of the highest 10 coef value.\n",
    "\n",
    "**Note** `clf.coef_` is ndarray, see below:"
   ]
  },
  {
   "cell_type": "code",
   "execution_count": 52,
   "metadata": {
    "collapsed": false
   },
   "outputs": [
    {
     "data": {
      "text/plain": [
       "array([-0.33303924,  0.00645408, -0.20657451,  0.44060459, -0.18557739,\n",
       "       -0.1673157 ,  0.05561758,  0.08112488, -0.41409544, -0.04720798,\n",
       "        0.52311038,  0.14795392, -0.16729237,  0.06679747,  0.66817234,\n",
       "        0.25102087,  0.64412386,  0.19471715,  0.21159313,  0.64504622,\n",
       "        0.50897821, -0.06472291, -0.03217674, -0.08037165,  0.1283544 ,\n",
       "        1.04062561,  0.83093581, -0.46118641,  0.83404795,  0.62589316,\n",
       "        0.80009112,  0.35812912,  0.36216952,  0.72031423,  1.09895227,\n",
       "        0.50504689,  0.60650616, -0.01525531,  0.89084602,  0.60078494,\n",
       "        0.51568274,  0.68694638,  0.92731859,  0.46527496,  0.5627918 ,\n",
       "        0.44008352,  0.61550533,  0.04912107,  0.06917168,  0.34085323,\n",
       "        0.0463352 ,  0.37660683,  0.11026023,  0.46499273,  0.53485614,\n",
       "       -0.444088  ,  0.31189353, -0.1177417 ,  0.03448994, -0.41593154,\n",
       "       -0.69668684,  0.09109787, -0.323124  ,  0.53079439,  0.68930487,\n",
       "        0.09070634, -0.34366718,  0.05003418,  0.11574094,  0.05822077,\n",
       "       -0.09547327, -0.04899537, -0.12423438, -0.25695558, -0.00199967,\n",
       "        0.4522897 ,  0.05012195,  0.16774456,  0.43853173,  0.13750207,\n",
       "        0.09256673,  0.02551473, -0.63656788, -0.10315289,  0.38674195,\n",
       "        0.76504212, -0.06752526,  1.0168281 ,  0.78216473,  0.92270062,\n",
       "        0.4216969 ,  0.66303999, -0.71051315,  0.1903759 , -0.60737128,\n",
       "        0.07984524, -0.05008259,  0.75165679,  0.05003463,  0.20585787,\n",
       "        1.01625632,  1.16147942,  1.03807271, -0.26073873,  0.08042087,\n",
       "        0.96894852,  0.21640554,  1.01266158])"
      ]
     },
     "execution_count": 52,
     "metadata": {},
     "output_type": "execute_result"
    }
   ],
   "source": [
    "clf.coef_[0]"
   ]
  },
  {
   "cell_type": "code",
   "execution_count": 53,
   "metadata": {
    "collapsed": false
   },
   "outputs": [
    {
     "name": "stdout",
     "output_type": "stream",
     "text": [
      "-0.333039235313\n",
      "0.00645408104599\n"
     ]
    }
   ],
   "source": [
    "print(clf.coef_[0][0])\n",
    "print(clf.coef_[0][1])"
   ]
  },
  {
   "cell_type": "code",
   "execution_count": 54,
   "metadata": {
    "collapsed": false
   },
   "outputs": [
    {
     "name": "stdout",
     "output_type": "stream",
     "text": [
      "[101  34  25 102  87 100 107 105  42  89  38  28  26  30  88  85  97  33\n",
      "  64  41]\n"
     ]
    }
   ],
   "source": [
    "import numpy as np\n",
    "topN = np.argsort(clf.coef_[0])[::-1][:20]\n",
    "print(topN)"
   ]
  },
  {
   "cell_type": "code",
   "execution_count": 55,
   "metadata": {
    "collapsed": false
   },
   "outputs": [
    {
     "name": "stdout",
     "output_type": "stream",
     "text": [
      "target ggvarentty2gg\n",
      "ggvarentty1gg protein\n",
      "gene ggvarentty1gg\n",
      "target mmvarentty1mm\n",
      "regul express\n",
      "target ggvarentty1gg\n",
      "western blot\n",
      "untransl region\n",
      "ggvarentty3gg express\n",
      "regul ggvarentty2gg\n",
      "ggvarentty2gg express\n",
      "ggvarentty1gg express\n",
      "gene mmvarentty1mm\n",
      "ggvarentty1gg ggvarentty2gg\n",
      "regul ggvarentty1gg\n",
      "protein level\n",
      "suppress ggvarentty1gg\n",
      "ggvarentty1gg mrna\n",
      "mmvarentty1mm ggvarentty2gg\n",
      "ggvarentty2gg mrna\n"
     ]
    }
   ],
   "source": [
    "for v in topN:\n",
    "    print(list(tf_vectorizer.vocabulary_.keys())[list(tf_vectorizer.vocabulary_.values()).index(v)])\n"
   ]
  }
 ],
 "metadata": {
  "kernelspec": {
   "display_name": "Python 3",
   "language": "python",
   "name": "python3"
  },
  "language_info": {
   "codemirror_mode": {
    "name": "ipython",
    "version": 3
   },
   "file_extension": ".py",
   "mimetype": "text/x-python",
   "name": "python",
   "nbconvert_exporter": "python",
   "pygments_lexer": "ipython3",
   "version": "3.5.1"
  }
 },
 "nbformat": 4,
 "nbformat_minor": 0
}
