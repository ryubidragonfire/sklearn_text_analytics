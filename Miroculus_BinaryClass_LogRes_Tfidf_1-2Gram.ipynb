{
 "cells": [
  {
   "cell_type": "markdown",
   "metadata": {},
   "source": [
    "## Load data"
   ]
  },
  {
   "cell_type": "code",
   "execution_count": 27,
   "metadata": {
    "collapsed": false,
    "scrolled": true
   },
   "outputs": [],
   "source": [
    "file_test = 'C:\\Data\\Miroculus\\A3_1_2016_text_inputs\\A3_1_2016_binary_data_entities_normalize_rmstopwords_stem_test.tsv'\n",
    "file_train = 'C:\\Data\\Miroculus\\A3_1_2016_text_inputs\\A3_1_2016_binary_data_entities_normalize_rmstopwords_stem_train.tsv'"
   ]
  },
  {
   "cell_type": "code",
   "execution_count": 28,
   "metadata": {
    "collapsed": false,
    "scrolled": true
   },
   "outputs": [
    {
     "data": {
      "text/plain": [
       "<bound method NDFrame.head of              Label                                               Text\n",
       "0      NO_RELATION  result identifi previous report breast cancer-...\n",
       "1      NO_RELATION  conclus taken togeth mmvarentty1mm/ggvarentty1...\n",
       "2         RELATION  revers correl mmvarentty1mm ggvarentty1gg also...\n",
       "3         RELATION  result suggest recognit site mmvarentty1mm mmv...\n",
       "4         RELATION  issu jci ghosh colleagu identifi uniqu microrn...\n",
       "5      NO_RELATION  conclus mmvarentty1mm may promot cell ggvarent...\n",
       "6      NO_RELATION        howev role mmvarentty1mm npc remain unknown\n",
       "7         RELATION  targetscan predict ggvarentty1gg ggvarentty2gg...\n",
       "8      NO_RELATION  increas mmvarentty1mm depend upon ggvarentty1g...\n",
       "9      NO_RELATION  revers correl mmvarentty1mm ggvarentty1gg expr...\n",
       "10        RELATION  studi identifi mmvarentty1mm mmvarentty2mm mic...\n",
       "11        RELATION  show mmvarentty1mm oncosuppress microrna lost ...\n",
       "12     NO_RELATION  newli identifi mmvarentty1mm/ggvarentty1gg ggv...\n",
       "13        RELATION  data place mmvarentty1mm regulatori loop ggvar...\n",
       "14        RELATION  result suggest suppress mmvarentty1mm express ...\n",
       "15        RELATION  among mmvarentty1mm relat ggvarentty1gg resist...\n",
       "16        RELATION  knockdown mmvarentty1mm enhanc anticanc effect...\n",
       "17        RELATION  use bioinformat identifi three potenti target ...\n",
       "18     NO_RELATION  show amongst mirna down-regul mmvarentty1mm mm...\n",
       "19     NO_RELATION  studi express matur mmvarentty1mm breast tumor...\n",
       "20     NO_RELATION  collect find highlight mmvarentty1mm/mmvarentt...\n",
       "21     NO_RELATION  ggvarentty1gg overexpress pdac also direct tar...\n",
       "22     NO_RELATION  conclus mmvarentty1mm level potenti establish ...\n",
       "23     NO_RELATION  show central tumour suppressor ggvarentty1gg e...\n",
       "24        RELATION  valid ggvarentty1gg ggvarentty2gg ggvarentty3g...\n",
       "25     NO_RELATION  furthermor mcf7 cell overexpress mmvarentty1mm...\n",
       "26     NO_RELATION  present studi aim investig express regulatori ...\n",
       "27     NO_RELATION  protein microarray reveal knockdown ggvarentty...\n",
       "28        RELATION  like neg regul ggvarentty1gg ggvarentty2gg mmv...\n",
       "29        RELATION  identifi ggvarentty1gg ggvarentty2gg direct mm...\n",
       "...            ...                                                ...\n",
       "10753  NO_RELATION  howev mmvarentty1mm rare character chronic mye...\n",
       "10754  NO_RELATION  ggvarentty1gg growth evalu vivo imag luciferas...\n",
       "10755     RELATION  result suggest ggvarentty1gg ggvarentty2gg gen...\n",
       "10756     RELATION  forc express mmvarentty1mm dramat inhibit leuk...\n",
       "10757  NO_RELATION  studi suggest manipul mmvarentty1mm express us...\n",
       "10758  NO_RELATION  taqman microrna assay show down-regul mmvarent...\n",
       "10759     RELATION  also correl express ggvarentty1gg mrna mirna e...\n",
       "10760  NO_RELATION  function effect mmvarentty1mm inhibit growth h...\n",
       "10761  NO_RELATION  moreov found ggvarentty1gg express regul post-...\n",
       "10762  NO_RELATION  found mmvarentty1mm rs2910164 polymorph associ...\n",
       "10763  NO_RELATION  aim studi investig express pattern prognost re...\n",
       "10764     RELATION  invers correl found mmvarentty1mm ggvarentty1g...\n",
       "10765  NO_RELATION  final function studi demonstr mmvarentty1mm kn...\n",
       "10766  NO_RELATION  method perform real-tim pcr western blot cck8 ...\n",
       "10767     RELATION  investig reveal mmvarentty1mm target ggvarentt...\n",
       "10768  NO_RELATION  analys reveal mmvarentty1mm regul upstream pro...\n",
       "10769     RELATION  identifi manganes ggvarentty1gg mnsod messeng ...\n",
       "10770     RELATION  find indic mmvarentty1mm upregul gc may key ro...\n",
       "10771     RELATION  restor mmvarentty1mm silenc ggvarentty1gg znf2...\n",
       "10772  NO_RELATION  endometri express zeb ggvarentty1gg patient ex...\n",
       "10773     RELATION  ggvarentty1gg neg regul mmvarentty1mm post-tra...\n",
       "10774  NO_RELATION  murin ggvarentty1gg increas mmvarentty1mm expr...\n",
       "10775     RELATION  ggvarentty1gg ggvarentty2gg protein express up...\n",
       "10776  NO_RELATION  result show mmvarentty1mm significantli downre...\n",
       "10777  NO_RELATION  investig clinic import mmvarentty1mm select hi...\n",
       "10778     RELATION  h2o2 upregul ggvarentty1gg mmvarentty1mm downr...\n",
       "10779  NO_RELATION  identifi ggvarentty1gg direct mmvarentty1mm ta...\n",
       "10780     RELATION  stabl overexpress mmvarentty1mm a549 cell resu...\n",
       "10781  NO_RELATION  result product microrna ggvarentty1gg-21 ggvar...\n",
       "10782  NO_RELATION  conclus polymorph mmvarentty1mm gene unlik sub...\n",
       "\n",
       "[10783 rows x 2 columns]>"
      ]
     },
     "execution_count": 28,
     "metadata": {},
     "output_type": "execute_result"
    }
   ],
   "source": [
    "import pandas as pd\n",
    "test = pd.read_csv(file_test, quotechar='\"', delimiter='\\t', header=None, names=['Label', 'Text'])\n",
    "train = pd.read_csv(file_train, quotechar='\"', delimiter='\\t', header=None, names=['Label', 'Text'])\n",
    "test.head; train.head"
   ]
  },
  {
   "cell_type": "markdown",
   "metadata": {},
   "source": [
    "## Vectorise text data into numerical vector"
   ]
  },
  {
   "cell_type": "markdown",
   "metadata": {},
   "source": [
    "### Using `CountVectorizer`"
   ]
  },
  {
   "cell_type": "code",
   "execution_count": 29,
   "metadata": {
    "collapsed": false,
    "scrolled": true
   },
   "outputs": [],
   "source": [
    "from sklearn.feature_extraction.text import TfidfVectorizer\n",
    "tfidf_vectorizer = TfidfVectorizer(analyzer='word', stop_words='english', ngram_range=(1,2), max_df=0.9, min_df=0.01)\n",
    "train_tfidf_vectors = tfidf_vectorizer.fit_transform(train.Text)"
   ]
  },
  {
   "cell_type": "markdown",
   "metadata": {},
   "source": [
    "** Note: ** Numbers not removed. Consider removing numbers."
   ]
  },
  {
   "cell_type": "markdown",
   "metadata": {},
   "source": [
    "`tfidf_vectorizer.vocabulary_` is a `dict`"
   ]
  },
  {
   "cell_type": "code",
   "execution_count": 30,
   "metadata": {
    "collapsed": false,
    "scrolled": true
   },
   "outputs": [
    {
     "data": {
      "text/plain": [
       "{'001': 0,\n",
       " '05': 1,\n",
       " '16': 2,\n",
       " '3p': 3,\n",
       " '5p': 4,\n",
       " 'act': 5,\n",
       " 'activ': 6,\n",
       " 'addit': 7,\n",
       " 'affect': 8,\n",
       " 'aim': 9,\n",
       " 'alter': 10,\n",
       " 'analys': 11,\n",
       " 'analysi': 12,\n",
       " 'analyz': 13,\n",
       " 'apoptosi': 14,\n",
       " 'arrest': 15,\n",
       " 'assay': 16,\n",
       " 'associ': 17,\n",
       " 'bind': 18,\n",
       " 'bioinformat': 19,\n",
       " 'biomark': 20,\n",
       " 'blot': 21,\n",
       " 'breast': 22,\n",
       " 'breast cancer': 23,\n",
       " 'cancer': 24,\n",
       " 'cancer cell': 25,\n",
       " 'cancer tissu': 26,\n",
       " 'carcinoma': 27,\n",
       " 'caus': 28,\n",
       " 'cell': 29,\n",
       " 'cell cycl': 30,\n",
       " 'cell growth': 31,\n",
       " 'cell line': 32,\n",
       " 'cell migrat': 33,\n",
       " 'cell prolifer': 34,\n",
       " 'chain': 35,\n",
       " 'chain reaction': 36,\n",
       " 'chang': 37,\n",
       " 'clinic': 38,\n",
       " 'cluster': 39,\n",
       " 'colon': 40,\n",
       " 'combin': 41,\n",
       " 'compar': 42,\n",
       " 'conclus': 43,\n",
       " 'conclus mmvarentty1mm': 44,\n",
       " 'confirm': 45,\n",
       " 'contribut': 46,\n",
       " 'control': 47,\n",
       " 'correl': 48,\n",
       " 'correl ggvarentty1gg': 49,\n",
       " 'correl mmvarentty1mm': 50,\n",
       " 'crc': 51,\n",
       " 'cycl': 52,\n",
       " 'data': 53,\n",
       " 'decreas': 54,\n",
       " 'decreas express': 55,\n",
       " 'demonstr': 56,\n",
       " 'demonstr mmvarentty1mm': 57,\n",
       " 'depend': 58,\n",
       " 'detect': 59,\n",
       " 'determin': 60,\n",
       " 'develop': 61,\n",
       " 'differ': 62,\n",
       " 'differenti': 63,\n",
       " 'direct': 64,\n",
       " 'direct target': 65,\n",
       " 'directli': 66,\n",
       " 'directli target': 67,\n",
       " 'diseas': 68,\n",
       " 'downregul': 69,\n",
       " 'downregul ggvarentty1gg': 70,\n",
       " 'downregul mmvarentty1mm': 71,\n",
       " 'downstream': 72,\n",
       " 'ectop': 73,\n",
       " 'effect': 74,\n",
       " 'effect mmvarentty1mm': 75,\n",
       " 'elev': 76,\n",
       " 'enhanc': 77,\n",
       " 'epitheli': 78,\n",
       " 'evalu': 79,\n",
       " 'evid': 80,\n",
       " 'examin': 81,\n",
       " 'express': 82,\n",
       " 'express ggvarentty1gg': 83,\n",
       " 'express ggvarentty2gg': 84,\n",
       " 'express level': 85,\n",
       " 'express mmvarentty1mm': 86,\n",
       " 'factor': 87,\n",
       " 'famili': 88,\n",
       " 'final': 89,\n",
       " 'format': 90,\n",
       " 'function': 91,\n",
       " 'furthermor': 92,\n",
       " 'gastric': 93,\n",
       " 'gastric cancer': 94,\n",
       " 'gc': 95,\n",
       " 'gene': 96,\n",
       " 'gene express': 97,\n",
       " 'gene ggvarentty1gg': 98,\n",
       " 'gene mmvarentty1mm': 99,\n",
       " 'ggvarentty1gg': 100,\n",
       " 'ggvarentty1gg cell': 101,\n",
       " 'ggvarentty1gg express': 102,\n",
       " 'ggvarentty1gg gene': 103,\n",
       " 'ggvarentty1gg ggvarentty2gg': 104,\n",
       " 'ggvarentty1gg induc': 105,\n",
       " 'ggvarentty1gg mmvarentty1mm': 106,\n",
       " 'ggvarentty1gg mrna': 107,\n",
       " 'ggvarentty1gg protein': 108,\n",
       " 'ggvarentty1gg regul': 109,\n",
       " 'ggvarentty1gg target': 110,\n",
       " 'ggvarentty2gg': 111,\n",
       " 'ggvarentty2gg cell': 112,\n",
       " 'ggvarentty2gg express': 113,\n",
       " 'ggvarentty2gg ggvarentty3gg': 114,\n",
       " 'ggvarentty2gg mmvarentty1mm': 115,\n",
       " 'ggvarentty2gg mrna': 116,\n",
       " 'ggvarentty3gg': 117,\n",
       " 'ggvarentty3gg express': 118,\n",
       " 'ggvarentty3gg ggvarentty4gg': 119,\n",
       " 'ggvarentty4gg': 120,\n",
       " 'ggvarentty4gg ggvarentty5gg': 121,\n",
       " 'ggvarentty5gg': 122,\n",
       " 'ggvarentty5gg ggvarentty6gg': 123,\n",
       " 'ggvarentty6gg': 124,\n",
       " 'ggvarentty7gg': 125,\n",
       " 'glioma': 126,\n",
       " 'group': 127,\n",
       " 'growth': 128,\n",
       " 'healthi': 129,\n",
       " 'high': 130,\n",
       " 'higher': 131,\n",
       " 'howev': 132,\n",
       " 'human': 133,\n",
       " 'identifi': 134,\n",
       " 'identifi ggvarentty1gg': 135,\n",
       " 'implic': 136,\n",
       " 'import': 137,\n",
       " 'import role': 138,\n",
       " 'includ': 139,\n",
       " 'increas': 140,\n",
       " 'increas express': 141,\n",
       " 'increas ggvarentty1gg': 142,\n",
       " 'independ': 143,\n",
       " 'indic': 144,\n",
       " 'indic mmvarentty1mm': 145,\n",
       " 'induc': 146,\n",
       " 'induct': 147,\n",
       " 'inhibit': 148,\n",
       " 'inhibit ggvarentty1gg': 149,\n",
       " 'inhibit mmvarentty1mm': 150,\n",
       " 'interact': 151,\n",
       " 'invas': 152,\n",
       " 'invers': 153,\n",
       " 'invers correl': 154,\n",
       " 'investig': 155,\n",
       " 'involv': 156,\n",
       " 'knockdown': 157,\n",
       " 'known': 158,\n",
       " 'lead': 159,\n",
       " 'level': 160,\n",
       " 'level ggvarentty1gg': 161,\n",
       " 'level mmvarentty1mm': 162,\n",
       " 'line': 163,\n",
       " 'liver': 164,\n",
       " 'loss': 165,\n",
       " 'low': 166,\n",
       " 'lower': 167,\n",
       " 'luciferas': 168,\n",
       " 'luciferas report': 169,\n",
       " 'malign': 170,\n",
       " 'marker': 171,\n",
       " 'mechan': 172,\n",
       " 'medi': 173,\n",
       " 'mediat': 174,\n",
       " 'metastasi': 175,\n",
       " 'metastat': 176,\n",
       " 'method': 177,\n",
       " 'methyl': 178,\n",
       " 'mice': 179,\n",
       " 'microrna': 180,\n",
       " 'microrna mmvarentty1mm': 181,\n",
       " 'migrat': 182,\n",
       " 'migrat invas': 183,\n",
       " 'mimic': 184,\n",
       " 'mirna': 185,\n",
       " 'mirna mmvarentty1mm': 186,\n",
       " 'mmvarentty1mm 5p': 187,\n",
       " 'mmvarentty1mm downregul': 188,\n",
       " 'mmvarentty1mm express': 189,\n",
       " 'mmvarentty1mm ggvarentty1gg': 190,\n",
       " 'mmvarentty1mm ggvarentty2gg': 191,\n",
       " 'mmvarentty1mm inhibit': 192,\n",
       " 'mmvarentty1mm level': 193,\n",
       " 'mmvarentty1mm mimic': 194,\n",
       " 'mmvarentty1mm mmvarentty2mm': 195,\n",
       " 'mmvarentty1mm overexpress': 196,\n",
       " 'mmvarentty1mm play': 197,\n",
       " 'mmvarentty1mm promot': 198,\n",
       " 'mmvarentty1mm regul': 199,\n",
       " 'mmvarentty1mm significantli': 200,\n",
       " 'mmvarentty1mm suppress': 201,\n",
       " 'mmvarentty1mm target': 202,\n",
       " 'mmvarentty2mm': 203,\n",
       " 'mmvarentty2mm mmvarentty3mm': 204,\n",
       " 'mmvarentty3mm': 205,\n",
       " 'mmvarentty3mm mmvarentty4mm': 206,\n",
       " 'mmvarentty4mm': 207,\n",
       " 'mmvarentty4mm mmvarentty5mm': 208,\n",
       " 'mmvarentty5mm': 209,\n",
       " 'mmvarentty6mm': 210,\n",
       " 'model': 211,\n",
       " 'modul': 212,\n",
       " 'molecular': 213,\n",
       " 'moreov': 214,\n",
       " 'mrna': 215,\n",
       " 'mrna protein': 216,\n",
       " 'mutat': 217,\n",
       " 'neg': 218,\n",
       " 'neg regul': 219,\n",
       " 'new': 220,\n",
       " 'non': 221,\n",
       " 'normal': 222,\n",
       " 'novel': 223,\n",
       " 'nsclc': 224,\n",
       " 'observ': 225,\n",
       " 'oncogen': 226,\n",
       " 'osteosarcoma': 227,\n",
       " 'overexpress': 228,\n",
       " 'overexpress mmvarentty1mm': 229,\n",
       " 'partial': 230,\n",
       " 'pathway': 231,\n",
       " 'patient': 232,\n",
       " 'pcr': 233,\n",
       " 'phenotyp': 234,\n",
       " 'play': 235,\n",
       " 'posit': 236,\n",
       " 'possibl': 237,\n",
       " 'potenti': 238,\n",
       " 'predict': 239,\n",
       " 'present': 240,\n",
       " 'present studi': 241,\n",
       " 'primari': 242,\n",
       " 'process': 243,\n",
       " 'prognosi': 244,\n",
       " 'prognost': 245,\n",
       " 'progress': 246,\n",
       " 'prolifer': 247,\n",
       " 'promot': 248,\n",
       " 'prostat': 249,\n",
       " 'prostat cancer': 250,\n",
       " 'protein': 251,\n",
       " 'protein express': 252,\n",
       " 'protein level': 253,\n",
       " 'provid': 254,\n",
       " 'quantit': 255,\n",
       " 'reaction': 256,\n",
       " 'real': 257,\n",
       " 'real tim': 258,\n",
       " 'recent': 259,\n",
       " 'reduc': 260,\n",
       " 'reduct': 261,\n",
       " 'region': 262,\n",
       " 'regul': 263,\n",
       " 'regul express': 264,\n",
       " 'regul ggvarentty1gg': 265,\n",
       " 'regul ggvarentty2gg': 266,\n",
       " 'regul mmvarentty1mm': 267,\n",
       " 'regulatori': 268,\n",
       " 'rel': 269,\n",
       " 'relat': 270,\n",
       " 'report': 271,\n",
       " 'report assay': 272,\n",
       " 'repress': 273,\n",
       " 'resist': 274,\n",
       " 'respect': 275,\n",
       " 'respons': 276,\n",
       " 'restor': 277,\n",
       " 'result': 278,\n",
       " 'result mmvarentty1mm': 279,\n",
       " 'result suggest': 280,\n",
       " 'reveal': 281,\n",
       " 'revers': 282,\n",
       " 'risk': 283,\n",
       " 'rna': 284,\n",
       " 'role': 285,\n",
       " 'role mmvarentty1mm': 286,\n",
       " 'rt': 287,\n",
       " 'sampl': 288,\n",
       " 'sensit': 289,\n",
       " 'sequenc': 290,\n",
       " 'serum': 291,\n",
       " 'sever': 292,\n",
       " 'shown': 293,\n",
       " 'signal': 294,\n",
       " 'signal pathway': 295,\n",
       " 'signific': 296,\n",
       " 'significantli': 297,\n",
       " 'silenc': 298,\n",
       " 'site': 299,\n",
       " 'specif': 300,\n",
       " 'stage': 301,\n",
       " 'studi': 302,\n",
       " 'suggest': 303,\n",
       " 'suggest mmvarentty1mm': 304,\n",
       " 'suppress': 305,\n",
       " 'suppress ggvarentty1gg': 306,\n",
       " 'surviv': 307,\n",
       " 'taken': 308,\n",
       " 'taken togeth': 309,\n",
       " 'target': 310,\n",
       " 'target gene': 311,\n",
       " 'target ggvarentty1gg': 312,\n",
       " 'target ggvarentty2gg': 313,\n",
       " 'target mmvarentty1mm': 314,\n",
       " 'therapeut': 315,\n",
       " 'therapeut target': 316,\n",
       " 'therapi': 317,\n",
       " 'thu': 318,\n",
       " 'tim': 319,\n",
       " 'time': 320,\n",
       " 'tissu': 321,\n",
       " 'togeth': 322,\n",
       " 'transcript': 323,\n",
       " 'transfect': 324,\n",
       " 'transfect mmvarentty1mm': 325,\n",
       " 'treatment': 326,\n",
       " 'tumor': 327,\n",
       " 'type': 328,\n",
       " 'untransl': 329,\n",
       " 'untransl region': 330,\n",
       " 'upregul': 331,\n",
       " 'upregul mmvarentty1mm': 332,\n",
       " 'use': 333,\n",
       " 'utr': 334,\n",
       " 'valid': 335,\n",
       " 'vitro': 336,\n",
       " 'vivo': 337,\n",
       " 'western': 338,\n",
       " 'western blot': 339,\n",
       " 'wherea': 340}"
      ]
     },
     "execution_count": 30,
     "metadata": {},
     "output_type": "execute_result"
    }
   ],
   "source": [
    "tfidf_vectorizer.vocabulary_"
   ]
  },
  {
   "cell_type": "code",
   "execution_count": 31,
   "metadata": {
    "collapsed": false,
    "scrolled": true
   },
   "outputs": [
    {
     "data": {
      "text/plain": [
       "(10783, 341)"
      ]
     },
     "execution_count": 31,
     "metadata": {},
     "output_type": "execute_result"
    }
   ],
   "source": [
    "train_tfidf_vectors.shape"
   ]
  },
  {
   "cell_type": "code",
   "execution_count": 32,
   "metadata": {
    "collapsed": false,
    "scrolled": true
   },
   "outputs": [
    {
     "data": {
      "text/plain": [
       "array([ 0.31644033,  0.2707969 ,  0.19469512, ...,  0.40269706,\n",
       "        0.26405972,  0.38915471])"
      ]
     },
     "execution_count": 32,
     "metadata": {},
     "output_type": "execute_result"
    }
   ],
   "source": [
    "train_tfidf_vectors.data"
   ]
  },
  {
   "cell_type": "code",
   "execution_count": 33,
   "metadata": {
    "collapsed": false,
    "scrolled": true
   },
   "outputs": [
    {
     "name": "stdout",
     "output_type": "stream",
     "text": [
      "131234\n",
      "12.170453491607159\n",
      "3.5690479447528323\n"
     ]
    }
   ],
   "source": [
    "print(train_tfidf_vectors.nnz) # number of non-zero elements\n",
    "print(train_tfidf_vectors.nnz / float(train_tfidf_vectors.shape[0])) # non-zero per sample\n",
    "print(train_tfidf_vectors.nnz / float(train_tfidf_vectors.shape[0] * train_tfidf_vectors.shape[1]) * 100) # non-zero per feature space in %"
   ]
  },
  {
   "cell_type": "markdown",
   "metadata": {},
   "source": [
    "## Data Preprocessing: \n",
    "### Attributes and Target"
   ]
  },
  {
   "cell_type": "markdown",
   "metadata": {},
   "source": [
    "### Convert categorical labels into numerical labels"
   ]
  },
  {
   "cell_type": "code",
   "execution_count": 34,
   "metadata": {
    "collapsed": false,
    "scrolled": true
   },
   "outputs": [],
   "source": [
    "from sklearn import preprocessing"
   ]
  },
  {
   "cell_type": "code",
   "execution_count": 35,
   "metadata": {
    "collapsed": false,
    "scrolled": true
   },
   "outputs": [
    {
     "data": {
      "text/plain": [
       "['NO_RELATION', 'RELATION']"
      ]
     },
     "execution_count": 35,
     "metadata": {},
     "output_type": "execute_result"
    }
   ],
   "source": [
    "le = preprocessing.LabelEncoder()\n",
    "le.fit(train.Label)\n",
    "list(le.classes_)"
   ]
  },
  {
   "cell_type": "code",
   "execution_count": 36,
   "metadata": {
    "collapsed": false,
    "scrolled": true
   },
   "outputs": [
    {
     "name": "stdout",
     "output_type": "stream",
     "text": [
      "[0 0 1 1 1]\n",
      "['NO_RELATION' 'NO_RELATION' 'RELATION' 'RELATION' 'RELATION']\n"
     ]
    }
   ],
   "source": [
    "y_train = le.transform(train.Label);\n",
    "y_test = le.transform(test.Label);\n",
    "\n",
    "print(y_train[0:5])\n",
    "print(le.inverse_transform(y_train[0:5]))"
   ]
  },
  {
   "cell_type": "markdown",
   "metadata": {},
   "source": [
    "`X` is data, `y` is target. `X` has the size of `n_samples` x `n_features`, `y` has `n_samples` x 1 labels"
   ]
  },
  {
   "cell_type": "code",
   "execution_count": 37,
   "metadata": {
    "collapsed": false,
    "scrolled": true
   },
   "outputs": [],
   "source": [
    "X_train = train_tfidf_vectors"
   ]
  },
  {
   "cell_type": "code",
   "execution_count": 38,
   "metadata": {
    "collapsed": true,
    "scrolled": false
   },
   "outputs": [],
   "source": [
    "X_test = tfidf_vectorizer.transform(test.Text)"
   ]
  },
  {
   "cell_type": "code",
   "execution_count": 39,
   "metadata": {
    "collapsed": false,
    "scrolled": false
   },
   "outputs": [
    {
     "data": {
      "text/plain": [
       "(3595, 341)"
      ]
     },
     "execution_count": 39,
     "metadata": {},
     "output_type": "execute_result"
    }
   ],
   "source": [
    "X_test.shape"
   ]
  },
  {
   "cell_type": "code",
   "execution_count": 40,
   "metadata": {
    "collapsed": false,
    "scrolled": false
   },
   "outputs": [
    {
     "data": {
      "text/plain": [
       "array([ 0.22653549,  0.24207315,  0.27759155, ...,  0.17149076,\n",
       "        0.34588406,  0.18785396])"
      ]
     },
     "execution_count": 40,
     "metadata": {},
     "output_type": "execute_result"
    }
   ],
   "source": [
    "X_test.data"
   ]
  },
  {
   "cell_type": "markdown",
   "metadata": {},
   "source": [
    "## Log Res: "
   ]
  },
  {
   "cell_type": "code",
   "execution_count": 41,
   "metadata": {
    "collapsed": false,
    "scrolled": false
   },
   "outputs": [
    {
     "data": {
      "text/plain": [
       "LogisticRegression(C=100000.0, class_weight='balanced', dual=False,\n",
       "          fit_intercept=True, intercept_scaling=1, max_iter=100,\n",
       "          multi_class='ovr', n_jobs=1, penalty='l2', random_state=None,\n",
       "          solver='liblinear', tol=0.0001, verbose=0, warm_start=False)"
      ]
     },
     "execution_count": 41,
     "metadata": {},
     "output_type": "execute_result"
    }
   ],
   "source": [
    "from sklearn import linear_model\n",
    "clf = linear_model.LogisticRegression(C=1e5, class_weight='balanced')\n",
    "clf.fit(X_train, y_train)"
   ]
  },
  {
   "cell_type": "code",
   "execution_count": 42,
   "metadata": {
    "collapsed": false,
    "scrolled": true
   },
   "outputs": [],
   "source": [
    "y_pred = clf.predict(X_test)"
   ]
  },
  {
   "cell_type": "code",
   "execution_count": 43,
   "metadata": {
    "collapsed": false,
    "scrolled": true
   },
   "outputs": [
    {
     "name": "stdout",
     "output_type": "stream",
     "text": [
      "             precision    recall  f1-score   support\n",
      "\n",
      "          0       0.74      0.73      0.73      1804\n",
      "          1       0.73      0.74      0.73      1791\n",
      "\n",
      "avg / total       0.73      0.73      0.73      3595\n",
      "\n"
     ]
    }
   ],
   "source": [
    "from sklearn import metrics\n",
    "print(metrics.classification_report(y_test, y_pred))"
   ]
  },
  {
   "cell_type": "code",
   "execution_count": 44,
   "metadata": {
    "collapsed": false,
    "scrolled": true
   },
   "outputs": [
    {
     "name": "stdout",
     "output_type": "stream",
     "text": [
      "[[1308  496]\n",
      " [ 470 1321]]\n"
     ]
    }
   ],
   "source": [
    "print(metrics.confusion_matrix(y_test, y_pred))"
   ]
  },
  {
   "cell_type": "markdown",
   "metadata": {},
   "source": [
    "### Coeficients of the decision function The top word"
   ]
  },
  {
   "cell_type": "code",
   "execution_count": 45,
   "metadata": {
    "collapsed": false,
    "scrolled": false
   },
   "outputs": [
    {
     "data": {
      "text/plain": [
       "array([[  7.00840247e-01,  -7.45100515e-02,   2.69920778e+00,\n",
       "          5.07383131e-01,  -6.89658023e-01,   5.61005110e-01,\n",
       "          1.10647200e+00,   8.67853840e-01,   4.06479961e-01,\n",
       "         -5.82016373e-01,   1.11060139e+00,   3.88310953e-01,\n",
       "         -6.18821438e-02,   2.74201815e-01,   3.29218847e-01,\n",
       "          4.88445061e-03,  -1.74916636e-02,  -5.39687259e-01,\n",
       "          1.02714209e+00,   1.75231418e+00,  -9.71141008e-01,\n",
       "          3.46291298e+00,  -2.63556540e-01,   8.68203400e-01,\n",
       "         -1.79536246e+00,   5.01395567e-01,   1.39641162e+00,\n",
       "         -1.25788333e+00,   1.32858488e+00,   3.43593849e-01,\n",
       "          2.24756728e+00,   2.22755760e-01,   2.56463000e+00,\n",
       "          7.69328653e-01,   3.13943530e-01,   2.39345389e+00,\n",
       "         -4.56638764e+00,   2.69924229e-01,  -9.66875999e-02,\n",
       "          1.20398896e+00,   9.50453874e-01,   1.03955686e+00,\n",
       "         -5.66913475e-01,   4.35123093e-01,   7.40621359e-01,\n",
       "          7.49021310e-01,   5.13744591e-01,   5.44088734e-01,\n",
       "          1.32818286e-01,   2.35951598e+00,   1.64228837e+00,\n",
       "          8.72045673e-02,   1.98361986e-01,   1.38764179e-01,\n",
       "          1.30614645e+00,  -4.50700336e-01,   2.78108755e-01,\n",
       "          6.44772071e-01,   1.47630068e+00,   3.32828544e-01,\n",
       "          1.27384041e+00,  -3.26667379e-01,   6.35973694e-01,\n",
       "          4.19597253e-01,   1.72852685e+00,   9.92736583e-01,\n",
       "          2.70037384e+00,  -1.49423181e+00,  -1.21137759e+00,\n",
       "          2.21631011e+00,   1.00559881e+00,  -6.61349303e-04,\n",
       "          2.37731171e-01,   7.19509236e-01,   7.93316922e-01,\n",
       "          5.61645222e-01,   8.27994970e-01,   8.25220247e-01,\n",
       "          4.55996921e-02,   4.73770305e-01,   3.38744969e-01,\n",
       "          3.36687060e-01,   1.70005075e+00,   1.60413899e+00,\n",
       "          7.16384947e-01,  -1.53193167e-01,   2.12274490e-01,\n",
       "          1.87657825e-01,   1.03640492e+00,   1.43519790e-02,\n",
       "          3.03903140e-01,   3.01384404e-01,   9.55819550e-02,\n",
       "          2.01739849e+00,  -3.94627624e-01,  -6.61235899e-01,\n",
       "          4.42835542e-01,   2.55186166e-01,   3.09973782e+00,\n",
       "          3.11834875e+00,   3.09880917e+00,  -1.51901488e+00,\n",
       "          2.22177982e+00,   2.06767041e+00,   2.07015522e+00,\n",
       "          7.44127160e-01,   1.11206630e+00,   1.37090530e+00,\n",
       "          2.45541450e+00,   1.34119432e+00,   1.71869369e+00,\n",
       "          3.26664310e+00,  -1.00298970e+00,   1.59201356e+00,\n",
       "          1.15027869e+00,   1.37615749e+00,   6.04394154e-01,\n",
       "          1.30573728e+00,   1.55704118e+00,   1.06233709e+00,\n",
       "          6.38168882e-01,   3.74565107e-01,   1.55209538e+00,\n",
       "          9.16918343e-01,   9.17674120e-01,   2.65950302e-01,\n",
       "         -1.10124235e+00,   1.00094581e+00,  -3.88686507e-01,\n",
       "         -1.22108235e+00,   2.77813552e-01,  -6.78878277e-02,\n",
       "         -4.14318380e-01,  -6.77058173e-01,   1.47537115e+00,\n",
       "          1.05893123e+00,   1.72350587e-01,  -1.62283629e-01,\n",
       "          1.39544050e+00,   4.60131233e-01,   8.62515522e-01,\n",
       "          5.16905459e-02,   1.14735841e+00,   1.11090221e+00,\n",
       "         -3.92387714e-01,   1.71107564e+00,   2.54104090e-01,\n",
       "          2.51326182e-01,   1.24312453e+00,   7.48193701e-01,\n",
       "          1.25598124e-02,   1.87646273e+00,  -8.35995050e-02,\n",
       "          4.47445698e+00,  -1.65199813e+00,   1.84025636e-01,\n",
       "          5.28540988e-01,   1.30541573e+00,   1.42226009e+00,\n",
       "          2.71670208e-01,   1.36398203e+00,   1.00418950e+00,\n",
       "         -6.94919509e-01,  -2.24202090e+00,  -1.01042228e+00,\n",
       "          5.78669329e-01,   1.20440264e+00,   1.38708288e+00,\n",
       "          2.05058250e+00,  -5.61052109e-01,  -6.49722232e-01,\n",
       "          5.22898282e-01,   7.41381255e-01,   1.13460051e+00,\n",
       "          1.55033761e+00,  -1.03629786e+00,   1.37833207e-01,\n",
       "          1.45950038e-01,  -6.07126444e-01,  -1.14990322e+00,\n",
       "          4.93893080e-01,  -7.45855921e-02,   5.24000716e-01,\n",
       "          5.36827404e-01,   1.30156842e+00,  -5.33919248e-01,\n",
       "         -3.01773875e-01,  -1.68421321e-01,   1.49313001e-01,\n",
       "         -9.19925940e-01,   2.28710443e+00,   1.46143832e+00,\n",
       "          5.45823799e-01,  -4.62000480e-01,  -5.64843118e-01,\n",
       "          1.76211794e+00,  -6.79798332e-01,   9.03149279e-01,\n",
       "         -4.31058390e-01,   1.70547818e-01,   1.12520913e+00,\n",
       "          7.29834187e-01,   1.20815745e+00,  -8.75736288e-02,\n",
       "          4.34348336e-02,   1.53586651e+00,   2.74174436e+00,\n",
       "         -1.40956295e+00,   2.47820886e+00,   8.83574345e-01,\n",
       "         -6.98244668e-01,  -1.32793447e+00,   1.11658504e+00,\n",
       "         -8.15486946e-01,   1.00234741e+00,   1.37016191e+00,\n",
       "          5.45175360e-01,   1.75281458e+00,   1.28340529e+00,\n",
       "          9.63061352e-02,  -4.99655172e-01,  -9.50003996e-01,\n",
       "          4.35091545e-01,  -8.86374897e-02,  -2.93413783e-01,\n",
       "         -3.89675893e-01,   1.24476040e+00,   6.07973447e-01,\n",
       "          1.94698351e+00,  -1.04798945e+00,   2.75192132e+00,\n",
       "          9.57274494e-01,  -1.56445700e+00,  -1.95535367e+00,\n",
       "          1.70437617e+00,  -9.30182154e-01,   1.70890762e+00,\n",
       "          4.22533666e-01,  -4.36468999e-01,   4.68107568e-01,\n",
       "          7.79021892e-01,  -1.89471208e+00,  -3.54022258e-01,\n",
       "          8.73712458e-01,   2.09788688e-01,   4.86038557e-01,\n",
       "         -3.63379893e-02,   6.23132029e-01,   9.88669047e-01,\n",
       "          3.35030154e+00,  -1.70651284e+00,   2.39096544e+00,\n",
       "         -2.83506802e-01,   4.80507539e-01,   1.09460618e+00,\n",
       "          1.22670203e+00,   1.90003025e-01,   5.64437523e-01,\n",
       "          1.10746053e+00,  -9.78894694e-01,   1.21598886e+00,\n",
       "         -4.97647785e-02,  -2.72444292e-03,   1.26707218e+00,\n",
       "          2.06550911e+00,   2.17120248e+00,   1.14882221e+00,\n",
       "          1.00239126e+00,   1.35466655e+00,  -2.19305518e-01,\n",
       "          9.34412487e-01,   1.03203928e+00,   2.21723550e+00,\n",
       "          2.46751971e+00,   1.15590534e+00,  -1.67419096e-01,\n",
       "          7.37079610e-01,   1.96653877e+00,   3.86183128e-01,\n",
       "         -3.17617036e-01,   6.26566901e-01,   4.91800332e-01,\n",
       "          1.71006057e+00,  -1.85738092e+00,  -5.42880062e-02,\n",
       "          1.36352597e+00,  -1.53394214e+00,   2.12598132e+00,\n",
       "          4.40502484e-01,  -9.10601223e-01,   7.83080782e-01,\n",
       "         -5.71074854e-01,   4.99772073e-01,   7.53103020e-01,\n",
       "          1.49050729e+00,  -6.94312120e-01,   5.02182869e-01,\n",
       "         -7.34408496e-01,   1.03824885e+00,   2.00319512e+00,\n",
       "         -5.62026343e-01,  -1.20880156e+00,   3.03690892e-01,\n",
       "          8.13101706e-01,   5.50153183e-01,   6.37432873e-01,\n",
       "          1.75759961e+00,   6.63659442e-01,   3.04800314e+00,\n",
       "         -2.39592020e+00,   1.50215644e+00,   3.90576775e-01,\n",
       "          3.07595660e+00,   2.55357646e+00,   2.82760191e+00,\n",
       "         -4.40322681e-02,   2.22898104e-01,  -2.00105134e-01,\n",
       "          9.65691912e-01,   1.10746053e+00,   6.92563545e-01,\n",
       "         -7.14438124e-01,   5.98096572e-01,   1.38787514e+00,\n",
       "          1.27030842e+00,   3.59106447e-01,   6.08854314e-01,\n",
       "         -1.00746451e-02,   7.25179650e-02,   5.90224125e-01,\n",
       "          2.29439322e+00,   7.97157287e-01,   4.86098823e-01,\n",
       "         -1.26229766e-01,   2.16557610e+00,  -5.00491447e-01,\n",
       "          7.23054583e-01,  -1.12688565e-01,   1.58017518e+01,\n",
       "         -1.38566756e+01,  -2.70005836e-01]])"
      ]
     },
     "execution_count": 45,
     "metadata": {},
     "output_type": "execute_result"
    }
   ],
   "source": [
    "clf.coef_"
   ]
  },
  {
   "cell_type": "code",
   "execution_count": 46,
   "metadata": {
    "collapsed": false,
    "scrolled": false
   },
   "outputs": [
    {
     "data": {
      "text/plain": [
       "341"
      ]
     },
     "execution_count": 46,
     "metadata": {},
     "output_type": "execute_result"
    }
   ],
   "source": [
    "len(clf.coef_[0,])"
   ]
  },
  {
   "cell_type": "markdown",
   "metadata": {},
   "source": [
    "Get the index of coef with the maximum value."
   ]
  },
  {
   "cell_type": "code",
   "execution_count": 47,
   "metadata": {
    "collapsed": false,
    "scrolled": false
   },
   "outputs": [
    {
     "data": {
      "text/plain": [
       "338"
      ]
     },
     "execution_count": 47,
     "metadata": {},
     "output_type": "execute_result"
    }
   ],
   "source": [
    "clf.coef_.argmax()"
   ]
  },
  {
   "cell_type": "code",
   "execution_count": 48,
   "metadata": {
    "collapsed": false,
    "scrolled": false
   },
   "outputs": [
    {
     "name": "stdout",
     "output_type": "stream",
     "text": [
      "western\n"
     ]
    }
   ],
   "source": [
    "m = clf.coef_.argmax()\n",
    "print(list(tfidf_vectorizer.vocabulary_.keys())[list(tfidf_vectorizer.vocabulary_.values()).index(m)])"
   ]
  },
  {
   "cell_type": "markdown",
   "metadata": {},
   "source": [
    "Get the index of the highest 10 coef value.\n",
    "\n",
    "**Note** `clf.coef_` is ndarray, see below:"
   ]
  },
  {
   "cell_type": "code",
   "execution_count": 49,
   "metadata": {
    "collapsed": false,
    "scrolled": false
   },
   "outputs": [
    {
     "data": {
      "text/plain": [
       "array([  7.00840247e-01,  -7.45100515e-02,   2.69920778e+00,\n",
       "         5.07383131e-01,  -6.89658023e-01,   5.61005110e-01,\n",
       "         1.10647200e+00,   8.67853840e-01,   4.06479961e-01,\n",
       "        -5.82016373e-01,   1.11060139e+00,   3.88310953e-01,\n",
       "        -6.18821438e-02,   2.74201815e-01,   3.29218847e-01,\n",
       "         4.88445061e-03,  -1.74916636e-02,  -5.39687259e-01,\n",
       "         1.02714209e+00,   1.75231418e+00,  -9.71141008e-01,\n",
       "         3.46291298e+00,  -2.63556540e-01,   8.68203400e-01,\n",
       "        -1.79536246e+00,   5.01395567e-01,   1.39641162e+00,\n",
       "        -1.25788333e+00,   1.32858488e+00,   3.43593849e-01,\n",
       "         2.24756728e+00,   2.22755760e-01,   2.56463000e+00,\n",
       "         7.69328653e-01,   3.13943530e-01,   2.39345389e+00,\n",
       "        -4.56638764e+00,   2.69924229e-01,  -9.66875999e-02,\n",
       "         1.20398896e+00,   9.50453874e-01,   1.03955686e+00,\n",
       "        -5.66913475e-01,   4.35123093e-01,   7.40621359e-01,\n",
       "         7.49021310e-01,   5.13744591e-01,   5.44088734e-01,\n",
       "         1.32818286e-01,   2.35951598e+00,   1.64228837e+00,\n",
       "         8.72045673e-02,   1.98361986e-01,   1.38764179e-01,\n",
       "         1.30614645e+00,  -4.50700336e-01,   2.78108755e-01,\n",
       "         6.44772071e-01,   1.47630068e+00,   3.32828544e-01,\n",
       "         1.27384041e+00,  -3.26667379e-01,   6.35973694e-01,\n",
       "         4.19597253e-01,   1.72852685e+00,   9.92736583e-01,\n",
       "         2.70037384e+00,  -1.49423181e+00,  -1.21137759e+00,\n",
       "         2.21631011e+00,   1.00559881e+00,  -6.61349303e-04,\n",
       "         2.37731171e-01,   7.19509236e-01,   7.93316922e-01,\n",
       "         5.61645222e-01,   8.27994970e-01,   8.25220247e-01,\n",
       "         4.55996921e-02,   4.73770305e-01,   3.38744969e-01,\n",
       "         3.36687060e-01,   1.70005075e+00,   1.60413899e+00,\n",
       "         7.16384947e-01,  -1.53193167e-01,   2.12274490e-01,\n",
       "         1.87657825e-01,   1.03640492e+00,   1.43519790e-02,\n",
       "         3.03903140e-01,   3.01384404e-01,   9.55819550e-02,\n",
       "         2.01739849e+00,  -3.94627624e-01,  -6.61235899e-01,\n",
       "         4.42835542e-01,   2.55186166e-01,   3.09973782e+00,\n",
       "         3.11834875e+00,   3.09880917e+00,  -1.51901488e+00,\n",
       "         2.22177982e+00,   2.06767041e+00,   2.07015522e+00,\n",
       "         7.44127160e-01,   1.11206630e+00,   1.37090530e+00,\n",
       "         2.45541450e+00,   1.34119432e+00,   1.71869369e+00,\n",
       "         3.26664310e+00,  -1.00298970e+00,   1.59201356e+00,\n",
       "         1.15027869e+00,   1.37615749e+00,   6.04394154e-01,\n",
       "         1.30573728e+00,   1.55704118e+00,   1.06233709e+00,\n",
       "         6.38168882e-01,   3.74565107e-01,   1.55209538e+00,\n",
       "         9.16918343e-01,   9.17674120e-01,   2.65950302e-01,\n",
       "        -1.10124235e+00,   1.00094581e+00,  -3.88686507e-01,\n",
       "        -1.22108235e+00,   2.77813552e-01,  -6.78878277e-02,\n",
       "        -4.14318380e-01,  -6.77058173e-01,   1.47537115e+00,\n",
       "         1.05893123e+00,   1.72350587e-01,  -1.62283629e-01,\n",
       "         1.39544050e+00,   4.60131233e-01,   8.62515522e-01,\n",
       "         5.16905459e-02,   1.14735841e+00,   1.11090221e+00,\n",
       "        -3.92387714e-01,   1.71107564e+00,   2.54104090e-01,\n",
       "         2.51326182e-01,   1.24312453e+00,   7.48193701e-01,\n",
       "         1.25598124e-02,   1.87646273e+00,  -8.35995050e-02,\n",
       "         4.47445698e+00,  -1.65199813e+00,   1.84025636e-01,\n",
       "         5.28540988e-01,   1.30541573e+00,   1.42226009e+00,\n",
       "         2.71670208e-01,   1.36398203e+00,   1.00418950e+00,\n",
       "        -6.94919509e-01,  -2.24202090e+00,  -1.01042228e+00,\n",
       "         5.78669329e-01,   1.20440264e+00,   1.38708288e+00,\n",
       "         2.05058250e+00,  -5.61052109e-01,  -6.49722232e-01,\n",
       "         5.22898282e-01,   7.41381255e-01,   1.13460051e+00,\n",
       "         1.55033761e+00,  -1.03629786e+00,   1.37833207e-01,\n",
       "         1.45950038e-01,  -6.07126444e-01,  -1.14990322e+00,\n",
       "         4.93893080e-01,  -7.45855921e-02,   5.24000716e-01,\n",
       "         5.36827404e-01,   1.30156842e+00,  -5.33919248e-01,\n",
       "        -3.01773875e-01,  -1.68421321e-01,   1.49313001e-01,\n",
       "        -9.19925940e-01,   2.28710443e+00,   1.46143832e+00,\n",
       "         5.45823799e-01,  -4.62000480e-01,  -5.64843118e-01,\n",
       "         1.76211794e+00,  -6.79798332e-01,   9.03149279e-01,\n",
       "        -4.31058390e-01,   1.70547818e-01,   1.12520913e+00,\n",
       "         7.29834187e-01,   1.20815745e+00,  -8.75736288e-02,\n",
       "         4.34348336e-02,   1.53586651e+00,   2.74174436e+00,\n",
       "        -1.40956295e+00,   2.47820886e+00,   8.83574345e-01,\n",
       "        -6.98244668e-01,  -1.32793447e+00,   1.11658504e+00,\n",
       "        -8.15486946e-01,   1.00234741e+00,   1.37016191e+00,\n",
       "         5.45175360e-01,   1.75281458e+00,   1.28340529e+00,\n",
       "         9.63061352e-02,  -4.99655172e-01,  -9.50003996e-01,\n",
       "         4.35091545e-01,  -8.86374897e-02,  -2.93413783e-01,\n",
       "        -3.89675893e-01,   1.24476040e+00,   6.07973447e-01,\n",
       "         1.94698351e+00,  -1.04798945e+00,   2.75192132e+00,\n",
       "         9.57274494e-01,  -1.56445700e+00,  -1.95535367e+00,\n",
       "         1.70437617e+00,  -9.30182154e-01,   1.70890762e+00,\n",
       "         4.22533666e-01,  -4.36468999e-01,   4.68107568e-01,\n",
       "         7.79021892e-01,  -1.89471208e+00,  -3.54022258e-01,\n",
       "         8.73712458e-01,   2.09788688e-01,   4.86038557e-01,\n",
       "        -3.63379893e-02,   6.23132029e-01,   9.88669047e-01,\n",
       "         3.35030154e+00,  -1.70651284e+00,   2.39096544e+00,\n",
       "        -2.83506802e-01,   4.80507539e-01,   1.09460618e+00,\n",
       "         1.22670203e+00,   1.90003025e-01,   5.64437523e-01,\n",
       "         1.10746053e+00,  -9.78894694e-01,   1.21598886e+00,\n",
       "        -4.97647785e-02,  -2.72444292e-03,   1.26707218e+00,\n",
       "         2.06550911e+00,   2.17120248e+00,   1.14882221e+00,\n",
       "         1.00239126e+00,   1.35466655e+00,  -2.19305518e-01,\n",
       "         9.34412487e-01,   1.03203928e+00,   2.21723550e+00,\n",
       "         2.46751971e+00,   1.15590534e+00,  -1.67419096e-01,\n",
       "         7.37079610e-01,   1.96653877e+00,   3.86183128e-01,\n",
       "        -3.17617036e-01,   6.26566901e-01,   4.91800332e-01,\n",
       "         1.71006057e+00,  -1.85738092e+00,  -5.42880062e-02,\n",
       "         1.36352597e+00,  -1.53394214e+00,   2.12598132e+00,\n",
       "         4.40502484e-01,  -9.10601223e-01,   7.83080782e-01,\n",
       "        -5.71074854e-01,   4.99772073e-01,   7.53103020e-01,\n",
       "         1.49050729e+00,  -6.94312120e-01,   5.02182869e-01,\n",
       "        -7.34408496e-01,   1.03824885e+00,   2.00319512e+00,\n",
       "        -5.62026343e-01,  -1.20880156e+00,   3.03690892e-01,\n",
       "         8.13101706e-01,   5.50153183e-01,   6.37432873e-01,\n",
       "         1.75759961e+00,   6.63659442e-01,   3.04800314e+00,\n",
       "        -2.39592020e+00,   1.50215644e+00,   3.90576775e-01,\n",
       "         3.07595660e+00,   2.55357646e+00,   2.82760191e+00,\n",
       "        -4.40322681e-02,   2.22898104e-01,  -2.00105134e-01,\n",
       "         9.65691912e-01,   1.10746053e+00,   6.92563545e-01,\n",
       "        -7.14438124e-01,   5.98096572e-01,   1.38787514e+00,\n",
       "         1.27030842e+00,   3.59106447e-01,   6.08854314e-01,\n",
       "        -1.00746451e-02,   7.25179650e-02,   5.90224125e-01,\n",
       "         2.29439322e+00,   7.97157287e-01,   4.86098823e-01,\n",
       "        -1.26229766e-01,   2.16557610e+00,  -5.00491447e-01,\n",
       "         7.23054583e-01,  -1.12688565e-01,   1.58017518e+01,\n",
       "        -1.38566756e+01,  -2.70005836e-01])"
      ]
     },
     "execution_count": 49,
     "metadata": {},
     "output_type": "execute_result"
    }
   ],
   "source": [
    "clf.coef_[0]"
   ]
  },
  {
   "cell_type": "code",
   "execution_count": 50,
   "metadata": {
    "collapsed": false,
    "scrolled": false
   },
   "outputs": [
    {
     "name": "stdout",
     "output_type": "stream",
     "text": [
      "0.7008402467\n",
      "-0.0745100514554\n"
     ]
    }
   ],
   "source": [
    "print(clf.coef_[0][0])\n",
    "print(clf.coef_[0][1])"
   ]
  },
  {
   "cell_type": "code",
   "execution_count": 51,
   "metadata": {
    "collapsed": false,
    "scrolled": false
   },
   "outputs": [
    {
     "name": "stdout",
     "output_type": "stream",
     "text": [
      "[338 153  21 249 111  99  98 100 312 308 314 230 206  66   2  32 313 208\n",
      " 273 108]\n"
     ]
    }
   ],
   "source": [
    "import numpy as np\n",
    "topN = np.argsort(clf.coef_[0])[::-1][:20]\n",
    "print(topN)"
   ]
  },
  {
   "cell_type": "code",
   "execution_count": 52,
   "metadata": {
    "collapsed": false,
    "scrolled": false
   },
   "outputs": [
    {
     "name": "stdout",
     "output_type": "stream",
     "text": [
      "western\n",
      "invers\n",
      "blot\n",
      "prostat\n",
      "ggvarentty2gg\n",
      "gene mmvarentty1mm\n",
      "gene ggvarentty1gg\n",
      "ggvarentty1gg\n",
      "target ggvarentty1gg\n",
      "taken\n",
      "target mmvarentty1mm\n",
      "partial\n",
      "mmvarentty3mm mmvarentty4mm\n",
      "directli\n",
      "16\n",
      "cell line\n",
      "target ggvarentty2gg\n",
      "mmvarentty4mm mmvarentty5mm\n",
      "repress\n",
      "ggvarentty1gg protein\n"
     ]
    }
   ],
   "source": [
    "for v in topN:\n",
    "    print(list(tfidf_vectorizer.vocabulary_.keys())[list(tfidf_vectorizer.vocabulary_.values()).index(v)])\n"
   ]
  }
 ],
 "metadata": {
  "kernelspec": {
   "display_name": "Python 3",
   "language": "python",
   "name": "python3"
  },
  "language_info": {
   "codemirror_mode": {
    "name": "ipython",
    "version": 3
   },
   "file_extension": ".py",
   "mimetype": "text/x-python",
   "name": "python",
   "nbconvert_exporter": "python",
   "pygments_lexer": "ipython3",
   "version": "3.5.1"
  }
 },
 "nbformat": 4,
 "nbformat_minor": 0
}
